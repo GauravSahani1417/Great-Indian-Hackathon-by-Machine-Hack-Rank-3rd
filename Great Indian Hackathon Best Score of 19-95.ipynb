{
 "cells": [
  {
   "cell_type": "code",
   "execution_count": 1,
   "metadata": {
    "id": "9IUP7maqPmbu"
   },
   "outputs": [],
   "source": [
    "import matplotlib.pyplot as plt\n",
    "import pandas as pd\n",
    "import pylab as pl\n",
    "import numpy as np\n",
    "%matplotlib inline"
   ]
  },
  {
   "cell_type": "code",
   "execution_count": 2,
   "metadata": {
    "id": "JzceDl72Qs0Q"
   },
   "outputs": [],
   "source": [
    "train = pd.read_csv('GIH_Train.csv')\n",
    "test = pd.read_csv('GIH_Test.csv')\n",
    "#submission = pd.read_csv('GIH_Sample Submission.csv')"
   ]
  },
  {
   "cell_type": "code",
   "execution_count": 3,
   "metadata": {
    "colab": {
     "base_uri": "https://localhost:8080/",
     "height": 206
    },
    "id": "Zg_jkmWMRKu6",
    "outputId": "fbf7b1d8-6d25-40b8-a396-4aea146271aa"
   },
   "outputs": [
    {
     "data": {
      "text/html": [
       "<div>\n",
       "<style scoped>\n",
       "    .dataframe tbody tr th:only-of-type {\n",
       "        vertical-align: middle;\n",
       "    }\n",
       "\n",
       "    .dataframe tbody tr th {\n",
       "        vertical-align: top;\n",
       "    }\n",
       "\n",
       "    .dataframe thead th {\n",
       "        text-align: right;\n",
       "    }\n",
       "</style>\n",
       "<table border=\"1\" class=\"dataframe\">\n",
       "  <thead>\n",
       "    <tr style=\"text-align: right;\">\n",
       "      <th></th>\n",
       "      <th>InvoiceNo</th>\n",
       "      <th>StockCode</th>\n",
       "      <th>Description</th>\n",
       "      <th>Quantity</th>\n",
       "      <th>InvoiceDate</th>\n",
       "      <th>UnitPrice</th>\n",
       "      <th>CustomerID</th>\n",
       "      <th>Country</th>\n",
       "    </tr>\n",
       "  </thead>\n",
       "  <tbody>\n",
       "    <tr>\n",
       "      <th>0</th>\n",
       "      <td>6141</td>\n",
       "      <td>1583</td>\n",
       "      <td>144</td>\n",
       "      <td>3</td>\n",
       "      <td>2011-05-06 16:54:00</td>\n",
       "      <td>3.75</td>\n",
       "      <td>14056.0</td>\n",
       "      <td>35</td>\n",
       "    </tr>\n",
       "    <tr>\n",
       "      <th>1</th>\n",
       "      <td>6349</td>\n",
       "      <td>1300</td>\n",
       "      <td>3682</td>\n",
       "      <td>6</td>\n",
       "      <td>2011-05-11 07:35:00</td>\n",
       "      <td>1.95</td>\n",
       "      <td>13098.0</td>\n",
       "      <td>35</td>\n",
       "    </tr>\n",
       "    <tr>\n",
       "      <th>2</th>\n",
       "      <td>16783</td>\n",
       "      <td>2178</td>\n",
       "      <td>1939</td>\n",
       "      <td>4</td>\n",
       "      <td>2011-11-20 13:20:00</td>\n",
       "      <td>5.95</td>\n",
       "      <td>15044.0</td>\n",
       "      <td>35</td>\n",
       "    </tr>\n",
       "    <tr>\n",
       "      <th>3</th>\n",
       "      <td>16971</td>\n",
       "      <td>2115</td>\n",
       "      <td>2983</td>\n",
       "      <td>1</td>\n",
       "      <td>2011-11-22 12:07:00</td>\n",
       "      <td>0.83</td>\n",
       "      <td>15525.0</td>\n",
       "      <td>35</td>\n",
       "    </tr>\n",
       "    <tr>\n",
       "      <th>4</th>\n",
       "      <td>6080</td>\n",
       "      <td>1210</td>\n",
       "      <td>2886</td>\n",
       "      <td>12</td>\n",
       "      <td>2011-05-06 09:00:00</td>\n",
       "      <td>1.65</td>\n",
       "      <td>13952.0</td>\n",
       "      <td>35</td>\n",
       "    </tr>\n",
       "  </tbody>\n",
       "</table>\n",
       "</div>"
      ],
      "text/plain": [
       "   InvoiceNo  StockCode  Description  Quantity          InvoiceDate  \\\n",
       "0       6141       1583          144         3  2011-05-06 16:54:00   \n",
       "1       6349       1300         3682         6  2011-05-11 07:35:00   \n",
       "2      16783       2178         1939         4  2011-11-20 13:20:00   \n",
       "3      16971       2115         2983         1  2011-11-22 12:07:00   \n",
       "4       6080       1210         2886        12  2011-05-06 09:00:00   \n",
       "\n",
       "   UnitPrice  CustomerID  Country  \n",
       "0       3.75     14056.0       35  \n",
       "1       1.95     13098.0       35  \n",
       "2       5.95     15044.0       35  \n",
       "3       0.83     15525.0       35  \n",
       "4       1.65     13952.0       35  "
      ]
     },
     "execution_count": 3,
     "metadata": {},
     "output_type": "execute_result"
    }
   ],
   "source": [
    "train.head()"
   ]
  },
  {
   "cell_type": "code",
   "execution_count": 4,
   "metadata": {
    "colab": {
     "base_uri": "https://localhost:8080/"
    },
    "id": "EkH__8uaRM4v",
    "outputId": "35c89940-681a-4e8c-d7bc-5df9054e27bd"
   },
   "outputs": [
    {
     "data": {
      "text/plain": [
       "InvoiceNo      0\n",
       "StockCode      0\n",
       "Description    0\n",
       "Quantity       0\n",
       "InvoiceDate    0\n",
       "CustomerID     0\n",
       "Country        0\n",
       "dtype: int64"
      ]
     },
     "execution_count": 4,
     "metadata": {},
     "output_type": "execute_result"
    }
   ],
   "source": [
    "test.isna().sum()"
   ]
  },
  {
   "cell_type": "code",
   "execution_count": 5,
   "metadata": {
    "colab": {
     "base_uri": "https://localhost:8080/"
    },
    "id": "VjDeF9ZWDXQp",
    "outputId": "e9e8ca5a-8e78-464a-ad99-23091a5c8aeb"
   },
   "outputs": [
    {
     "data": {
      "text/plain": [
       "InvoiceNo      20971\n",
       "StockCode       3619\n",
       "Description     3819\n",
       "Quantity         373\n",
       "InvoiceDate    19451\n",
       "UnitPrice        524\n",
       "CustomerID      4339\n",
       "Country           37\n",
       "dtype: int64"
      ]
     },
     "execution_count": 5,
     "metadata": {},
     "output_type": "execute_result"
    }
   ],
   "source": [
    "train.nunique()"
   ]
  },
  {
   "cell_type": "code",
   "execution_count": 6,
   "metadata": {
    "id": "Ko6OB5iYo-or"
   },
   "outputs": [],
   "source": [
    "train['train_flag'] = 1\n",
    "test['train_flag'] = 0"
   ]
  },
  {
   "cell_type": "code",
   "execution_count": 7,
   "metadata": {
    "id": "EFkLP1YZt4_o"
   },
   "outputs": [],
   "source": [
    "data = pd.concat((train, test))"
   ]
  },
  {
   "cell_type": "code",
   "execution_count": 8,
   "metadata": {
    "colab": {
     "base_uri": "https://localhost:8080/",
     "height": 206
    },
    "id": "igwQ7Kiut8et",
    "outputId": "1ee86f89-f1be-46b8-87d0-4015ccbc7277"
   },
   "outputs": [
    {
     "data": {
      "text/html": [
       "<div>\n",
       "<style scoped>\n",
       "    .dataframe tbody tr th:only-of-type {\n",
       "        vertical-align: middle;\n",
       "    }\n",
       "\n",
       "    .dataframe tbody tr th {\n",
       "        vertical-align: top;\n",
       "    }\n",
       "\n",
       "    .dataframe thead th {\n",
       "        text-align: right;\n",
       "    }\n",
       "</style>\n",
       "<table border=\"1\" class=\"dataframe\">\n",
       "  <thead>\n",
       "    <tr style=\"text-align: right;\">\n",
       "      <th></th>\n",
       "      <th>InvoiceNo</th>\n",
       "      <th>StockCode</th>\n",
       "      <th>Description</th>\n",
       "      <th>Quantity</th>\n",
       "      <th>InvoiceDate</th>\n",
       "      <th>UnitPrice</th>\n",
       "      <th>CustomerID</th>\n",
       "      <th>Country</th>\n",
       "      <th>train_flag</th>\n",
       "    </tr>\n",
       "  </thead>\n",
       "  <tbody>\n",
       "    <tr>\n",
       "      <th>0</th>\n",
       "      <td>6141</td>\n",
       "      <td>1583</td>\n",
       "      <td>144</td>\n",
       "      <td>3</td>\n",
       "      <td>2011-05-06 16:54:00</td>\n",
       "      <td>3.75</td>\n",
       "      <td>14056.0</td>\n",
       "      <td>35</td>\n",
       "      <td>1</td>\n",
       "    </tr>\n",
       "    <tr>\n",
       "      <th>1</th>\n",
       "      <td>6349</td>\n",
       "      <td>1300</td>\n",
       "      <td>3682</td>\n",
       "      <td>6</td>\n",
       "      <td>2011-05-11 07:35:00</td>\n",
       "      <td>1.95</td>\n",
       "      <td>13098.0</td>\n",
       "      <td>35</td>\n",
       "      <td>1</td>\n",
       "    </tr>\n",
       "    <tr>\n",
       "      <th>2</th>\n",
       "      <td>16783</td>\n",
       "      <td>2178</td>\n",
       "      <td>1939</td>\n",
       "      <td>4</td>\n",
       "      <td>2011-11-20 13:20:00</td>\n",
       "      <td>5.95</td>\n",
       "      <td>15044.0</td>\n",
       "      <td>35</td>\n",
       "      <td>1</td>\n",
       "    </tr>\n",
       "    <tr>\n",
       "      <th>3</th>\n",
       "      <td>16971</td>\n",
       "      <td>2115</td>\n",
       "      <td>2983</td>\n",
       "      <td>1</td>\n",
       "      <td>2011-11-22 12:07:00</td>\n",
       "      <td>0.83</td>\n",
       "      <td>15525.0</td>\n",
       "      <td>35</td>\n",
       "      <td>1</td>\n",
       "    </tr>\n",
       "    <tr>\n",
       "      <th>4</th>\n",
       "      <td>6080</td>\n",
       "      <td>1210</td>\n",
       "      <td>2886</td>\n",
       "      <td>12</td>\n",
       "      <td>2011-05-06 09:00:00</td>\n",
       "      <td>1.65</td>\n",
       "      <td>13952.0</td>\n",
       "      <td>35</td>\n",
       "      <td>1</td>\n",
       "    </tr>\n",
       "  </tbody>\n",
       "</table>\n",
       "</div>"
      ],
      "text/plain": [
       "   InvoiceNo  StockCode  Description  Quantity          InvoiceDate  \\\n",
       "0       6141       1583          144         3  2011-05-06 16:54:00   \n",
       "1       6349       1300         3682         6  2011-05-11 07:35:00   \n",
       "2      16783       2178         1939         4  2011-11-20 13:20:00   \n",
       "3      16971       2115         2983         1  2011-11-22 12:07:00   \n",
       "4       6080       1210         2886        12  2011-05-06 09:00:00   \n",
       "\n",
       "   UnitPrice  CustomerID  Country  train_flag  \n",
       "0       3.75     14056.0       35           1  \n",
       "1       1.95     13098.0       35           1  \n",
       "2       5.95     15044.0       35           1  \n",
       "3       0.83     15525.0       35           1  \n",
       "4       1.65     13952.0       35           1  "
      ]
     },
     "execution_count": 8,
     "metadata": {},
     "output_type": "execute_result"
    }
   ],
   "source": [
    "data.head()"
   ]
  },
  {
   "cell_type": "code",
   "execution_count": 9,
   "metadata": {},
   "outputs": [],
   "source": [
    "data['Date']=data['InvoiceDate'].str.split(' ').str[0]\n",
    "#data['Time']=data['InvoiceDate'].str.split(' ').str[1]\n",
    "\n",
    "data['Year']=data['Date'].str.split('-').str[0]\n",
    "#data['Month']=data['Date'].str.split('-').str[1]\n",
    "# data['Day']=data['Date'].str.split('-').str[2]\n",
    "\n",
    "# data['Hour']=data['Time'].str.split(':').str[0]\n",
    "# data['Minute']=data['Time'].str.split(':').str[1]\n",
    "\n",
    "data=data.drop(['Date'],axis=1)\n",
    "#data=data.drop(['Time'],axis=1)\n",
    "data=data.drop(['InvoiceDate'],axis=1)"
   ]
  },
  {
   "cell_type": "code",
   "execution_count": 10,
   "metadata": {},
   "outputs": [],
   "source": [
    "data['Year']=data['Year'].astype(str)\n",
    "#data['Month']=data['Month'].astype(str)\n",
    "# data['Day']=data['Day'].astype(str)\n",
    "# data['Hour']=data['Hour'].astype(str)\n",
    "# data['Minute']=data['Minute'].astype(str)"
   ]
  },
  {
   "cell_type": "code",
   "execution_count": 11,
   "metadata": {
    "id": "ZddZ73TIt_yF"
   },
   "outputs": [],
   "source": [
    "#data.drop(columns=['InvoiceDate'],inplace=True)"
   ]
  },
  {
   "cell_type": "code",
   "execution_count": 30,
   "metadata": {},
   "outputs": [
    {
     "data": {
      "text/html": [
       "<div>\n",
       "<style scoped>\n",
       "    .dataframe tbody tr th:only-of-type {\n",
       "        vertical-align: middle;\n",
       "    }\n",
       "\n",
       "    .dataframe tbody tr th {\n",
       "        vertical-align: top;\n",
       "    }\n",
       "\n",
       "    .dataframe thead th {\n",
       "        text-align: right;\n",
       "    }\n",
       "</style>\n",
       "<table border=\"1\" class=\"dataframe\">\n",
       "  <thead>\n",
       "    <tr style=\"text-align: right;\">\n",
       "      <th></th>\n",
       "      <th>InvoiceNo</th>\n",
       "      <th>StockCode</th>\n",
       "      <th>Description</th>\n",
       "      <th>Quantity</th>\n",
       "      <th>UnitPrice</th>\n",
       "      <th>CustomerID</th>\n",
       "      <th>Country</th>\n",
       "      <th>train_flag</th>\n",
       "    </tr>\n",
       "  </thead>\n",
       "  <tbody>\n",
       "    <tr>\n",
       "      <th>InvoiceNo</th>\n",
       "      <td>1.000000</td>\n",
       "      <td>0.087392</td>\n",
       "      <td>0.023831</td>\n",
       "      <td>0.001200</td>\n",
       "      <td>0.007927</td>\n",
       "      <td>-0.005835</td>\n",
       "      <td>0.005271</td>\n",
       "      <td>0.001236</td>\n",
       "    </tr>\n",
       "    <tr>\n",
       "      <th>StockCode</th>\n",
       "      <td>0.087392</td>\n",
       "      <td>1.000000</td>\n",
       "      <td>-0.011504</td>\n",
       "      <td>0.001495</td>\n",
       "      <td>0.020073</td>\n",
       "      <td>0.003602</td>\n",
       "      <td>0.007961</td>\n",
       "      <td>0.000234</td>\n",
       "    </tr>\n",
       "    <tr>\n",
       "      <th>Description</th>\n",
       "      <td>0.023831</td>\n",
       "      <td>-0.011504</td>\n",
       "      <td>1.000000</td>\n",
       "      <td>0.000728</td>\n",
       "      <td>-0.000424</td>\n",
       "      <td>-0.004231</td>\n",
       "      <td>-0.013817</td>\n",
       "      <td>-0.001034</td>\n",
       "    </tr>\n",
       "    <tr>\n",
       "      <th>Quantity</th>\n",
       "      <td>0.001200</td>\n",
       "      <td>0.001495</td>\n",
       "      <td>0.000728</td>\n",
       "      <td>1.000000</td>\n",
       "      <td>-0.001011</td>\n",
       "      <td>-0.005102</td>\n",
       "      <td>-0.008391</td>\n",
       "      <td>0.001435</td>\n",
       "    </tr>\n",
       "    <tr>\n",
       "      <th>UnitPrice</th>\n",
       "      <td>0.007927</td>\n",
       "      <td>0.020073</td>\n",
       "      <td>-0.000424</td>\n",
       "      <td>-0.001011</td>\n",
       "      <td>1.000000</td>\n",
       "      <td>-0.004932</td>\n",
       "      <td>-0.005378</td>\n",
       "      <td>NaN</td>\n",
       "    </tr>\n",
       "    <tr>\n",
       "      <th>CustomerID</th>\n",
       "      <td>-0.005835</td>\n",
       "      <td>0.003602</td>\n",
       "      <td>-0.004231</td>\n",
       "      <td>-0.005102</td>\n",
       "      <td>-0.004932</td>\n",
       "      <td>1.000000</td>\n",
       "      <td>0.388294</td>\n",
       "      <td>0.000476</td>\n",
       "    </tr>\n",
       "    <tr>\n",
       "      <th>Country</th>\n",
       "      <td>0.005271</td>\n",
       "      <td>0.007961</td>\n",
       "      <td>-0.013817</td>\n",
       "      <td>-0.008391</td>\n",
       "      <td>-0.005378</td>\n",
       "      <td>0.388294</td>\n",
       "      <td>1.000000</td>\n",
       "      <td>-0.000881</td>\n",
       "    </tr>\n",
       "    <tr>\n",
       "      <th>train_flag</th>\n",
       "      <td>0.001236</td>\n",
       "      <td>0.000234</td>\n",
       "      <td>-0.001034</td>\n",
       "      <td>0.001435</td>\n",
       "      <td>NaN</td>\n",
       "      <td>0.000476</td>\n",
       "      <td>-0.000881</td>\n",
       "      <td>1.000000</td>\n",
       "    </tr>\n",
       "  </tbody>\n",
       "</table>\n",
       "</div>"
      ],
      "text/plain": [
       "             InvoiceNo  StockCode  Description  Quantity  UnitPrice  \\\n",
       "InvoiceNo     1.000000   0.087392     0.023831  0.001200   0.007927   \n",
       "StockCode     0.087392   1.000000    -0.011504  0.001495   0.020073   \n",
       "Description   0.023831  -0.011504     1.000000  0.000728  -0.000424   \n",
       "Quantity      0.001200   0.001495     0.000728  1.000000  -0.001011   \n",
       "UnitPrice     0.007927   0.020073    -0.000424 -0.001011   1.000000   \n",
       "CustomerID   -0.005835   0.003602    -0.004231 -0.005102  -0.004932   \n",
       "Country       0.005271   0.007961    -0.013817 -0.008391  -0.005378   \n",
       "train_flag    0.001236   0.000234    -0.001034  0.001435        NaN   \n",
       "\n",
       "             CustomerID   Country  train_flag  \n",
       "InvoiceNo     -0.005835  0.005271    0.001236  \n",
       "StockCode      0.003602  0.007961    0.000234  \n",
       "Description   -0.004231 -0.013817   -0.001034  \n",
       "Quantity      -0.005102 -0.008391    0.001435  \n",
       "UnitPrice     -0.004932 -0.005378         NaN  \n",
       "CustomerID     1.000000  0.388294    0.000476  \n",
       "Country        0.388294  1.000000   -0.000881  \n",
       "train_flag     0.000476 -0.000881    1.000000  "
      ]
     },
     "execution_count": 30,
     "metadata": {},
     "output_type": "execute_result"
    }
   ],
   "source": [
    "data.corr()"
   ]
  },
  {
   "cell_type": "code",
   "execution_count": 12,
   "metadata": {
    "colab": {
     "base_uri": "https://localhost:8080/",
     "height": 206
    },
    "id": "6_sK5PC8uaC_",
    "outputId": "7d69eaf1-7018-4519-aebd-965cb3c53144"
   },
   "outputs": [
    {
     "data": {
      "text/html": [
       "<div>\n",
       "<style scoped>\n",
       "    .dataframe tbody tr th:only-of-type {\n",
       "        vertical-align: middle;\n",
       "    }\n",
       "\n",
       "    .dataframe tbody tr th {\n",
       "        vertical-align: top;\n",
       "    }\n",
       "\n",
       "    .dataframe thead th {\n",
       "        text-align: right;\n",
       "    }\n",
       "</style>\n",
       "<table border=\"1\" class=\"dataframe\">\n",
       "  <thead>\n",
       "    <tr style=\"text-align: right;\">\n",
       "      <th></th>\n",
       "      <th>InvoiceNo</th>\n",
       "      <th>StockCode</th>\n",
       "      <th>Description</th>\n",
       "      <th>Quantity</th>\n",
       "      <th>UnitPrice</th>\n",
       "      <th>CustomerID</th>\n",
       "      <th>Country</th>\n",
       "      <th>train_flag</th>\n",
       "      <th>Year</th>\n",
       "    </tr>\n",
       "  </thead>\n",
       "  <tbody>\n",
       "    <tr>\n",
       "      <th>0</th>\n",
       "      <td>6141</td>\n",
       "      <td>1583</td>\n",
       "      <td>144</td>\n",
       "      <td>3</td>\n",
       "      <td>3.75</td>\n",
       "      <td>14056.0</td>\n",
       "      <td>35</td>\n",
       "      <td>1</td>\n",
       "      <td>2011</td>\n",
       "    </tr>\n",
       "    <tr>\n",
       "      <th>1</th>\n",
       "      <td>6349</td>\n",
       "      <td>1300</td>\n",
       "      <td>3682</td>\n",
       "      <td>6</td>\n",
       "      <td>1.95</td>\n",
       "      <td>13098.0</td>\n",
       "      <td>35</td>\n",
       "      <td>1</td>\n",
       "      <td>2011</td>\n",
       "    </tr>\n",
       "    <tr>\n",
       "      <th>2</th>\n",
       "      <td>16783</td>\n",
       "      <td>2178</td>\n",
       "      <td>1939</td>\n",
       "      <td>4</td>\n",
       "      <td>5.95</td>\n",
       "      <td>15044.0</td>\n",
       "      <td>35</td>\n",
       "      <td>1</td>\n",
       "      <td>2011</td>\n",
       "    </tr>\n",
       "    <tr>\n",
       "      <th>3</th>\n",
       "      <td>16971</td>\n",
       "      <td>2115</td>\n",
       "      <td>2983</td>\n",
       "      <td>1</td>\n",
       "      <td>0.83</td>\n",
       "      <td>15525.0</td>\n",
       "      <td>35</td>\n",
       "      <td>1</td>\n",
       "      <td>2011</td>\n",
       "    </tr>\n",
       "    <tr>\n",
       "      <th>4</th>\n",
       "      <td>6080</td>\n",
       "      <td>1210</td>\n",
       "      <td>2886</td>\n",
       "      <td>12</td>\n",
       "      <td>1.65</td>\n",
       "      <td>13952.0</td>\n",
       "      <td>35</td>\n",
       "      <td>1</td>\n",
       "      <td>2011</td>\n",
       "    </tr>\n",
       "  </tbody>\n",
       "</table>\n",
       "</div>"
      ],
      "text/plain": [
       "   InvoiceNo  StockCode  Description  Quantity  UnitPrice  CustomerID  \\\n",
       "0       6141       1583          144         3       3.75     14056.0   \n",
       "1       6349       1300         3682         6       1.95     13098.0   \n",
       "2      16783       2178         1939         4       5.95     15044.0   \n",
       "3      16971       2115         2983         1       0.83     15525.0   \n",
       "4       6080       1210         2886        12       1.65     13952.0   \n",
       "\n",
       "   Country  train_flag  Year  \n",
       "0       35           1  2011  \n",
       "1       35           1  2011  \n",
       "2       35           1  2011  \n",
       "3       35           1  2011  \n",
       "4       35           1  2011  "
      ]
     },
     "execution_count": 12,
     "metadata": {},
     "output_type": "execute_result"
    }
   ],
   "source": [
    "data.head()"
   ]
  },
  {
   "cell_type": "code",
   "execution_count": 13,
   "metadata": {
    "id": "J28bYuDUujKu"
   },
   "outputs": [],
   "source": [
    "data['Quantity']=abs(data['Quantity'])"
   ]
  },
  {
   "cell_type": "code",
   "execution_count": 14,
   "metadata": {
    "id": "hNnYWBQNvKT6"
   },
   "outputs": [],
   "source": [
    "train, test = data[data.train_flag == 1], data[data.train_flag == 0]"
   ]
  },
  {
   "cell_type": "code",
   "execution_count": 15,
   "metadata": {
    "colab": {
     "base_uri": "https://localhost:8080/"
    },
    "id": "kUslp0rAv2r5",
    "outputId": "503168b6-98a9-4f90-8db2-0dbec6a0b725"
   },
   "outputs": [
    {
     "name": "stderr",
     "output_type": "stream",
     "text": [
      "D:\\anaconda\\lib\\site-packages\\pandas\\core\\frame.py:3997: SettingWithCopyWarning: \n",
      "A value is trying to be set on a copy of a slice from a DataFrame\n",
      "\n",
      "See the caveats in the documentation: https://pandas.pydata.org/pandas-docs/stable/user_guide/indexing.html#returning-a-view-versus-a-copy\n",
      "  errors=errors,\n"
     ]
    }
   ],
   "source": [
    "label_col=\"UnitPrice\"\n",
    "train.drop(['train_flag'], inplace=True, axis=1)\n",
    "test.drop(['train_flag'], inplace=True, axis=1)\n",
    "test.drop([label_col], inplace=True, axis=1)"
   ]
  },
  {
   "cell_type": "code",
   "execution_count": 16,
   "metadata": {
    "colab": {
     "base_uri": "https://localhost:8080/",
     "height": 206
    },
    "id": "j-Hh6oNixAoO",
    "outputId": "49fbe4ea-c3f3-429a-8d1e-c5fd9312621f"
   },
   "outputs": [
    {
     "data": {
      "text/html": [
       "<div>\n",
       "<style scoped>\n",
       "    .dataframe tbody tr th:only-of-type {\n",
       "        vertical-align: middle;\n",
       "    }\n",
       "\n",
       "    .dataframe tbody tr th {\n",
       "        vertical-align: top;\n",
       "    }\n",
       "\n",
       "    .dataframe thead th {\n",
       "        text-align: right;\n",
       "    }\n",
       "</style>\n",
       "<table border=\"1\" class=\"dataframe\">\n",
       "  <thead>\n",
       "    <tr style=\"text-align: right;\">\n",
       "      <th></th>\n",
       "      <th>InvoiceNo</th>\n",
       "      <th>StockCode</th>\n",
       "      <th>Description</th>\n",
       "      <th>Quantity</th>\n",
       "      <th>UnitPrice</th>\n",
       "      <th>CustomerID</th>\n",
       "      <th>Country</th>\n",
       "      <th>Year</th>\n",
       "    </tr>\n",
       "  </thead>\n",
       "  <tbody>\n",
       "    <tr>\n",
       "      <th>0</th>\n",
       "      <td>6141</td>\n",
       "      <td>1583</td>\n",
       "      <td>144</td>\n",
       "      <td>3</td>\n",
       "      <td>3.75</td>\n",
       "      <td>14056.0</td>\n",
       "      <td>35</td>\n",
       "      <td>2011</td>\n",
       "    </tr>\n",
       "    <tr>\n",
       "      <th>1</th>\n",
       "      <td>6349</td>\n",
       "      <td>1300</td>\n",
       "      <td>3682</td>\n",
       "      <td>6</td>\n",
       "      <td>1.95</td>\n",
       "      <td>13098.0</td>\n",
       "      <td>35</td>\n",
       "      <td>2011</td>\n",
       "    </tr>\n",
       "    <tr>\n",
       "      <th>2</th>\n",
       "      <td>16783</td>\n",
       "      <td>2178</td>\n",
       "      <td>1939</td>\n",
       "      <td>4</td>\n",
       "      <td>5.95</td>\n",
       "      <td>15044.0</td>\n",
       "      <td>35</td>\n",
       "      <td>2011</td>\n",
       "    </tr>\n",
       "    <tr>\n",
       "      <th>3</th>\n",
       "      <td>16971</td>\n",
       "      <td>2115</td>\n",
       "      <td>2983</td>\n",
       "      <td>1</td>\n",
       "      <td>0.83</td>\n",
       "      <td>15525.0</td>\n",
       "      <td>35</td>\n",
       "      <td>2011</td>\n",
       "    </tr>\n",
       "    <tr>\n",
       "      <th>4</th>\n",
       "      <td>6080</td>\n",
       "      <td>1210</td>\n",
       "      <td>2886</td>\n",
       "      <td>12</td>\n",
       "      <td>1.65</td>\n",
       "      <td>13952.0</td>\n",
       "      <td>35</td>\n",
       "      <td>2011</td>\n",
       "    </tr>\n",
       "  </tbody>\n",
       "</table>\n",
       "</div>"
      ],
      "text/plain": [
       "   InvoiceNo  StockCode  Description  Quantity  UnitPrice  CustomerID  \\\n",
       "0       6141       1583          144         3       3.75     14056.0   \n",
       "1       6349       1300         3682         6       1.95     13098.0   \n",
       "2      16783       2178         1939         4       5.95     15044.0   \n",
       "3      16971       2115         2983         1       0.83     15525.0   \n",
       "4       6080       1210         2886        12       1.65     13952.0   \n",
       "\n",
       "   Country  Year  \n",
       "0       35  2011  \n",
       "1       35  2011  \n",
       "2       35  2011  \n",
       "3       35  2011  \n",
       "4       35  2011  "
      ]
     },
     "execution_count": 16,
     "metadata": {},
     "output_type": "execute_result"
    }
   ],
   "source": [
    "train.head()"
   ]
  },
  {
   "cell_type": "code",
   "execution_count": 17,
   "metadata": {
    "colab": {
     "base_uri": "https://localhost:8080/"
    },
    "id": "IjTl7iQB7BY7",
    "outputId": "6f3ab218-2491-4ada-8746-259f14a1d48f"
   },
   "outputs": [
    {
     "name": "stderr",
     "output_type": "stream",
     "text": [
      "D:\\anaconda\\lib\\site-packages\\ipykernel_launcher.py:1: SettingWithCopyWarning: \n",
      "A value is trying to be set on a copy of a slice from a DataFrame.\n",
      "Try using .loc[row_indexer,col_indexer] = value instead\n",
      "\n",
      "See the caveats in the documentation: https://pandas.pydata.org/pandas-docs/stable/user_guide/indexing.html#returning-a-view-versus-a-copy\n",
      "  \"\"\"Entry point for launching an IPython kernel.\n",
      "D:\\anaconda\\lib\\site-packages\\ipykernel_launcher.py:2: SettingWithCopyWarning: \n",
      "A value is trying to be set on a copy of a slice from a DataFrame.\n",
      "Try using .loc[row_indexer,col_indexer] = value instead\n",
      "\n",
      "See the caveats in the documentation: https://pandas.pydata.org/pandas-docs/stable/user_guide/indexing.html#returning-a-view-versus-a-copy\n",
      "  \n",
      "D:\\anaconda\\lib\\site-packages\\ipykernel_launcher.py:3: SettingWithCopyWarning: \n",
      "A value is trying to be set on a copy of a slice from a DataFrame.\n",
      "Try using .loc[row_indexer,col_indexer] = value instead\n",
      "\n",
      "See the caveats in the documentation: https://pandas.pydata.org/pandas-docs/stable/user_guide/indexing.html#returning-a-view-versus-a-copy\n",
      "  This is separate from the ipykernel package so we can avoid doing imports until\n",
      "D:\\anaconda\\lib\\site-packages\\ipykernel_launcher.py:4: SettingWithCopyWarning: \n",
      "A value is trying to be set on a copy of a slice from a DataFrame.\n",
      "Try using .loc[row_indexer,col_indexer] = value instead\n",
      "\n",
      "See the caveats in the documentation: https://pandas.pydata.org/pandas-docs/stable/user_guide/indexing.html#returning-a-view-versus-a-copy\n",
      "  after removing the cwd from sys.path.\n",
      "D:\\anaconda\\lib\\site-packages\\ipykernel_launcher.py:5: SettingWithCopyWarning: \n",
      "A value is trying to be set on a copy of a slice from a DataFrame.\n",
      "Try using .loc[row_indexer,col_indexer] = value instead\n",
      "\n",
      "See the caveats in the documentation: https://pandas.pydata.org/pandas-docs/stable/user_guide/indexing.html#returning-a-view-versus-a-copy\n",
      "  \"\"\"\n"
     ]
    }
   ],
   "source": [
    "train['InvoiceNo']=train['InvoiceNo'].astype(str)\n",
    "train['StockCode']=train['StockCode'].astype(str)\n",
    "train['Description']=train['Description'].astype(str)\n",
    "train['CustomerID']=train['CustomerID'].astype(str)\n",
    "train['Country']=train['Country'].astype(str)"
   ]
  },
  {
   "cell_type": "code",
   "execution_count": 18,
   "metadata": {
    "id": "LEw7SQj65rmA"
   },
   "outputs": [],
   "source": [
    "X_train=train.drop(columns=['UnitPrice'])\n",
    "Y_train=train['UnitPrice']"
   ]
  },
  {
   "cell_type": "code",
   "execution_count": 19,
   "metadata": {
    "colab": {
     "base_uri": "https://localhost:8080/"
    },
    "id": "vQ80yg_b6D-x",
    "outputId": "b9c3ff9b-d6cf-4824-e86f-82162acc4c8f"
   },
   "outputs": [
    {
     "data": {
      "text/plain": [
       "0    3.75\n",
       "1    1.95\n",
       "2    5.95\n",
       "3    0.83\n",
       "4    1.65\n",
       "Name: UnitPrice, dtype: float64"
      ]
     },
     "execution_count": 19,
     "metadata": {},
     "output_type": "execute_result"
    }
   ],
   "source": [
    "Y_train.head()"
   ]
  },
  {
   "cell_type": "code",
   "execution_count": 20,
   "metadata": {
    "id": "DR9K8IXYxEDO"
   },
   "outputs": [],
   "source": [
    "from catboost import CatBoostRegressor\n",
    "\n",
    "cfi = ['InvoiceNo', 'StockCode', 'Description', 'CustomerID', 'Country','Quantity','Year']\n",
    "\n",
    "model = CatBoostRegressor(\n",
    "    iterations=870, depth=5, learning_rate=0.053993,\n",
    "    loss_function = 'RMSE',\n",
    "    cat_features = cfi )"
   ]
  },
  {
   "cell_type": "code",
   "execution_count": 21,
   "metadata": {
    "colab": {
     "base_uri": "https://localhost:8080/",
     "height": 1000,
     "referenced_widgets": [
      "bdd0a9085ac6460494beef87c74863b7",
      "f1f8d34e606b4065b0a2d7653eee1dcd"
     ]
    },
    "id": "IO_7ydbf6KGj",
    "outputId": "e79ef776-aa85-4137-961a-47e475837407"
   },
   "outputs": [
    {
     "name": "stdout",
     "output_type": "stream",
     "text": [
      "0:\tlearn: 78.3212234\ttotal: 288ms\tremaining: 4m 10s\n",
      "1:\tlearn: 77.8994113\ttotal: 471ms\tremaining: 3m 24s\n",
      "2:\tlearn: 77.7314876\ttotal: 615ms\tremaining: 2m 57s\n",
      "3:\tlearn: 77.6538151\ttotal: 667ms\tremaining: 2m 24s\n",
      "4:\tlearn: 77.3299887\ttotal: 933ms\tremaining: 2m 41s\n",
      "5:\tlearn: 77.2718517\ttotal: 1.13s\tremaining: 2m 42s\n",
      "6:\tlearn: 77.1953650\ttotal: 1.18s\tremaining: 2m 25s\n",
      "7:\tlearn: 77.1483863\ttotal: 1.22s\tremaining: 2m 11s\n",
      "8:\tlearn: 76.8457726\ttotal: 1.48s\tremaining: 2m 21s\n",
      "9:\tlearn: 76.7993639\ttotal: 1.53s\tremaining: 2m 11s\n",
      "10:\tlearn: 76.7137791\ttotal: 1.67s\tremaining: 2m 10s\n",
      "11:\tlearn: 76.6909862\ttotal: 1.73s\tremaining: 2m 3s\n",
      "12:\tlearn: 76.6745481\ttotal: 1.83s\tremaining: 2m\n",
      "13:\tlearn: 76.3289792\ttotal: 1.9s\tremaining: 1m 55s\n",
      "14:\tlearn: 76.2958739\ttotal: 1.94s\tremaining: 1m 50s\n",
      "15:\tlearn: 76.0451057\ttotal: 1.99s\tremaining: 1m 46s\n",
      "16:\tlearn: 75.9801984\ttotal: 2.08s\tremaining: 1m 44s\n",
      "17:\tlearn: 75.8293595\ttotal: 2.3s\tremaining: 1m 48s\n",
      "18:\tlearn: 75.2780574\ttotal: 2.35s\tremaining: 1m 45s\n",
      "19:\tlearn: 75.2192020\ttotal: 2.39s\tremaining: 1m 41s\n",
      "20:\tlearn: 75.1700056\ttotal: 2.45s\tremaining: 1m 39s\n",
      "21:\tlearn: 75.0838782\ttotal: 2.5s\tremaining: 1m 36s\n",
      "22:\tlearn: 75.0383896\ttotal: 2.55s\tremaining: 1m 33s\n",
      "23:\tlearn: 75.0008945\ttotal: 2.6s\tremaining: 1m 31s\n",
      "24:\tlearn: 74.9773647\ttotal: 2.78s\tremaining: 1m 33s\n",
      "25:\tlearn: 74.9692830\ttotal: 2.83s\tremaining: 1m 31s\n",
      "26:\tlearn: 74.9600206\ttotal: 2.91s\tremaining: 1m 30s\n",
      "27:\tlearn: 74.9253379\ttotal: 2.96s\tremaining: 1m 29s\n",
      "28:\tlearn: 74.8965213\ttotal: 3.01s\tremaining: 1m 27s\n",
      "29:\tlearn: 74.8687883\ttotal: 3.06s\tremaining: 1m 25s\n",
      "30:\tlearn: 74.8212013\ttotal: 3.14s\tremaining: 1m 24s\n",
      "31:\tlearn: 74.7588036\ttotal: 3.27s\tremaining: 1m 25s\n",
      "32:\tlearn: 74.4676057\ttotal: 3.32s\tremaining: 1m 24s\n",
      "33:\tlearn: 74.4620671\ttotal: 3.42s\tremaining: 1m 24s\n",
      "34:\tlearn: 74.4101238\ttotal: 3.5s\tremaining: 1m 23s\n",
      "35:\tlearn: 74.3862711\ttotal: 3.67s\tremaining: 1m 24s\n",
      "36:\tlearn: 74.3367520\ttotal: 3.71s\tremaining: 1m 23s\n",
      "37:\tlearn: 74.3339631\ttotal: 3.84s\tremaining: 1m 24s\n",
      "38:\tlearn: 74.3334793\ttotal: 3.91s\tremaining: 1m 23s\n",
      "39:\tlearn: 74.3117007\ttotal: 3.98s\tremaining: 1m 22s\n",
      "40:\tlearn: 74.2904473\ttotal: 4.12s\tremaining: 1m 23s\n",
      "41:\tlearn: 74.2717054\ttotal: 4.23s\tremaining: 1m 23s\n",
      "42:\tlearn: 73.7347665\ttotal: 4.31s\tremaining: 1m 22s\n",
      "43:\tlearn: 73.6990789\ttotal: 4.39s\tremaining: 1m 22s\n",
      "44:\tlearn: 73.6973130\ttotal: 4.46s\tremaining: 1m 21s\n",
      "45:\tlearn: 73.6730698\ttotal: 4.53s\tremaining: 1m 21s\n",
      "46:\tlearn: 73.6257615\ttotal: 4.86s\tremaining: 1m 25s\n",
      "47:\tlearn: 73.6019932\ttotal: 5.04s\tremaining: 1m 26s\n",
      "48:\tlearn: 73.5990361\ttotal: 5.34s\tremaining: 1m 29s\n",
      "49:\tlearn: 73.5961877\ttotal: 5.4s\tremaining: 1m 28s\n",
      "50:\tlearn: 73.5930540\ttotal: 5.46s\tremaining: 1m 27s\n",
      "51:\tlearn: 73.5654797\ttotal: 5.53s\tremaining: 1m 26s\n",
      "52:\tlearn: 73.5642802\ttotal: 5.59s\tremaining: 1m 26s\n",
      "53:\tlearn: 73.5611256\ttotal: 5.66s\tremaining: 1m 25s\n",
      "54:\tlearn: 73.5518585\ttotal: 5.85s\tremaining: 1m 26s\n",
      "55:\tlearn: 73.5294822\ttotal: 5.97s\tremaining: 1m 26s\n",
      "56:\tlearn: 73.5022413\ttotal: 6.02s\tremaining: 1m 25s\n",
      "57:\tlearn: 73.4940279\ttotal: 6.08s\tremaining: 1m 25s\n",
      "58:\tlearn: 73.4877550\ttotal: 6.25s\tremaining: 1m 25s\n",
      "59:\tlearn: 73.4674987\ttotal: 6.32s\tremaining: 1m 25s\n",
      "60:\tlearn: 73.4632724\ttotal: 6.37s\tremaining: 1m 24s\n",
      "61:\tlearn: 73.4631969\ttotal: 6.41s\tremaining: 1m 23s\n",
      "62:\tlearn: 73.4382209\ttotal: 6.46s\tremaining: 1m 22s\n",
      "63:\tlearn: 73.4281730\ttotal: 6.53s\tremaining: 1m 22s\n",
      "64:\tlearn: 73.4279398\ttotal: 6.6s\tremaining: 1m 21s\n",
      "65:\tlearn: 73.4098063\ttotal: 6.8s\tremaining: 1m 22s\n",
      "66:\tlearn: 73.4081574\ttotal: 6.86s\tremaining: 1m 22s\n",
      "67:\tlearn: 73.3895670\ttotal: 6.91s\tremaining: 1m 21s\n",
      "68:\tlearn: 73.3721674\ttotal: 6.96s\tremaining: 1m 20s\n",
      "69:\tlearn: 73.3504010\ttotal: 7.01s\tremaining: 1m 20s\n",
      "70:\tlearn: 73.3503183\ttotal: 7.06s\tremaining: 1m 19s\n",
      "71:\tlearn: 73.3472831\ttotal: 7.11s\tremaining: 1m 18s\n",
      "72:\tlearn: 73.3341913\ttotal: 7.25s\tremaining: 1m 19s\n",
      "73:\tlearn: 73.3178811\ttotal: 7.3s\tremaining: 1m 18s\n",
      "74:\tlearn: 73.3136803\ttotal: 7.35s\tremaining: 1m 17s\n",
      "75:\tlearn: 73.2802885\ttotal: 7.41s\tremaining: 1m 17s\n",
      "76:\tlearn: 73.2802606\ttotal: 7.46s\tremaining: 1m 16s\n",
      "77:\tlearn: 73.2711154\ttotal: 7.58s\tremaining: 1m 16s\n",
      "78:\tlearn: 73.2087277\ttotal: 7.76s\tremaining: 1m 17s\n",
      "79:\tlearn: 73.2087219\ttotal: 7.82s\tremaining: 1m 17s\n",
      "80:\tlearn: 73.1951532\ttotal: 7.88s\tremaining: 1m 16s\n",
      "81:\tlearn: 73.1951406\ttotal: 7.92s\tremaining: 1m 16s\n",
      "82:\tlearn: 73.1729356\ttotal: 7.97s\tremaining: 1m 15s\n",
      "83:\tlearn: 73.1626152\ttotal: 8.05s\tremaining: 1m 15s\n",
      "84:\tlearn: 73.1430937\ttotal: 8.1s\tremaining: 1m 14s\n",
      "85:\tlearn: 73.1400065\ttotal: 8.15s\tremaining: 1m 14s\n",
      "86:\tlearn: 73.1304702\ttotal: 8.28s\tremaining: 1m 14s\n",
      "87:\tlearn: 73.1300109\ttotal: 8.34s\tremaining: 1m 14s\n",
      "88:\tlearn: 73.1278823\ttotal: 8.47s\tremaining: 1m 14s\n",
      "89:\tlearn: 73.1192718\ttotal: 8.54s\tremaining: 1m 13s\n",
      "90:\tlearn: 73.1189305\ttotal: 8.59s\tremaining: 1m 13s\n",
      "91:\tlearn: 73.0715270\ttotal: 8.65s\tremaining: 1m 13s\n",
      "92:\tlearn: 72.8485989\ttotal: 8.7s\tremaining: 1m 12s\n",
      "93:\tlearn: 72.8485737\ttotal: 8.75s\tremaining: 1m 12s\n",
      "94:\tlearn: 72.8347060\ttotal: 8.81s\tremaining: 1m 11s\n",
      "95:\tlearn: 72.8346856\ttotal: 8.86s\tremaining: 1m 11s\n",
      "96:\tlearn: 72.8256470\ttotal: 8.95s\tremaining: 1m 11s\n",
      "97:\tlearn: 72.8171872\ttotal: 9.01s\tremaining: 1m 10s\n",
      "98:\tlearn: 72.8100929\ttotal: 9.06s\tremaining: 1m 10s\n",
      "99:\tlearn: 72.6125283\ttotal: 9.11s\tremaining: 1m 10s\n",
      "100:\tlearn: 72.6116544\ttotal: 9.16s\tremaining: 1m 9s\n",
      "101:\tlearn: 72.6116171\ttotal: 9.22s\tremaining: 1m 9s\n",
      "102:\tlearn: 72.6115015\ttotal: 9.27s\tremaining: 1m 9s\n",
      "103:\tlearn: 72.6101106\ttotal: 9.32s\tremaining: 1m 8s\n",
      "104:\tlearn: 72.6043891\ttotal: 9.45s\tremaining: 1m 8s\n",
      "105:\tlearn: 72.6030032\ttotal: 9.49s\tremaining: 1m 8s\n",
      "106:\tlearn: 72.6000243\ttotal: 9.55s\tremaining: 1m 8s\n",
      "107:\tlearn: 72.5931024\ttotal: 9.61s\tremaining: 1m 7s\n",
      "108:\tlearn: 72.5907586\ttotal: 9.66s\tremaining: 1m 7s\n",
      "109:\tlearn: 72.5848848\ttotal: 9.73s\tremaining: 1m 7s\n",
      "110:\tlearn: 72.5848339\ttotal: 9.77s\tremaining: 1m 6s\n",
      "111:\tlearn: 72.5809997\ttotal: 9.83s\tremaining: 1m 6s\n",
      "112:\tlearn: 72.5802521\ttotal: 9.88s\tremaining: 1m 6s\n",
      "113:\tlearn: 72.5490465\ttotal: 9.96s\tremaining: 1m 6s\n",
      "114:\tlearn: 72.5294966\ttotal: 10s\tremaining: 1m 5s\n",
      "115:\tlearn: 72.5205492\ttotal: 10.1s\tremaining: 1m 5s\n",
      "116:\tlearn: 72.5181799\ttotal: 10.1s\tremaining: 1m 5s\n",
      "117:\tlearn: 72.5176279\ttotal: 10.2s\tremaining: 1m 4s\n",
      "118:\tlearn: 72.5165340\ttotal: 10.2s\tremaining: 1m 4s\n",
      "119:\tlearn: 72.4993003\ttotal: 10.3s\tremaining: 1m 4s\n",
      "120:\tlearn: 72.4817493\ttotal: 10.4s\tremaining: 1m 4s\n",
      "121:\tlearn: 72.4798809\ttotal: 10.4s\tremaining: 1m 3s\n",
      "122:\tlearn: 72.4754690\ttotal: 10.5s\tremaining: 1m 3s\n",
      "123:\tlearn: 72.4737314\ttotal: 10.6s\tremaining: 1m 3s\n",
      "124:\tlearn: 72.4728403\ttotal: 10.7s\tremaining: 1m 3s\n",
      "125:\tlearn: 72.4681931\ttotal: 10.8s\tremaining: 1m 3s\n",
      "126:\tlearn: 72.4648653\ttotal: 10.8s\tremaining: 1m 3s\n",
      "127:\tlearn: 72.4632310\ttotal: 10.9s\tremaining: 1m 3s\n",
      "128:\tlearn: 72.4631297\ttotal: 11s\tremaining: 1m 2s\n",
      "129:\tlearn: 72.4603366\ttotal: 11s\tremaining: 1m 2s\n",
      "130:\tlearn: 72.4484673\ttotal: 11.1s\tremaining: 1m 2s\n",
      "131:\tlearn: 72.4483098\ttotal: 11.1s\tremaining: 1m 2s\n",
      "132:\tlearn: 72.4460198\ttotal: 11.2s\tremaining: 1m 2s\n",
      "133:\tlearn: 72.4453365\ttotal: 11.3s\tremaining: 1m 1s\n",
      "134:\tlearn: 72.4438160\ttotal: 11.3s\tremaining: 1m 1s\n",
      "135:\tlearn: 72.4436568\ttotal: 11.4s\tremaining: 1m 1s\n",
      "136:\tlearn: 72.4425909\ttotal: 11.5s\tremaining: 1m 1s\n",
      "137:\tlearn: 72.4411766\ttotal: 11.5s\tremaining: 1m 1s\n",
      "138:\tlearn: 72.4411627\ttotal: 11.6s\tremaining: 1m\n",
      "139:\tlearn: 72.3027057\ttotal: 11.6s\tremaining: 1m\n",
      "140:\tlearn: 72.3026371\ttotal: 11.7s\tremaining: 1m\n",
      "141:\tlearn: 72.3014958\ttotal: 11.8s\tremaining: 1m\n",
      "142:\tlearn: 72.3013587\ttotal: 11.8s\tremaining: 1m\n",
      "143:\tlearn: 72.2987745\ttotal: 11.9s\tremaining: 59.8s\n",
      "144:\tlearn: 72.2984583\ttotal: 11.9s\tremaining: 59.6s\n",
      "145:\tlearn: 72.2984324\ttotal: 12s\tremaining: 59.3s\n",
      "146:\tlearn: 72.2968849\ttotal: 12.1s\tremaining: 59.5s\n",
      "147:\tlearn: 72.2901256\ttotal: 12.2s\tremaining: 59.3s\n",
      "148:\tlearn: 72.2888136\ttotal: 12.2s\tremaining: 59.1s\n",
      "149:\tlearn: 72.2250083\ttotal: 12.3s\tremaining: 58.9s\n",
      "150:\tlearn: 72.1879532\ttotal: 12.3s\tremaining: 58.7s\n",
      "151:\tlearn: 72.1879358\ttotal: 12.4s\tremaining: 58.4s\n",
      "152:\tlearn: 72.1853098\ttotal: 12.4s\tremaining: 58.2s\n",
      "153:\tlearn: 72.1838235\ttotal: 12.5s\tremaining: 58s\n",
      "154:\tlearn: 72.1791855\ttotal: 12.5s\tremaining: 57.7s\n",
      "155:\tlearn: 72.1777627\ttotal: 12.6s\tremaining: 57.5s\n",
      "156:\tlearn: 72.1763396\ttotal: 12.6s\tremaining: 57.3s\n",
      "157:\tlearn: 72.1752279\ttotal: 12.7s\tremaining: 57.4s\n",
      "158:\tlearn: 72.1734067\ttotal: 12.8s\tremaining: 57.2s\n",
      "159:\tlearn: 72.1731161\ttotal: 12.9s\tremaining: 57.3s\n",
      "160:\tlearn: 72.1730975\ttotal: 13s\tremaining: 57.1s\n",
      "161:\tlearn: 72.1711675\ttotal: 13s\tremaining: 56.9s\n",
      "162:\tlearn: 72.1711418\ttotal: 13.1s\tremaining: 56.6s\n",
      "163:\tlearn: 72.1416662\ttotal: 13.1s\tremaining: 56.5s\n",
      "164:\tlearn: 72.1401630\ttotal: 13.2s\tremaining: 56.2s\n",
      "165:\tlearn: 72.1384787\ttotal: 13.2s\tremaining: 56.1s\n",
      "166:\tlearn: 72.1369806\ttotal: 13.3s\tremaining: 55.9s\n",
      "167:\tlearn: 72.1329248\ttotal: 13.3s\tremaining: 55.7s\n",
      "168:\tlearn: 72.1258707\ttotal: 13.4s\tremaining: 55.5s\n",
      "169:\tlearn: 72.1257144\ttotal: 13.4s\tremaining: 55.3s\n",
      "170:\tlearn: 72.1256909\ttotal: 13.5s\tremaining: 55.1s\n",
      "171:\tlearn: 72.1256603\ttotal: 13.5s\tremaining: 54.9s\n",
      "172:\tlearn: 72.1226787\ttotal: 13.6s\tremaining: 54.7s\n",
      "173:\tlearn: 72.1223729\ttotal: 13.6s\tremaining: 54.5s\n",
      "174:\tlearn: 72.1220628\ttotal: 13.7s\tremaining: 54.4s\n",
      "175:\tlearn: 72.1192158\ttotal: 13.7s\tremaining: 54.2s\n",
      "176:\tlearn: 72.1182047\ttotal: 13.8s\tremaining: 54s\n",
      "177:\tlearn: 72.1173737\ttotal: 13.9s\tremaining: 53.9s\n",
      "178:\tlearn: 71.9682684\ttotal: 13.9s\tremaining: 53.7s\n",
      "179:\tlearn: 71.9682222\ttotal: 14s\tremaining: 53.5s\n",
      "180:\tlearn: 71.8142930\ttotal: 14s\tremaining: 53.3s\n",
      "181:\tlearn: 71.8041545\ttotal: 14.1s\tremaining: 53.2s\n",
      "182:\tlearn: 71.8041432\ttotal: 14.1s\tremaining: 53s\n",
      "183:\tlearn: 71.8037637\ttotal: 14.2s\tremaining: 52.8s\n",
      "184:\tlearn: 71.8035093\ttotal: 14.2s\tremaining: 52.6s\n",
      "185:\tlearn: 71.8026199\ttotal: 14.3s\tremaining: 52.5s\n",
      "186:\tlearn: 71.8007310\ttotal: 14.3s\tremaining: 52.3s\n",
      "187:\tlearn: 71.7829461\ttotal: 14.4s\tremaining: 52.2s\n",
      "188:\tlearn: 71.7791666\ttotal: 14.4s\tremaining: 52s\n",
      "189:\tlearn: 71.7786472\ttotal: 14.5s\tremaining: 51.8s\n",
      "190:\tlearn: 71.7784585\ttotal: 14.5s\tremaining: 51.7s\n",
      "191:\tlearn: 71.7752705\ttotal: 14.6s\tremaining: 51.5s\n",
      "192:\tlearn: 71.7752541\ttotal: 14.6s\tremaining: 51.3s\n",
      "193:\tlearn: 71.7721741\ttotal: 14.7s\tremaining: 51.2s\n",
      "194:\tlearn: 71.7720062\ttotal: 14.7s\tremaining: 51s\n",
      "195:\tlearn: 71.7719914\ttotal: 14.8s\tremaining: 50.9s\n",
      "196:\tlearn: 71.7719778\ttotal: 14.8s\tremaining: 50.7s\n",
      "197:\tlearn: 71.7719689\ttotal: 14.9s\tremaining: 50.6s\n",
      "198:\tlearn: 71.7670571\ttotal: 15s\tremaining: 50.4s\n",
      "199:\tlearn: 71.7627363\ttotal: 15s\tremaining: 50.3s\n",
      "200:\tlearn: 71.7622268\ttotal: 15.1s\tremaining: 50.1s\n",
      "201:\tlearn: 71.7622199\ttotal: 15.1s\tremaining: 50s\n",
      "202:\tlearn: 71.7622030\ttotal: 15.2s\tremaining: 49.8s\n",
      "203:\tlearn: 71.7603769\ttotal: 15.2s\tremaining: 49.7s\n",
      "204:\tlearn: 71.7595058\ttotal: 15.3s\tremaining: 49.5s\n",
      "205:\tlearn: 71.7595017\ttotal: 15.3s\tremaining: 49.4s\n",
      "206:\tlearn: 71.7594546\ttotal: 15.4s\tremaining: 49.3s\n",
      "207:\tlearn: 71.7571012\ttotal: 15.4s\tremaining: 49.1s\n",
      "208:\tlearn: 71.7558767\ttotal: 15.5s\tremaining: 48.9s\n",
      "209:\tlearn: 71.7545364\ttotal: 15.5s\tremaining: 48.8s\n",
      "210:\tlearn: 71.7538426\ttotal: 15.6s\tremaining: 48.7s\n",
      "211:\tlearn: 71.7529524\ttotal: 15.6s\tremaining: 48.5s\n",
      "212:\tlearn: 71.7529494\ttotal: 15.7s\tremaining: 48.4s\n",
      "213:\tlearn: 71.7524424\ttotal: 15.7s\tremaining: 48.3s\n",
      "214:\tlearn: 71.7513675\ttotal: 15.8s\tremaining: 48.2s\n",
      "215:\tlearn: 71.7513639\ttotal: 15.9s\tremaining: 48s\n",
      "216:\tlearn: 71.7502476\ttotal: 15.9s\tremaining: 48s\n",
      "217:\tlearn: 71.7497990\ttotal: 16s\tremaining: 47.9s\n",
      "218:\tlearn: 71.7497900\ttotal: 16s\tremaining: 47.7s\n",
      "219:\tlearn: 71.7018901\ttotal: 16.1s\tremaining: 47.6s\n",
      "220:\tlearn: 71.6996996\ttotal: 16.2s\tremaining: 47.5s\n",
      "221:\tlearn: 71.6989913\ttotal: 16.2s\tremaining: 47.4s\n",
      "222:\tlearn: 71.6984862\ttotal: 16.3s\tremaining: 47.3s\n",
      "223:\tlearn: 71.6978676\ttotal: 16.4s\tremaining: 47.2s\n",
      "224:\tlearn: 71.6978623\ttotal: 16.5s\tremaining: 47.2s\n",
      "225:\tlearn: 71.6977049\ttotal: 16.5s\tremaining: 47.1s\n",
      "226:\tlearn: 71.6976951\ttotal: 16.6s\tremaining: 47s\n",
      "227:\tlearn: 71.6976899\ttotal: 16.6s\tremaining: 46.8s\n",
      "228:\tlearn: 71.6950679\ttotal: 16.7s\tremaining: 46.7s\n",
      "229:\tlearn: 71.6941959\ttotal: 16.8s\tremaining: 46.6s\n",
      "230:\tlearn: 71.6367212\ttotal: 16.8s\tremaining: 46.5s\n",
      "231:\tlearn: 71.6365875\ttotal: 16.9s\tremaining: 46.4s\n",
      "232:\tlearn: 71.6360933\ttotal: 16.9s\tremaining: 46.3s\n",
      "233:\tlearn: 71.6359541\ttotal: 17s\tremaining: 46.2s\n",
      "234:\tlearn: 71.6359352\ttotal: 17.1s\tremaining: 46.1s\n",
      "235:\tlearn: 71.6353150\ttotal: 17.1s\tremaining: 45.9s\n",
      "236:\tlearn: 71.6278013\ttotal: 17.2s\tremaining: 45.8s\n",
      "237:\tlearn: 71.6262806\ttotal: 17.2s\tremaining: 45.7s\n",
      "238:\tlearn: 71.6261585\ttotal: 17.3s\tremaining: 45.6s\n",
      "239:\tlearn: 71.6261014\ttotal: 17.3s\tremaining: 45.5s\n",
      "240:\tlearn: 71.6260975\ttotal: 17.4s\tremaining: 45.3s\n",
      "241:\tlearn: 71.6236609\ttotal: 17.4s\tremaining: 45.2s\n",
      "242:\tlearn: 71.6180317\ttotal: 17.5s\tremaining: 45.1s\n",
      "243:\tlearn: 71.6175875\ttotal: 17.5s\tremaining: 45s\n",
      "244:\tlearn: 71.6175134\ttotal: 17.6s\tremaining: 44.9s\n",
      "245:\tlearn: 71.5540539\ttotal: 17.6s\tremaining: 44.7s\n",
      "246:\tlearn: 71.5535841\ttotal: 17.7s\tremaining: 44.6s\n",
      "247:\tlearn: 71.5515922\ttotal: 17.7s\tremaining: 44.5s\n",
      "248:\tlearn: 71.5511917\ttotal: 17.8s\tremaining: 44.4s\n",
      "249:\tlearn: 71.5511731\ttotal: 17.8s\tremaining: 44.3s\n",
      "250:\tlearn: 71.5507831\ttotal: 17.9s\tremaining: 44.1s\n",
      "251:\tlearn: 71.5488969\ttotal: 17.9s\tremaining: 44s\n",
      "252:\tlearn: 71.5482767\ttotal: 18s\tremaining: 43.9s\n",
      "253:\tlearn: 71.5481985\ttotal: 18.1s\tremaining: 43.8s\n",
      "254:\tlearn: 71.5314585\ttotal: 18.1s\tremaining: 43.7s\n",
      "255:\tlearn: 71.5061193\ttotal: 18.2s\tremaining: 43.6s\n",
      "256:\tlearn: 71.5052047\ttotal: 18.3s\tremaining: 43.6s\n",
      "257:\tlearn: 71.5052006\ttotal: 18.3s\tremaining: 43.4s\n",
      "258:\tlearn: 71.5049576\ttotal: 18.4s\tremaining: 43.3s\n",
      "259:\tlearn: 71.5046048\ttotal: 18.4s\tremaining: 43.2s\n",
      "260:\tlearn: 71.5036461\ttotal: 18.5s\tremaining: 43.1s\n",
      "261:\tlearn: 71.5032895\ttotal: 18.5s\tremaining: 43s\n",
      "262:\tlearn: 71.5029442\ttotal: 18.6s\tremaining: 42.9s\n",
      "263:\tlearn: 71.5001995\ttotal: 18.6s\tremaining: 42.8s\n",
      "264:\tlearn: 71.4993168\ttotal: 18.7s\tremaining: 42.7s\n",
      "265:\tlearn: 71.4990168\ttotal: 18.7s\tremaining: 42.6s\n",
      "266:\tlearn: 71.4955367\ttotal: 18.8s\tremaining: 42.4s\n",
      "267:\tlearn: 71.4948922\ttotal: 18.8s\tremaining: 42.3s\n",
      "268:\tlearn: 71.4948872\ttotal: 18.9s\tremaining: 42.2s\n",
      "269:\tlearn: 71.4945505\ttotal: 19s\tremaining: 42.1s\n",
      "270:\tlearn: 71.4938118\ttotal: 19s\tremaining: 42s\n",
      "271:\tlearn: 71.4925898\ttotal: 19.1s\tremaining: 41.9s\n",
      "272:\tlearn: 71.4919005\ttotal: 19.1s\tremaining: 41.8s\n",
      "273:\tlearn: 71.4907324\ttotal: 19.2s\tremaining: 41.7s\n",
      "274:\tlearn: 71.4896464\ttotal: 19.2s\tremaining: 41.6s\n",
      "275:\tlearn: 71.4865137\ttotal: 19.3s\tremaining: 41.5s\n",
      "276:\tlearn: 71.4864608\ttotal: 19.3s\tremaining: 41.4s\n",
      "277:\tlearn: 71.4780228\ttotal: 19.4s\tremaining: 41.3s\n",
      "278:\tlearn: 71.4757971\ttotal: 19.4s\tremaining: 41.2s\n",
      "279:\tlearn: 71.4757963\ttotal: 19.5s\tremaining: 41s\n",
      "280:\tlearn: 71.4754359\ttotal: 19.5s\tremaining: 40.9s\n",
      "281:\tlearn: 71.4729252\ttotal: 19.6s\tremaining: 40.8s\n",
      "282:\tlearn: 71.4723204\ttotal: 19.6s\tremaining: 40.7s\n",
      "283:\tlearn: 71.4676305\ttotal: 19.7s\tremaining: 40.7s\n",
      "284:\tlearn: 71.4676303\ttotal: 19.7s\tremaining: 40.5s\n",
      "285:\tlearn: 71.4638106\ttotal: 19.8s\tremaining: 40.4s\n",
      "286:\tlearn: 71.4633431\ttotal: 19.9s\tremaining: 40.3s\n",
      "287:\tlearn: 71.4633223\ttotal: 19.9s\tremaining: 40.2s\n",
      "288:\tlearn: 71.4633082\ttotal: 19.9s\tremaining: 40.1s\n",
      "289:\tlearn: 71.4633041\ttotal: 20s\tremaining: 40s\n",
      "290:\tlearn: 71.4621943\ttotal: 20s\tremaining: 39.9s\n",
      "291:\tlearn: 71.4611333\ttotal: 20.1s\tremaining: 39.8s\n",
      "292:\tlearn: 71.4611329\ttotal: 20.1s\tremaining: 39.7s\n",
      "293:\tlearn: 71.4607588\ttotal: 20.2s\tremaining: 39.6s\n",
      "294:\tlearn: 71.4607073\ttotal: 20.3s\tremaining: 39.5s\n",
      "295:\tlearn: 71.4583160\ttotal: 20.3s\tremaining: 39.4s\n",
      "296:\tlearn: 71.4582185\ttotal: 20.4s\tremaining: 39.3s\n",
      "297:\tlearn: 71.4576427\ttotal: 20.4s\tremaining: 39.2s\n",
      "298:\tlearn: 71.4575884\ttotal: 20.5s\tremaining: 39.1s\n",
      "299:\tlearn: 71.4575756\ttotal: 20.5s\tremaining: 39s\n",
      "300:\tlearn: 71.4572919\ttotal: 20.6s\tremaining: 38.9s\n",
      "301:\tlearn: 71.4569586\ttotal: 20.6s\tremaining: 38.8s\n",
      "302:\tlearn: 71.4559395\ttotal: 20.7s\tremaining: 38.7s\n",
      "303:\tlearn: 71.4554603\ttotal: 20.7s\tremaining: 38.6s\n",
      "304:\tlearn: 71.4554172\ttotal: 20.8s\tremaining: 38.5s\n",
      "305:\tlearn: 71.4544809\ttotal: 20.9s\tremaining: 38.4s\n",
      "306:\tlearn: 71.4535060\ttotal: 20.9s\tremaining: 38.3s\n",
      "307:\tlearn: 71.4500422\ttotal: 21s\tremaining: 38.2s\n",
      "308:\tlearn: 71.4477630\ttotal: 21s\tremaining: 38.1s\n",
      "309:\tlearn: 71.4475132\ttotal: 21.1s\tremaining: 38.1s\n",
      "310:\tlearn: 71.4467165\ttotal: 21.1s\tremaining: 38s\n",
      "311:\tlearn: 71.4467137\ttotal: 21.2s\tremaining: 37.9s\n",
      "312:\tlearn: 71.4464333\ttotal: 21.2s\tremaining: 37.8s\n",
      "313:\tlearn: 71.4463973\ttotal: 21.3s\tremaining: 37.7s\n",
      "314:\tlearn: 71.4460457\ttotal: 21.3s\tremaining: 37.6s\n",
      "315:\tlearn: 71.1932818\ttotal: 21.4s\tremaining: 37.5s\n",
      "316:\tlearn: 71.1932741\ttotal: 21.4s\tremaining: 37.4s\n",
      "317:\tlearn: 71.1932573\ttotal: 21.5s\tremaining: 37.3s\n",
      "318:\tlearn: 71.1920567\ttotal: 21.6s\tremaining: 37.2s\n",
      "319:\tlearn: 71.1917772\ttotal: 21.6s\tremaining: 37.2s\n",
      "320:\tlearn: 71.1917766\ttotal: 21.7s\tremaining: 37.1s\n",
      "321:\tlearn: 71.1913729\ttotal: 21.8s\tremaining: 37s\n",
      "322:\tlearn: 71.1911171\ttotal: 21.8s\tremaining: 37s\n",
      "323:\tlearn: 71.1902794\ttotal: 21.9s\tremaining: 36.9s\n",
      "324:\tlearn: 71.1884774\ttotal: 22s\tremaining: 36.8s\n",
      "325:\tlearn: 71.1882399\ttotal: 22s\tremaining: 36.8s\n",
      "326:\tlearn: 71.1875153\ttotal: 22.1s\tremaining: 36.7s\n",
      "327:\tlearn: 71.1866420\ttotal: 22.2s\tremaining: 36.7s\n",
      "328:\tlearn: 71.1844743\ttotal: 22.2s\tremaining: 36.6s\n",
      "329:\tlearn: 71.1757678\ttotal: 22.3s\tremaining: 36.5s\n",
      "330:\tlearn: 71.1757269\ttotal: 22.4s\tremaining: 36.4s\n",
      "331:\tlearn: 71.1751640\ttotal: 22.4s\tremaining: 36.3s\n",
      "332:\tlearn: 71.1747718\ttotal: 22.5s\tremaining: 36.3s\n",
      "333:\tlearn: 71.1729796\ttotal: 22.6s\tremaining: 36.2s\n",
      "334:\tlearn: 71.1728164\ttotal: 22.6s\tremaining: 36.1s\n",
      "335:\tlearn: 71.1721711\ttotal: 22.7s\tremaining: 36s\n",
      "336:\tlearn: 71.1721703\ttotal: 22.7s\tremaining: 36s\n",
      "337:\tlearn: 71.1651427\ttotal: 22.8s\tremaining: 35.9s\n",
      "338:\tlearn: 71.1580129\ttotal: 22.8s\tremaining: 35.8s\n",
      "339:\tlearn: 71.1574125\ttotal: 22.9s\tremaining: 35.7s\n",
      "340:\tlearn: 71.1573759\ttotal: 23s\tremaining: 35.6s\n",
      "341:\tlearn: 71.1570838\ttotal: 23s\tremaining: 35.5s\n",
      "342:\tlearn: 71.1554208\ttotal: 23.1s\tremaining: 35.4s\n",
      "343:\tlearn: 71.1475680\ttotal: 23.2s\tremaining: 35.4s\n",
      "344:\tlearn: 71.1474321\ttotal: 23.2s\tremaining: 35.3s\n",
      "345:\tlearn: 71.1471668\ttotal: 23.3s\tremaining: 35.2s\n",
      "346:\tlearn: 70.9543020\ttotal: 23.3s\tremaining: 35.2s\n",
      "347:\tlearn: 70.9542786\ttotal: 23.4s\tremaining: 35.1s\n",
      "348:\tlearn: 70.9535768\ttotal: 23.4s\tremaining: 35s\n",
      "349:\tlearn: 70.9525698\ttotal: 23.5s\tremaining: 34.9s\n",
      "350:\tlearn: 70.9453257\ttotal: 23.5s\tremaining: 34.8s\n",
      "351:\tlearn: 70.9434620\ttotal: 23.6s\tremaining: 34.7s\n",
      "352:\tlearn: 70.7208468\ttotal: 23.6s\tremaining: 34.6s\n",
      "353:\tlearn: 70.7205099\ttotal: 23.7s\tremaining: 34.5s\n",
      "354:\tlearn: 70.7149236\ttotal: 23.8s\tremaining: 34.5s\n",
      "355:\tlearn: 70.7149229\ttotal: 23.8s\tremaining: 34.4s\n",
      "356:\tlearn: 70.7148935\ttotal: 23.9s\tremaining: 34.3s\n",
      "357:\tlearn: 70.7146506\ttotal: 23.9s\tremaining: 34.2s\n",
      "358:\tlearn: 70.7143313\ttotal: 24s\tremaining: 34.1s\n",
      "359:\tlearn: 70.7134593\ttotal: 24s\tremaining: 34s\n",
      "360:\tlearn: 70.7132162\ttotal: 24.1s\tremaining: 33.9s\n",
      "361:\tlearn: 70.7131381\ttotal: 24.1s\tremaining: 33.9s\n",
      "362:\tlearn: 70.7122361\ttotal: 24.2s\tremaining: 33.8s\n",
      "363:\tlearn: 70.7071977\ttotal: 24.2s\tremaining: 33.7s\n",
      "364:\tlearn: 70.7068984\ttotal: 24.3s\tremaining: 33.6s\n",
      "365:\tlearn: 70.7068719\ttotal: 24.3s\tremaining: 33.5s\n",
      "366:\tlearn: 70.7068052\ttotal: 24.4s\tremaining: 33.4s\n",
      "367:\tlearn: 70.7053503\ttotal: 24.4s\tremaining: 33.3s\n",
      "368:\tlearn: 70.7051288\ttotal: 24.5s\tremaining: 33.3s\n",
      "369:\tlearn: 70.7051052\ttotal: 24.6s\tremaining: 33.2s\n",
      "370:\tlearn: 70.7050417\ttotal: 24.6s\tremaining: 33.1s\n",
      "371:\tlearn: 70.7004965\ttotal: 24.7s\tremaining: 33s\n",
      "372:\tlearn: 70.6996539\ttotal: 24.7s\tremaining: 33s\n",
      "373:\tlearn: 70.6909464\ttotal: 24.8s\tremaining: 32.9s\n",
      "374:\tlearn: 70.6909253\ttotal: 24.8s\tremaining: 32.8s\n",
      "375:\tlearn: 70.6902948\ttotal: 24.9s\tremaining: 32.7s\n",
      "376:\tlearn: 70.6900203\ttotal: 24.9s\tremaining: 32.6s\n",
      "377:\tlearn: 70.6898158\ttotal: 25s\tremaining: 32.5s\n",
      "378:\tlearn: 70.6895404\ttotal: 25.1s\tremaining: 32.5s\n",
      "379:\tlearn: 70.6892247\ttotal: 25.1s\tremaining: 32.4s\n",
      "380:\tlearn: 70.6886308\ttotal: 25.2s\tremaining: 32.3s\n",
      "381:\tlearn: 70.6884444\ttotal: 25.2s\tremaining: 32.2s\n",
      "382:\tlearn: 70.6884257\ttotal: 25.3s\tremaining: 32.1s\n",
      "383:\tlearn: 70.6870392\ttotal: 25.3s\tremaining: 32s\n",
      "384:\tlearn: 70.6828818\ttotal: 25.4s\tremaining: 32s\n",
      "385:\tlearn: 70.6826873\ttotal: 25.4s\tremaining: 31.9s\n",
      "386:\tlearn: 70.6821300\ttotal: 25.5s\tremaining: 31.8s\n",
      "387:\tlearn: 70.6818693\ttotal: 25.5s\tremaining: 31.7s\n",
      "388:\tlearn: 70.6818466\ttotal: 25.6s\tremaining: 31.6s\n",
      "389:\tlearn: 70.6769206\ttotal: 25.6s\tremaining: 31.6s\n",
      "390:\tlearn: 70.6768805\ttotal: 25.7s\tremaining: 31.5s\n",
      "391:\tlearn: 70.6763526\ttotal: 25.7s\tremaining: 31.4s\n",
      "392:\tlearn: 70.6758908\ttotal: 25.8s\tremaining: 31.3s\n",
      "393:\tlearn: 70.6497377\ttotal: 25.9s\tremaining: 31.2s\n",
      "394:\tlearn: 70.6490182\ttotal: 25.9s\tremaining: 31.2s\n",
      "395:\tlearn: 70.6487720\ttotal: 26s\tremaining: 31.1s\n",
      "396:\tlearn: 70.6480746\ttotal: 26s\tremaining: 31s\n",
      "397:\tlearn: 70.6465995\ttotal: 26.1s\tremaining: 30.9s\n",
      "398:\tlearn: 70.6457345\ttotal: 26.1s\tremaining: 30.8s\n",
      "399:\tlearn: 70.6454802\ttotal: 26.2s\tremaining: 30.8s\n",
      "400:\tlearn: 70.6454637\ttotal: 26.2s\tremaining: 30.7s\n",
      "401:\tlearn: 70.6451362\ttotal: 26.3s\tremaining: 30.6s\n",
      "402:\tlearn: 70.6448985\ttotal: 26.3s\tremaining: 30.5s\n",
      "403:\tlearn: 70.6436005\ttotal: 26.4s\tremaining: 30.4s\n",
      "404:\tlearn: 70.6435600\ttotal: 26.4s\tremaining: 30.4s\n",
      "405:\tlearn: 70.6435482\ttotal: 26.5s\tremaining: 30.3s\n",
      "406:\tlearn: 70.6435356\ttotal: 26.6s\tremaining: 30.2s\n",
      "407:\tlearn: 70.6433179\ttotal: 26.6s\tremaining: 30.1s\n",
      "408:\tlearn: 70.6432445\ttotal: 26.7s\tremaining: 30.1s\n",
      "409:\tlearn: 70.6425836\ttotal: 26.7s\tremaining: 30s\n",
      "410:\tlearn: 70.6425097\ttotal: 26.8s\tremaining: 29.9s\n",
      "411:\tlearn: 70.6411626\ttotal: 26.8s\tremaining: 29.8s\n",
      "412:\tlearn: 70.6405253\ttotal: 26.9s\tremaining: 29.7s\n",
      "413:\tlearn: 70.6402151\ttotal: 26.9s\tremaining: 29.7s\n",
      "414:\tlearn: 70.6396006\ttotal: 27s\tremaining: 29.6s\n",
      "415:\tlearn: 70.6379669\ttotal: 27s\tremaining: 29.5s\n",
      "416:\tlearn: 70.6339589\ttotal: 27.1s\tremaining: 29.4s\n",
      "417:\tlearn: 70.6100758\ttotal: 27.1s\tremaining: 29.3s\n",
      "418:\tlearn: 70.6098111\ttotal: 27.2s\tremaining: 29.3s\n",
      "419:\tlearn: 70.6097878\ttotal: 27.3s\tremaining: 29.2s\n",
      "420:\tlearn: 70.6082478\ttotal: 27.3s\tremaining: 29.1s\n",
      "421:\tlearn: 70.6058723\ttotal: 27.4s\tremaining: 29.1s\n",
      "422:\tlearn: 70.6054561\ttotal: 27.5s\tremaining: 29s\n",
      "423:\tlearn: 70.6054420\ttotal: 27.5s\tremaining: 28.9s\n",
      "424:\tlearn: 70.6048649\ttotal: 27.6s\tremaining: 28.9s\n",
      "425:\tlearn: 70.6046855\ttotal: 27.6s\tremaining: 28.8s\n",
      "426:\tlearn: 70.6045782\ttotal: 27.7s\tremaining: 28.8s\n",
      "427:\tlearn: 70.6045124\ttotal: 27.8s\tremaining: 28.7s\n",
      "428:\tlearn: 70.6006454\ttotal: 27.8s\tremaining: 28.6s\n",
      "429:\tlearn: 70.6006240\ttotal: 27.9s\tremaining: 28.6s\n",
      "430:\tlearn: 70.6000674\ttotal: 28s\tremaining: 28.5s\n",
      "431:\tlearn: 70.5995295\ttotal: 28s\tremaining: 28.4s\n",
      "432:\tlearn: 70.5993503\ttotal: 28.1s\tremaining: 28.4s\n",
      "433:\tlearn: 70.5774307\ttotal: 28.2s\tremaining: 28.3s\n",
      "434:\tlearn: 70.5770728\ttotal: 28.2s\tremaining: 28.2s\n",
      "435:\tlearn: 70.5769133\ttotal: 28.3s\tremaining: 28.2s\n",
      "436:\tlearn: 70.5764764\ttotal: 28.4s\tremaining: 28.1s\n",
      "437:\tlearn: 70.5748126\ttotal: 28.4s\tremaining: 28s\n",
      "438:\tlearn: 70.5745964\ttotal: 28.5s\tremaining: 27.9s\n",
      "439:\tlearn: 70.5745882\ttotal: 28.5s\tremaining: 27.9s\n",
      "440:\tlearn: 70.5738362\ttotal: 28.6s\tremaining: 27.8s\n",
      "441:\tlearn: 70.5738170\ttotal: 28.6s\tremaining: 27.7s\n",
      "442:\tlearn: 70.5716468\ttotal: 28.7s\tremaining: 27.6s\n",
      "443:\tlearn: 70.5708282\ttotal: 28.7s\tremaining: 27.6s\n",
      "444:\tlearn: 70.5700753\ttotal: 28.8s\tremaining: 27.5s\n",
      "445:\tlearn: 70.5698775\ttotal: 28.8s\tremaining: 27.4s\n",
      "446:\tlearn: 70.5696923\ttotal: 28.9s\tremaining: 27.3s\n",
      "447:\tlearn: 70.5696905\ttotal: 28.9s\tremaining: 27.3s\n",
      "448:\tlearn: 70.5696831\ttotal: 29s\tremaining: 27.2s\n",
      "449:\tlearn: 70.5695094\ttotal: 29s\tremaining: 27.1s\n",
      "450:\tlearn: 70.5688135\ttotal: 29.1s\tremaining: 27s\n",
      "451:\tlearn: 70.5650922\ttotal: 29.1s\tremaining: 27s\n",
      "452:\tlearn: 70.5649279\ttotal: 29.2s\tremaining: 26.9s\n",
      "453:\tlearn: 70.5649149\ttotal: 29.3s\tremaining: 26.8s\n",
      "454:\tlearn: 70.5648976\ttotal: 29.3s\tremaining: 26.7s\n",
      "455:\tlearn: 70.5647436\ttotal: 29.4s\tremaining: 26.7s\n",
      "456:\tlearn: 70.5645492\ttotal: 29.4s\tremaining: 26.6s\n",
      "457:\tlearn: 70.5625892\ttotal: 29.5s\tremaining: 26.5s\n",
      "458:\tlearn: 70.5625875\ttotal: 29.5s\tremaining: 26.4s\n",
      "459:\tlearn: 70.5621913\ttotal: 29.6s\tremaining: 26.4s\n",
      "460:\tlearn: 70.5620493\ttotal: 29.6s\tremaining: 26.3s\n",
      "461:\tlearn: 70.5619161\ttotal: 29.7s\tremaining: 26.2s\n",
      "462:\tlearn: 70.5619096\ttotal: 29.7s\tremaining: 26.1s\n",
      "463:\tlearn: 70.5609944\ttotal: 29.8s\tremaining: 26.1s\n",
      "464:\tlearn: 70.5608685\ttotal: 29.8s\tremaining: 26s\n",
      "465:\tlearn: 70.5608681\ttotal: 29.9s\tremaining: 25.9s\n",
      "466:\tlearn: 70.5603768\ttotal: 29.9s\tremaining: 25.8s\n",
      "467:\tlearn: 70.5602604\ttotal: 30s\tremaining: 25.8s\n",
      "468:\tlearn: 70.5602589\ttotal: 30.1s\tremaining: 25.7s\n",
      "469:\tlearn: 70.5602049\ttotal: 30.1s\tremaining: 25.6s\n",
      "470:\tlearn: 70.5593576\ttotal: 30.2s\tremaining: 25.5s\n",
      "471:\tlearn: 70.5592478\ttotal: 30.2s\tremaining: 25.5s\n",
      "472:\tlearn: 70.5591448\ttotal: 30.3s\tremaining: 25.4s\n",
      "473:\tlearn: 70.5591444\ttotal: 30.3s\tremaining: 25.3s\n",
      "474:\tlearn: 70.5590475\ttotal: 30.4s\tremaining: 25.2s\n",
      "475:\tlearn: 70.5589990\ttotal: 30.4s\tremaining: 25.2s\n",
      "476:\tlearn: 70.5589081\ttotal: 30.5s\tremaining: 25.1s\n",
      "477:\tlearn: 70.5588226\ttotal: 30.5s\tremaining: 25s\n",
      "478:\tlearn: 70.4352709\ttotal: 30.6s\tremaining: 25s\n",
      "479:\tlearn: 70.4351040\ttotal: 30.6s\tremaining: 24.9s\n",
      "480:\tlearn: 70.4351027\ttotal: 30.7s\tremaining: 24.8s\n",
      "481:\tlearn: 70.4343753\ttotal: 30.8s\tremaining: 24.8s\n",
      "482:\tlearn: 70.4306312\ttotal: 30.8s\tremaining: 24.7s\n",
      "483:\tlearn: 70.4195577\ttotal: 30.9s\tremaining: 24.6s\n",
      "484:\tlearn: 70.3813172\ttotal: 30.9s\tremaining: 24.5s\n",
      "485:\tlearn: 70.3813157\ttotal: 31s\tremaining: 24.5s\n",
      "486:\tlearn: 70.3812158\ttotal: 31s\tremaining: 24.4s\n",
      "487:\tlearn: 70.3811751\ttotal: 31.1s\tremaining: 24.3s\n",
      "488:\tlearn: 70.3811633\ttotal: 31.2s\tremaining: 24.3s\n",
      "489:\tlearn: 70.3804346\ttotal: 31.2s\tremaining: 24.2s\n",
      "490:\tlearn: 70.3803482\ttotal: 31.3s\tremaining: 24.2s\n",
      "491:\tlearn: 70.3802584\ttotal: 31.4s\tremaining: 24.1s\n",
      "492:\tlearn: 70.3801881\ttotal: 31.4s\tremaining: 24s\n",
      "493:\tlearn: 70.3801530\ttotal: 31.5s\tremaining: 24s\n",
      "494:\tlearn: 70.3795929\ttotal: 31.6s\tremaining: 23.9s\n",
      "495:\tlearn: 70.3789145\ttotal: 31.6s\tremaining: 23.8s\n",
      "496:\tlearn: 70.3787607\ttotal: 31.7s\tremaining: 23.8s\n",
      "497:\tlearn: 70.3781276\ttotal: 31.8s\tremaining: 23.7s\n",
      "498:\tlearn: 70.3747377\ttotal: 31.9s\tremaining: 23.7s\n",
      "499:\tlearn: 70.3640315\ttotal: 31.9s\tremaining: 23.6s\n",
      "500:\tlearn: 70.3639541\ttotal: 32s\tremaining: 23.6s\n",
      "501:\tlearn: 70.3639536\ttotal: 32.1s\tremaining: 23.5s\n",
      "502:\tlearn: 70.3639427\ttotal: 32.1s\tremaining: 23.4s\n",
      "503:\tlearn: 70.2929855\ttotal: 32.2s\tremaining: 23.4s\n",
      "504:\tlearn: 70.2929807\ttotal: 32.2s\tremaining: 23.3s\n",
      "505:\tlearn: 70.2928128\ttotal: 32.3s\tremaining: 23.2s\n",
      "506:\tlearn: 70.2926791\ttotal: 32.3s\tremaining: 23.1s\n",
      "507:\tlearn: 70.2926779\ttotal: 32.4s\tremaining: 23.1s\n",
      "508:\tlearn: 70.2925982\ttotal: 32.5s\tremaining: 23s\n",
      "509:\tlearn: 70.2822382\ttotal: 32.5s\tremaining: 23s\n",
      "510:\tlearn: 70.2821068\ttotal: 32.6s\tremaining: 22.9s\n",
      "511:\tlearn: 70.2821057\ttotal: 32.7s\tremaining: 22.9s\n",
      "512:\tlearn: 70.2820799\ttotal: 32.7s\tremaining: 22.8s\n",
      "513:\tlearn: 70.2815329\ttotal: 32.8s\tremaining: 22.7s\n",
      "514:\tlearn: 70.2814723\ttotal: 32.8s\tremaining: 22.6s\n",
      "515:\tlearn: 70.2814627\ttotal: 32.9s\tremaining: 22.6s\n",
      "516:\tlearn: 70.2814404\ttotal: 32.9s\tremaining: 22.5s\n",
      "517:\tlearn: 70.2813652\ttotal: 33s\tremaining: 22.4s\n",
      "518:\tlearn: 70.2808536\ttotal: 33s\tremaining: 22.3s\n",
      "519:\tlearn: 70.2808526\ttotal: 33.1s\tremaining: 22.3s\n",
      "520:\tlearn: 70.2807976\ttotal: 33.2s\tremaining: 22.2s\n",
      "521:\tlearn: 70.2707473\ttotal: 33.3s\tremaining: 22.2s\n",
      "522:\tlearn: 70.2702851\ttotal: 33.4s\tremaining: 22.1s\n",
      "523:\tlearn: 70.2702355\ttotal: 33.5s\tremaining: 22.1s\n",
      "524:\tlearn: 70.2702184\ttotal: 33.6s\tremaining: 22s\n",
      "525:\tlearn: 70.2701473\ttotal: 33.6s\tremaining: 22s\n",
      "526:\tlearn: 70.2701385\ttotal: 33.7s\tremaining: 21.9s\n",
      "527:\tlearn: 70.2693332\ttotal: 33.8s\tremaining: 21.9s\n",
      "528:\tlearn: 70.2692881\ttotal: 33.8s\tremaining: 21.8s\n",
      "529:\tlearn: 70.2574857\ttotal: 33.9s\tremaining: 21.7s\n",
      "530:\tlearn: 70.2574423\ttotal: 33.9s\tremaining: 21.7s\n",
      "531:\tlearn: 70.2543885\ttotal: 34s\tremaining: 21.6s\n",
      "532:\tlearn: 70.2543875\ttotal: 34.1s\tremaining: 21.5s\n",
      "533:\tlearn: 70.2543866\ttotal: 34.1s\tremaining: 21.5s\n",
      "534:\tlearn: 70.2543221\ttotal: 34.2s\tremaining: 21.4s\n",
      "535:\tlearn: 70.2437158\ttotal: 34.3s\tremaining: 21.4s\n",
      "536:\tlearn: 70.2437151\ttotal: 34.3s\tremaining: 21.3s\n",
      "537:\tlearn: 70.2437144\ttotal: 34.4s\tremaining: 21.2s\n",
      "538:\tlearn: 70.2425839\ttotal: 34.4s\tremaining: 21.1s\n",
      "539:\tlearn: 70.2421809\ttotal: 34.5s\tremaining: 21.1s\n",
      "540:\tlearn: 70.2394155\ttotal: 34.5s\tremaining: 21s\n",
      "541:\tlearn: 70.2394149\ttotal: 34.6s\tremaining: 20.9s\n",
      "542:\tlearn: 70.2393761\ttotal: 34.6s\tremaining: 20.9s\n",
      "543:\tlearn: 70.1998545\ttotal: 34.7s\tremaining: 20.8s\n",
      "544:\tlearn: 70.1998540\ttotal: 34.8s\tremaining: 20.7s\n",
      "545:\tlearn: 70.1998270\ttotal: 34.8s\tremaining: 20.7s\n",
      "546:\tlearn: 70.1992192\ttotal: 34.9s\tremaining: 20.6s\n",
      "547:\tlearn: 70.1991268\ttotal: 34.9s\tremaining: 20.5s\n",
      "548:\tlearn: 70.1991234\ttotal: 35s\tremaining: 20.4s\n",
      "549:\tlearn: 70.1990866\ttotal: 35s\tremaining: 20.4s\n",
      "550:\tlearn: 70.1990837\ttotal: 35.1s\tremaining: 20.3s\n",
      "551:\tlearn: 70.1980360\ttotal: 35.1s\tremaining: 20.2s\n",
      "552:\tlearn: 70.1978097\ttotal: 35.2s\tremaining: 20.2s\n",
      "553:\tlearn: 70.1978057\ttotal: 35.2s\tremaining: 20.1s\n",
      "554:\tlearn: 70.1976081\ttotal: 35.3s\tremaining: 20s\n",
      "555:\tlearn: 70.1976066\ttotal: 35.3s\tremaining: 20s\n",
      "556:\tlearn: 70.1974469\ttotal: 35.4s\tremaining: 19.9s\n",
      "557:\tlearn: 70.1973357\ttotal: 35.5s\tremaining: 19.8s\n",
      "558:\tlearn: 70.1973332\ttotal: 35.5s\tremaining: 19.8s\n",
      "559:\tlearn: 70.1613854\ttotal: 35.6s\tremaining: 19.7s\n",
      "560:\tlearn: 70.1608299\ttotal: 35.6s\tremaining: 19.6s\n",
      "561:\tlearn: 70.1608277\ttotal: 35.7s\tremaining: 19.5s\n",
      "562:\tlearn: 70.1605973\ttotal: 35.7s\tremaining: 19.5s\n",
      "563:\tlearn: 70.1603224\ttotal: 35.8s\tremaining: 19.4s\n",
      "564:\tlearn: 70.1603111\ttotal: 35.8s\tremaining: 19.3s\n",
      "565:\tlearn: 70.1602387\ttotal: 35.9s\tremaining: 19.3s\n",
      "566:\tlearn: 70.1581289\ttotal: 35.9s\tremaining: 19.2s\n",
      "567:\tlearn: 70.1575206\ttotal: 36s\tremaining: 19.1s\n",
      "568:\tlearn: 70.1575105\ttotal: 36s\tremaining: 19.1s\n",
      "569:\tlearn: 70.1555661\ttotal: 36.1s\tremaining: 19s\n",
      "570:\tlearn: 70.1555580\ttotal: 36.1s\tremaining: 18.9s\n",
      "571:\tlearn: 70.1455022\ttotal: 36.2s\tremaining: 18.9s\n",
      "572:\tlearn: 70.1449949\ttotal: 36.2s\tremaining: 18.8s\n",
      "573:\tlearn: 70.1448404\ttotal: 36.3s\tremaining: 18.7s\n",
      "574:\tlearn: 70.1448302\ttotal: 36.4s\tremaining: 18.7s\n",
      "575:\tlearn: 70.1416077\ttotal: 36.4s\tremaining: 18.6s\n",
      "576:\tlearn: 70.1415156\ttotal: 36.5s\tremaining: 18.5s\n",
      "577:\tlearn: 70.1413368\ttotal: 36.5s\tremaining: 18.4s\n",
      "578:\tlearn: 70.1413081\ttotal: 36.6s\tremaining: 18.4s\n",
      "579:\tlearn: 70.1411658\ttotal: 36.6s\tremaining: 18.3s\n",
      "580:\tlearn: 70.1410574\ttotal: 36.7s\tremaining: 18.2s\n",
      "581:\tlearn: 70.1409920\ttotal: 36.7s\tremaining: 18.2s\n",
      "582:\tlearn: 70.1409840\ttotal: 36.8s\tremaining: 18.1s\n",
      "583:\tlearn: 70.1409716\ttotal: 36.8s\tremaining: 18s\n",
      "584:\tlearn: 70.1409667\ttotal: 36.9s\tremaining: 18s\n",
      "585:\tlearn: 70.1409572\ttotal: 36.9s\tremaining: 17.9s\n",
      "586:\tlearn: 70.1396635\ttotal: 37s\tremaining: 17.8s\n",
      "587:\tlearn: 70.1395030\ttotal: 37s\tremaining: 17.8s\n",
      "588:\tlearn: 70.1394889\ttotal: 37.1s\tremaining: 17.7s\n",
      "589:\tlearn: 70.1394762\ttotal: 37.1s\tremaining: 17.6s\n",
      "590:\tlearn: 70.1389558\ttotal: 37.2s\tremaining: 17.6s\n",
      "591:\tlearn: 70.1389409\ttotal: 37.2s\tremaining: 17.5s\n",
      "592:\tlearn: 70.1366234\ttotal: 37.3s\tremaining: 17.4s\n",
      "593:\tlearn: 70.1365372\ttotal: 37.4s\tremaining: 17.4s\n",
      "594:\tlearn: 70.1362491\ttotal: 37.4s\tremaining: 17.3s\n",
      "595:\tlearn: 70.1360726\ttotal: 37.5s\tremaining: 17.2s\n",
      "596:\tlearn: 70.1351034\ttotal: 37.5s\tremaining: 17.2s\n",
      "597:\tlearn: 70.1350962\ttotal: 37.6s\tremaining: 17.1s\n",
      "598:\tlearn: 70.1348167\ttotal: 37.7s\tremaining: 17s\n",
      "599:\tlearn: 70.1348011\ttotal: 37.7s\tremaining: 17s\n",
      "600:\tlearn: 70.1345465\ttotal: 37.8s\tremaining: 16.9s\n",
      "601:\tlearn: 70.1341727\ttotal: 37.8s\tremaining: 16.8s\n",
      "602:\tlearn: 70.1341598\ttotal: 37.9s\tremaining: 16.8s\n",
      "603:\tlearn: 70.1341444\ttotal: 38s\tremaining: 16.7s\n",
      "604:\tlearn: 70.1014946\ttotal: 38s\tremaining: 16.7s\n",
      "605:\tlearn: 70.1014881\ttotal: 38.1s\tremaining: 16.6s\n",
      "606:\tlearn: 70.1012790\ttotal: 38.1s\tremaining: 16.5s\n",
      "607:\tlearn: 70.1006570\ttotal: 38.2s\tremaining: 16.4s\n",
      "608:\tlearn: 70.1005215\ttotal: 38.2s\tremaining: 16.4s\n",
      "609:\tlearn: 70.1005086\ttotal: 38.3s\tremaining: 16.3s\n",
      "610:\tlearn: 70.1004126\ttotal: 38.4s\tremaining: 16.3s\n",
      "611:\tlearn: 70.1001437\ttotal: 38.5s\tremaining: 16.2s\n",
      "612:\tlearn: 70.1000101\ttotal: 38.5s\tremaining: 16.1s\n",
      "613:\tlearn: 70.0997637\ttotal: 38.6s\tremaining: 16.1s\n",
      "614:\tlearn: 70.0997578\ttotal: 38.6s\tremaining: 16s\n",
      "615:\tlearn: 70.0996169\ttotal: 38.7s\tremaining: 16s\n",
      "616:\tlearn: 70.0996037\ttotal: 38.7s\tremaining: 15.9s\n",
      "617:\tlearn: 70.0992754\ttotal: 38.8s\tremaining: 15.8s\n",
      "618:\tlearn: 70.0990858\ttotal: 38.9s\tremaining: 15.8s\n",
      "619:\tlearn: 70.0989568\ttotal: 39s\tremaining: 15.7s\n",
      "620:\tlearn: 70.0986955\ttotal: 39s\tremaining: 15.6s\n",
      "621:\tlearn: 70.0981463\ttotal: 39.1s\tremaining: 15.6s\n",
      "622:\tlearn: 70.0980247\ttotal: 39.1s\tremaining: 15.5s\n",
      "623:\tlearn: 70.0977751\ttotal: 39.2s\tremaining: 15.4s\n",
      "624:\tlearn: 70.0975211\ttotal: 39.2s\tremaining: 15.4s\n",
      "625:\tlearn: 70.0962184\ttotal: 39.3s\tremaining: 15.3s\n",
      "626:\tlearn: 70.0962066\ttotal: 39.4s\tremaining: 15.3s\n",
      "627:\tlearn: 70.0949399\ttotal: 39.4s\tremaining: 15.2s\n",
      "628:\tlearn: 70.0941307\ttotal: 39.5s\tremaining: 15.1s\n",
      "629:\tlearn: 70.0939103\ttotal: 39.6s\tremaining: 15.1s\n",
      "630:\tlearn: 70.0850551\ttotal: 39.8s\tremaining: 15.1s\n",
      "631:\tlearn: 70.0753565\ttotal: 39.8s\tremaining: 15s\n",
      "632:\tlearn: 70.0737354\ttotal: 39.9s\tremaining: 14.9s\n",
      "633:\tlearn: 70.0737299\ttotal: 39.9s\tremaining: 14.9s\n",
      "634:\tlearn: 70.0734296\ttotal: 40s\tremaining: 14.8s\n",
      "635:\tlearn: 70.0640268\ttotal: 40.1s\tremaining: 14.7s\n",
      "636:\tlearn: 70.0637811\ttotal: 40.1s\tremaining: 14.7s\n",
      "637:\tlearn: 70.0635165\ttotal: 40.2s\tremaining: 14.6s\n",
      "638:\tlearn: 70.0550095\ttotal: 40.2s\tremaining: 14.5s\n",
      "639:\tlearn: 70.0548868\ttotal: 40.3s\tremaining: 14.5s\n",
      "640:\tlearn: 70.0536365\ttotal: 40.3s\tremaining: 14.4s\n",
      "641:\tlearn: 70.0533977\ttotal: 40.4s\tremaining: 14.3s\n",
      "642:\tlearn: 70.0532874\ttotal: 40.4s\tremaining: 14.3s\n",
      "643:\tlearn: 70.0530417\ttotal: 40.5s\tremaining: 14.2s\n",
      "644:\tlearn: 70.0530323\ttotal: 40.6s\tremaining: 14.1s\n",
      "645:\tlearn: 70.0455758\ttotal: 40.6s\tremaining: 14.1s\n",
      "646:\tlearn: 70.0455643\ttotal: 40.7s\tremaining: 14s\n",
      "647:\tlearn: 70.0454962\ttotal: 40.7s\tremaining: 14s\n",
      "648:\tlearn: 70.0453206\ttotal: 40.8s\tremaining: 13.9s\n",
      "649:\tlearn: 70.0413263\ttotal: 40.8s\tremaining: 13.8s\n",
      "650:\tlearn: 70.0412345\ttotal: 40.9s\tremaining: 13.8s\n",
      "651:\tlearn: 70.0411274\ttotal: 40.9s\tremaining: 13.7s\n",
      "652:\tlearn: 70.0408955\ttotal: 41s\tremaining: 13.6s\n",
      "653:\tlearn: 70.0400758\ttotal: 41s\tremaining: 13.6s\n",
      "654:\tlearn: 70.0399874\ttotal: 41.1s\tremaining: 13.5s\n",
      "655:\tlearn: 70.0396986\ttotal: 41.2s\tremaining: 13.4s\n",
      "656:\tlearn: 70.0396936\ttotal: 41.2s\tremaining: 13.4s\n",
      "657:\tlearn: 70.0392510\ttotal: 41.3s\tremaining: 13.3s\n",
      "658:\tlearn: 70.0391901\ttotal: 41.3s\tremaining: 13.2s\n",
      "659:\tlearn: 70.0391400\ttotal: 41.4s\tremaining: 13.2s\n",
      "660:\tlearn: 70.0389143\ttotal: 41.4s\tremaining: 13.1s\n",
      "661:\tlearn: 70.0370300\ttotal: 41.5s\tremaining: 13s\n",
      "662:\tlearn: 70.0368666\ttotal: 41.5s\tremaining: 13s\n",
      "663:\tlearn: 70.0367824\ttotal: 41.6s\tremaining: 12.9s\n",
      "664:\tlearn: 70.0367749\ttotal: 41.6s\tremaining: 12.8s\n",
      "665:\tlearn: 70.0285648\ttotal: 41.7s\tremaining: 12.8s\n",
      "666:\tlearn: 70.0273345\ttotal: 41.7s\tremaining: 12.7s\n",
      "667:\tlearn: 70.0273277\ttotal: 41.8s\tremaining: 12.6s\n",
      "668:\tlearn: 70.0271081\ttotal: 41.8s\tremaining: 12.6s\n",
      "669:\tlearn: 70.0267167\ttotal: 41.9s\tremaining: 12.5s\n",
      "670:\tlearn: 70.0267086\ttotal: 41.9s\tremaining: 12.4s\n",
      "671:\tlearn: 70.0262058\ttotal: 42s\tremaining: 12.4s\n",
      "672:\tlearn: 70.0224988\ttotal: 42s\tremaining: 12.3s\n",
      "673:\tlearn: 70.0208100\ttotal: 42.1s\tremaining: 12.2s\n",
      "674:\tlearn: 70.0141794\ttotal: 42.1s\tremaining: 12.2s\n",
      "675:\tlearn: 70.0141152\ttotal: 42.2s\tremaining: 12.1s\n",
      "676:\tlearn: 69.9087294\ttotal: 42.3s\tremaining: 12s\n",
      "677:\tlearn: 69.9085868\ttotal: 42.3s\tremaining: 12s\n",
      "678:\tlearn: 69.9085843\ttotal: 42.4s\tremaining: 11.9s\n",
      "679:\tlearn: 69.9083649\ttotal: 42.4s\tremaining: 11.9s\n",
      "680:\tlearn: 69.9083625\ttotal: 42.5s\tremaining: 11.8s\n",
      "681:\tlearn: 69.9083176\ttotal: 42.5s\tremaining: 11.7s\n",
      "682:\tlearn: 69.9083096\ttotal: 42.6s\tremaining: 11.7s\n",
      "683:\tlearn: 69.9082242\ttotal: 42.6s\tremaining: 11.6s\n",
      "684:\tlearn: 69.9082128\ttotal: 42.7s\tremaining: 11.5s\n",
      "685:\tlearn: 69.9080489\ttotal: 42.8s\tremaining: 11.5s\n",
      "686:\tlearn: 69.9078440\ttotal: 42.8s\tremaining: 11.4s\n",
      "687:\tlearn: 69.9078369\ttotal: 42.9s\tremaining: 11.3s\n",
      "688:\tlearn: 69.9077551\ttotal: 42.9s\tremaining: 11.3s\n",
      "689:\tlearn: 69.9073134\ttotal: 43s\tremaining: 11.2s\n",
      "690:\tlearn: 69.9073087\ttotal: 43s\tremaining: 11.1s\n",
      "691:\tlearn: 69.9068740\ttotal: 43.1s\tremaining: 11.1s\n",
      "692:\tlearn: 69.9053873\ttotal: 43.1s\tremaining: 11s\n",
      "693:\tlearn: 69.9046489\ttotal: 43.2s\tremaining: 10.9s\n",
      "694:\tlearn: 69.9046460\ttotal: 43.2s\tremaining: 10.9s\n",
      "695:\tlearn: 69.9026073\ttotal: 43.3s\tremaining: 10.8s\n",
      "696:\tlearn: 69.8954585\ttotal: 43.3s\tremaining: 10.8s\n",
      "697:\tlearn: 69.8946635\ttotal: 43.4s\tremaining: 10.7s\n",
      "698:\tlearn: 69.8930925\ttotal: 43.4s\tremaining: 10.6s\n",
      "699:\tlearn: 69.8929537\ttotal: 43.5s\tremaining: 10.6s\n",
      "700:\tlearn: 69.8915557\ttotal: 43.6s\tremaining: 10.5s\n",
      "701:\tlearn: 69.8903851\ttotal: 43.6s\tremaining: 10.4s\n",
      "702:\tlearn: 69.8902828\ttotal: 43.7s\tremaining: 10.4s\n",
      "703:\tlearn: 69.8876322\ttotal: 43.7s\tremaining: 10.3s\n",
      "704:\tlearn: 69.8863274\ttotal: 43.8s\tremaining: 10.2s\n",
      "705:\tlearn: 69.8849116\ttotal: 43.8s\tremaining: 10.2s\n",
      "706:\tlearn: 69.8849069\ttotal: 43.9s\tremaining: 10.1s\n",
      "707:\tlearn: 69.8849056\ttotal: 43.9s\tremaining: 10.1s\n",
      "708:\tlearn: 69.8849044\ttotal: 44s\tremaining: 9.99s\n",
      "709:\tlearn: 69.8848855\ttotal: 44s\tremaining: 9.93s\n",
      "710:\tlearn: 69.8848207\ttotal: 44.1s\tremaining: 9.86s\n",
      "711:\tlearn: 69.8846062\ttotal: 44.1s\tremaining: 9.8s\n",
      "712:\tlearn: 69.8843497\ttotal: 44.2s\tremaining: 9.73s\n",
      "713:\tlearn: 69.8841776\ttotal: 44.3s\tremaining: 9.67s\n",
      "714:\tlearn: 69.8827294\ttotal: 44.3s\tremaining: 9.61s\n",
      "715:\tlearn: 69.8824984\ttotal: 44.4s\tremaining: 9.54s\n",
      "716:\tlearn: 69.8821588\ttotal: 44.4s\tremaining: 9.48s\n",
      "717:\tlearn: 69.8818454\ttotal: 44.5s\tremaining: 9.41s\n",
      "718:\tlearn: 69.8818432\ttotal: 44.5s\tremaining: 9.35s\n",
      "719:\tlearn: 69.8818410\ttotal: 44.6s\tremaining: 9.29s\n",
      "720:\tlearn: 69.8817076\ttotal: 44.6s\tremaining: 9.22s\n",
      "721:\tlearn: 69.8810497\ttotal: 44.7s\tremaining: 9.16s\n",
      "722:\tlearn: 69.8810163\ttotal: 44.7s\tremaining: 9.1s\n",
      "723:\tlearn: 69.8810142\ttotal: 44.8s\tremaining: 9.03s\n",
      "724:\tlearn: 69.8535777\ttotal: 44.9s\tremaining: 8.98s\n",
      "725:\tlearn: 69.8535744\ttotal: 45s\tremaining: 8.92s\n",
      "726:\tlearn: 69.8474070\ttotal: 45s\tremaining: 8.86s\n",
      "727:\tlearn: 69.8473364\ttotal: 45.1s\tremaining: 8.8s\n",
      "728:\tlearn: 69.8473344\ttotal: 45.2s\tremaining: 8.74s\n",
      "729:\tlearn: 69.8472188\ttotal: 45.2s\tremaining: 8.67s\n",
      "730:\tlearn: 69.8471558\ttotal: 45.3s\tremaining: 8.61s\n",
      "731:\tlearn: 69.8470463\ttotal: 45.4s\tremaining: 8.55s\n",
      "732:\tlearn: 69.8470443\ttotal: 45.4s\tremaining: 8.49s\n",
      "733:\tlearn: 69.8470052\ttotal: 45.5s\tremaining: 8.43s\n",
      "734:\tlearn: 69.8464784\ttotal: 45.6s\tremaining: 8.37s\n",
      "735:\tlearn: 69.8464765\ttotal: 45.7s\tremaining: 8.31s\n",
      "736:\tlearn: 69.8441745\ttotal: 45.7s\tremaining: 8.25s\n",
      "737:\tlearn: 69.8429549\ttotal: 45.8s\tremaining: 8.19s\n",
      "738:\tlearn: 69.8429198\ttotal: 45.8s\tremaining: 8.12s\n",
      "739:\tlearn: 69.8418219\ttotal: 45.9s\tremaining: 8.06s\n",
      "740:\tlearn: 69.8407159\ttotal: 45.9s\tremaining: 8s\n",
      "741:\tlearn: 69.8406507\ttotal: 46s\tremaining: 7.93s\n",
      "742:\tlearn: 69.8406458\ttotal: 46s\tremaining: 7.87s\n",
      "743:\tlearn: 69.8399188\ttotal: 46.1s\tremaining: 7.81s\n",
      "744:\tlearn: 69.8398581\ttotal: 46.2s\tremaining: 7.74s\n",
      "745:\tlearn: 69.8387584\ttotal: 46.2s\tremaining: 7.68s\n",
      "746:\tlearn: 69.8381336\ttotal: 46.3s\tremaining: 7.62s\n",
      "747:\tlearn: 69.8380243\ttotal: 46.3s\tremaining: 7.55s\n",
      "748:\tlearn: 69.8377320\ttotal: 46.4s\tremaining: 7.49s\n",
      "749:\tlearn: 69.8377124\ttotal: 46.4s\tremaining: 7.43s\n",
      "750:\tlearn: 69.8377105\ttotal: 46.5s\tremaining: 7.36s\n",
      "751:\tlearn: 69.8376791\ttotal: 46.5s\tremaining: 7.3s\n",
      "752:\tlearn: 69.8373767\ttotal: 46.6s\tremaining: 7.24s\n",
      "753:\tlearn: 69.8373753\ttotal: 46.6s\tremaining: 7.17s\n",
      "754:\tlearn: 69.8373703\ttotal: 46.7s\tremaining: 7.11s\n",
      "755:\tlearn: 69.8349509\ttotal: 46.7s\tremaining: 7.05s\n",
      "756:\tlearn: 69.8339586\ttotal: 46.8s\tremaining: 6.99s\n",
      "757:\tlearn: 69.8339027\ttotal: 46.9s\tremaining: 6.92s\n",
      "758:\tlearn: 69.8339015\ttotal: 46.9s\tremaining: 6.86s\n",
      "759:\tlearn: 69.8317038\ttotal: 47s\tremaining: 6.8s\n",
      "760:\tlearn: 69.8066982\ttotal: 47s\tremaining: 6.74s\n",
      "761:\tlearn: 69.8065915\ttotal: 47.1s\tremaining: 6.67s\n",
      "762:\tlearn: 69.8056101\ttotal: 47.1s\tremaining: 6.61s\n",
      "763:\tlearn: 69.8053258\ttotal: 47.2s\tremaining: 6.55s\n",
      "764:\tlearn: 69.8042110\ttotal: 47.2s\tremaining: 6.48s\n",
      "765:\tlearn: 69.8041553\ttotal: 47.3s\tremaining: 6.42s\n",
      "766:\tlearn: 69.8039999\ttotal: 47.3s\tremaining: 6.36s\n",
      "767:\tlearn: 69.8039554\ttotal: 47.4s\tremaining: 6.29s\n",
      "768:\tlearn: 69.8038014\ttotal: 47.5s\tremaining: 6.23s\n",
      "769:\tlearn: 69.8025221\ttotal: 47.5s\tremaining: 6.17s\n",
      "770:\tlearn: 69.8023727\ttotal: 47.6s\tremaining: 6.11s\n",
      "771:\tlearn: 69.8023708\ttotal: 47.6s\tremaining: 6.04s\n",
      "772:\tlearn: 69.8020740\ttotal: 47.7s\tremaining: 5.98s\n",
      "773:\tlearn: 69.7866632\ttotal: 47.7s\tremaining: 5.92s\n",
      "774:\tlearn: 69.7862065\ttotal: 47.8s\tremaining: 5.86s\n",
      "775:\tlearn: 69.7862047\ttotal: 47.8s\tremaining: 5.79s\n",
      "776:\tlearn: 69.7862028\ttotal: 47.9s\tremaining: 5.73s\n",
      "777:\tlearn: 69.7850459\ttotal: 47.9s\tremaining: 5.67s\n",
      "778:\tlearn: 69.7850441\ttotal: 48s\tremaining: 5.61s\n",
      "779:\tlearn: 69.7850202\ttotal: 48s\tremaining: 5.54s\n",
      "780:\tlearn: 69.7847563\ttotal: 48.1s\tremaining: 5.48s\n",
      "781:\tlearn: 69.7847546\ttotal: 48.2s\tremaining: 5.42s\n",
      "782:\tlearn: 69.7846966\ttotal: 48.2s\tremaining: 5.36s\n",
      "783:\tlearn: 69.7840632\ttotal: 48.3s\tremaining: 5.29s\n",
      "784:\tlearn: 69.7840194\ttotal: 48.3s\tremaining: 5.23s\n",
      "785:\tlearn: 69.7628142\ttotal: 48.4s\tremaining: 5.17s\n",
      "786:\tlearn: 69.7606759\ttotal: 48.4s\tremaining: 5.11s\n",
      "787:\tlearn: 69.7590420\ttotal: 48.5s\tremaining: 5.04s\n",
      "788:\tlearn: 69.7397014\ttotal: 48.5s\tremaining: 4.98s\n",
      "789:\tlearn: 69.7396997\ttotal: 48.6s\tremaining: 4.92s\n",
      "790:\tlearn: 69.7321394\ttotal: 48.7s\tremaining: 4.86s\n",
      "791:\tlearn: 69.7310453\ttotal: 48.7s\tremaining: 4.8s\n",
      "792:\tlearn: 69.7295140\ttotal: 48.8s\tremaining: 4.74s\n",
      "793:\tlearn: 69.7252799\ttotal: 48.8s\tremaining: 4.67s\n",
      "794:\tlearn: 69.7252783\ttotal: 48.9s\tremaining: 4.61s\n",
      "795:\tlearn: 69.7231609\ttotal: 48.9s\tremaining: 4.55s\n",
      "796:\tlearn: 69.6990317\ttotal: 49s\tremaining: 4.49s\n",
      "797:\tlearn: 69.6990301\ttotal: 49s\tremaining: 4.42s\n",
      "798:\tlearn: 69.6990285\ttotal: 49.1s\tremaining: 4.36s\n",
      "799:\tlearn: 69.6987526\ttotal: 49.2s\tremaining: 4.3s\n",
      "800:\tlearn: 69.6985972\ttotal: 49.2s\tremaining: 4.24s\n",
      "801:\tlearn: 69.6982053\ttotal: 49.3s\tremaining: 4.18s\n",
      "802:\tlearn: 69.6966658\ttotal: 49.3s\tremaining: 4.11s\n",
      "803:\tlearn: 69.6966506\ttotal: 49.4s\tremaining: 4.05s\n",
      "804:\tlearn: 69.6966052\ttotal: 49.4s\tremaining: 3.99s\n",
      "805:\tlearn: 69.6952075\ttotal: 49.5s\tremaining: 3.93s\n",
      "806:\tlearn: 69.6952059\ttotal: 49.5s\tremaining: 3.87s\n",
      "807:\tlearn: 69.6952043\ttotal: 49.6s\tremaining: 3.8s\n",
      "808:\tlearn: 69.6952027\ttotal: 49.6s\tremaining: 3.74s\n",
      "809:\tlearn: 69.6952012\ttotal: 49.7s\tremaining: 3.68s\n",
      "810:\tlearn: 69.6930957\ttotal: 49.7s\tremaining: 3.62s\n",
      "811:\tlearn: 69.6829093\ttotal: 49.8s\tremaining: 3.56s\n",
      "812:\tlearn: 69.6829078\ttotal: 49.9s\tremaining: 3.5s\n",
      "813:\tlearn: 69.6816169\ttotal: 49.9s\tremaining: 3.43s\n",
      "814:\tlearn: 69.6800307\ttotal: 50s\tremaining: 3.37s\n",
      "815:\tlearn: 69.6788306\ttotal: 50s\tremaining: 3.31s\n",
      "816:\tlearn: 69.6788284\ttotal: 50.1s\tremaining: 3.25s\n",
      "817:\tlearn: 69.6788150\ttotal: 50.1s\tremaining: 3.19s\n",
      "818:\tlearn: 69.6788136\ttotal: 50.2s\tremaining: 3.12s\n",
      "819:\tlearn: 69.6785745\ttotal: 50.2s\tremaining: 3.06s\n",
      "820:\tlearn: 69.6785731\ttotal: 50.3s\tremaining: 3s\n",
      "821:\tlearn: 69.6785543\ttotal: 50.3s\tremaining: 2.94s\n",
      "822:\tlearn: 69.6785522\ttotal: 50.4s\tremaining: 2.88s\n",
      "823:\tlearn: 69.6785223\ttotal: 50.4s\tremaining: 2.82s\n",
      "824:\tlearn: 69.6785210\ttotal: 50.5s\tremaining: 2.75s\n",
      "825:\tlearn: 69.6785190\ttotal: 50.6s\tremaining: 2.69s\n",
      "826:\tlearn: 69.6785172\ttotal: 50.6s\tremaining: 2.63s\n",
      "827:\tlearn: 69.6782735\ttotal: 50.7s\tremaining: 2.57s\n",
      "828:\tlearn: 69.6689825\ttotal: 50.8s\tremaining: 2.51s\n",
      "829:\tlearn: 69.6688722\ttotal: 50.8s\tremaining: 2.45s\n",
      "830:\tlearn: 69.6688575\ttotal: 50.9s\tremaining: 2.39s\n",
      "831:\tlearn: 69.6684321\ttotal: 51s\tremaining: 2.33s\n",
      "832:\tlearn: 69.6683442\ttotal: 51s\tremaining: 2.27s\n",
      "833:\tlearn: 69.6682648\ttotal: 51.1s\tremaining: 2.21s\n",
      "834:\tlearn: 69.6682632\ttotal: 51.2s\tremaining: 2.15s\n",
      "835:\tlearn: 69.6680456\ttotal: 51.3s\tremaining: 2.08s\n",
      "836:\tlearn: 69.6671410\ttotal: 51.3s\tremaining: 2.02s\n",
      "837:\tlearn: 69.6598021\ttotal: 51.4s\tremaining: 1.96s\n",
      "838:\tlearn: 69.6595568\ttotal: 51.5s\tremaining: 1.9s\n",
      "839:\tlearn: 69.6590196\ttotal: 51.5s\tremaining: 1.84s\n",
      "840:\tlearn: 69.6557101\ttotal: 51.6s\tremaining: 1.78s\n",
      "841:\tlearn: 69.6557085\ttotal: 51.6s\tremaining: 1.72s\n",
      "842:\tlearn: 69.6508931\ttotal: 51.7s\tremaining: 1.66s\n",
      "843:\tlearn: 69.6508652\ttotal: 51.7s\tremaining: 1.59s\n",
      "844:\tlearn: 69.6508637\ttotal: 51.8s\tremaining: 1.53s\n",
      "845:\tlearn: 69.6496537\ttotal: 51.8s\tremaining: 1.47s\n",
      "846:\tlearn: 69.6477509\ttotal: 51.9s\tremaining: 1.41s\n",
      "847:\tlearn: 69.6477493\ttotal: 52s\tremaining: 1.35s\n",
      "848:\tlearn: 69.6275574\ttotal: 52s\tremaining: 1.29s\n",
      "849:\tlearn: 69.4980736\ttotal: 52.1s\tremaining: 1.23s\n",
      "850:\tlearn: 69.4980491\ttotal: 52.1s\tremaining: 1.16s\n",
      "851:\tlearn: 69.4964386\ttotal: 52.2s\tremaining: 1.1s\n",
      "852:\tlearn: 69.4952357\ttotal: 52.2s\tremaining: 1.04s\n",
      "853:\tlearn: 69.4948672\ttotal: 52.3s\tremaining: 979ms\n",
      "854:\tlearn: 69.4948555\ttotal: 52.3s\tremaining: 918ms\n",
      "855:\tlearn: 69.4944998\ttotal: 52.4s\tremaining: 857ms\n",
      "856:\tlearn: 69.4935994\ttotal: 52.4s\tremaining: 796ms\n",
      "857:\tlearn: 69.4932644\ttotal: 52.5s\tremaining: 734ms\n",
      "858:\tlearn: 69.4862476\ttotal: 52.6s\tremaining: 673ms\n",
      "859:\tlearn: 69.4862462\ttotal: 52.6s\tremaining: 612ms\n",
      "860:\tlearn: 69.4860876\ttotal: 52.7s\tremaining: 550ms\n",
      "861:\tlearn: 69.4859915\ttotal: 52.7s\tremaining: 489ms\n",
      "862:\tlearn: 69.4859345\ttotal: 52.8s\tremaining: 428ms\n",
      "863:\tlearn: 69.4688818\ttotal: 52.8s\tremaining: 367ms\n",
      "864:\tlearn: 69.4680025\ttotal: 52.9s\tremaining: 306ms\n",
      "865:\tlearn: 69.4680011\ttotal: 53s\tremaining: 245ms\n",
      "866:\tlearn: 69.4679998\ttotal: 53s\tremaining: 183ms\n",
      "867:\tlearn: 69.4656529\ttotal: 53.1s\tremaining: 122ms\n",
      "868:\tlearn: 69.4656460\ttotal: 53.1s\tremaining: 61.1ms\n",
      "869:\tlearn: 69.4650914\ttotal: 53.2s\tremaining: 0us\n"
     ]
    },
    {
     "data": {
      "text/plain": [
       "<catboost.core.CatBoostRegressor at 0x215daa2ccc8>"
      ]
     },
     "execution_count": 21,
     "metadata": {},
     "output_type": "execute_result"
    }
   ],
   "source": [
    "model.fit(X_train, Y_train)"
   ]
  },
  {
   "cell_type": "code",
   "execution_count": 22,
   "metadata": {
    "colab": {
     "base_uri": "https://localhost:8080/"
    },
    "id": "p0QaINvS6c9n",
    "outputId": "5aae874b-0def-448c-c777-63f76a21d589"
   },
   "outputs": [
    {
     "name": "stderr",
     "output_type": "stream",
     "text": [
      "D:\\anaconda\\lib\\site-packages\\ipykernel_launcher.py:1: SettingWithCopyWarning: \n",
      "A value is trying to be set on a copy of a slice from a DataFrame.\n",
      "Try using .loc[row_indexer,col_indexer] = value instead\n",
      "\n",
      "See the caveats in the documentation: https://pandas.pydata.org/pandas-docs/stable/user_guide/indexing.html#returning-a-view-versus-a-copy\n",
      "  \"\"\"Entry point for launching an IPython kernel.\n",
      "D:\\anaconda\\lib\\site-packages\\ipykernel_launcher.py:2: SettingWithCopyWarning: \n",
      "A value is trying to be set on a copy of a slice from a DataFrame.\n",
      "Try using .loc[row_indexer,col_indexer] = value instead\n",
      "\n",
      "See the caveats in the documentation: https://pandas.pydata.org/pandas-docs/stable/user_guide/indexing.html#returning-a-view-versus-a-copy\n",
      "  \n",
      "D:\\anaconda\\lib\\site-packages\\ipykernel_launcher.py:3: SettingWithCopyWarning: \n",
      "A value is trying to be set on a copy of a slice from a DataFrame.\n",
      "Try using .loc[row_indexer,col_indexer] = value instead\n",
      "\n",
      "See the caveats in the documentation: https://pandas.pydata.org/pandas-docs/stable/user_guide/indexing.html#returning-a-view-versus-a-copy\n",
      "  This is separate from the ipykernel package so we can avoid doing imports until\n",
      "D:\\anaconda\\lib\\site-packages\\ipykernel_launcher.py:4: SettingWithCopyWarning: \n",
      "A value is trying to be set on a copy of a slice from a DataFrame.\n",
      "Try using .loc[row_indexer,col_indexer] = value instead\n",
      "\n",
      "See the caveats in the documentation: https://pandas.pydata.org/pandas-docs/stable/user_guide/indexing.html#returning-a-view-versus-a-copy\n",
      "  after removing the cwd from sys.path.\n",
      "D:\\anaconda\\lib\\site-packages\\ipykernel_launcher.py:5: SettingWithCopyWarning: \n",
      "A value is trying to be set on a copy of a slice from a DataFrame.\n",
      "Try using .loc[row_indexer,col_indexer] = value instead\n",
      "\n",
      "See the caveats in the documentation: https://pandas.pydata.org/pandas-docs/stable/user_guide/indexing.html#returning-a-view-versus-a-copy\n",
      "  \"\"\"\n"
     ]
    }
   ],
   "source": [
    "test['InvoiceNo']=test['InvoiceNo'].astype(str)\n",
    "test['StockCode']=test['StockCode'].astype(str)\n",
    "test['Description']=test['Description'].astype(str)\n",
    "test['CustomerID']=test['CustomerID'].astype(str)\n",
    "test['Country']=test['Country'].astype(str)"
   ]
  },
  {
   "cell_type": "code",
   "execution_count": 23,
   "metadata": {},
   "outputs": [
    {
     "data": {
      "text/html": [
       "<div>\n",
       "<style scoped>\n",
       "    .dataframe tbody tr th:only-of-type {\n",
       "        vertical-align: middle;\n",
       "    }\n",
       "\n",
       "    .dataframe tbody tr th {\n",
       "        vertical-align: top;\n",
       "    }\n",
       "\n",
       "    .dataframe thead th {\n",
       "        text-align: right;\n",
       "    }\n",
       "</style>\n",
       "<table border=\"1\" class=\"dataframe\">\n",
       "  <thead>\n",
       "    <tr style=\"text-align: right;\">\n",
       "      <th></th>\n",
       "      <th>InvoiceNo</th>\n",
       "      <th>StockCode</th>\n",
       "      <th>Description</th>\n",
       "      <th>Quantity</th>\n",
       "      <th>CustomerID</th>\n",
       "      <th>Country</th>\n",
       "      <th>Year</th>\n",
       "    </tr>\n",
       "  </thead>\n",
       "  <tbody>\n",
       "    <tr>\n",
       "      <th>0</th>\n",
       "      <td>3139</td>\n",
       "      <td>1709</td>\n",
       "      <td>1079</td>\n",
       "      <td>3</td>\n",
       "      <td>16161.0</td>\n",
       "      <td>35</td>\n",
       "      <td>2011</td>\n",
       "    </tr>\n",
       "    <tr>\n",
       "      <th>1</th>\n",
       "      <td>617</td>\n",
       "      <td>510</td>\n",
       "      <td>3457</td>\n",
       "      <td>1</td>\n",
       "      <td>17341.0</td>\n",
       "      <td>35</td>\n",
       "      <td>2010</td>\n",
       "    </tr>\n",
       "    <tr>\n",
       "      <th>2</th>\n",
       "      <td>14653</td>\n",
       "      <td>604</td>\n",
       "      <td>694</td>\n",
       "      <td>36</td>\n",
       "      <td>15158.0</td>\n",
       "      <td>35</td>\n",
       "      <td>2011</td>\n",
       "    </tr>\n",
       "    <tr>\n",
       "      <th>3</th>\n",
       "      <td>8634</td>\n",
       "      <td>1478</td>\n",
       "      <td>3473</td>\n",
       "      <td>2</td>\n",
       "      <td>16033.0</td>\n",
       "      <td>35</td>\n",
       "      <td>2011</td>\n",
       "    </tr>\n",
       "    <tr>\n",
       "      <th>4</th>\n",
       "      <td>15546</td>\n",
       "      <td>3216</td>\n",
       "      <td>871</td>\n",
       "      <td>1</td>\n",
       "      <td>15351.0</td>\n",
       "      <td>35</td>\n",
       "      <td>2011</td>\n",
       "    </tr>\n",
       "  </tbody>\n",
       "</table>\n",
       "</div>"
      ],
      "text/plain": [
       "  InvoiceNo StockCode Description  Quantity CustomerID Country  Year\n",
       "0      3139      1709        1079         3    16161.0      35  2011\n",
       "1       617       510        3457         1    17341.0      35  2010\n",
       "2     14653       604         694        36    15158.0      35  2011\n",
       "3      8634      1478        3473         2    16033.0      35  2011\n",
       "4     15546      3216         871         1    15351.0      35  2011"
      ]
     },
     "execution_count": 23,
     "metadata": {},
     "output_type": "execute_result"
    }
   ],
   "source": [
    "test.head()"
   ]
  },
  {
   "cell_type": "code",
   "execution_count": 24,
   "metadata": {
    "id": "40q_obnI8CBz"
   },
   "outputs": [],
   "source": [
    "submission = model.predict(test)"
   ]
  },
  {
   "cell_type": "code",
   "execution_count": 25,
   "metadata": {
    "colab": {
     "base_uri": "https://localhost:8080/",
     "height": 206
    },
    "id": "tjD__Bwn8PVR",
    "outputId": "355c6f11-fe92-4bc5-eca5-b330c2156bb2"
   },
   "outputs": [
    {
     "data": {
      "text/plain": [
       "array([1.26069457, 1.07520654, 3.93465558, ..., 0.92389836, 5.33734372,\n",
       "       4.21042581])"
      ]
     },
     "execution_count": 25,
     "metadata": {},
     "output_type": "execute_result"
    }
   ],
   "source": [
    "submission"
   ]
  },
  {
   "cell_type": "code",
   "execution_count": 26,
   "metadata": {
    "id": "UagIhbBG8RW5"
   },
   "outputs": [
    {
     "data": {
      "text/html": [
       "<div>\n",
       "<style scoped>\n",
       "    .dataframe tbody tr th:only-of-type {\n",
       "        vertical-align: middle;\n",
       "    }\n",
       "\n",
       "    .dataframe tbody tr th {\n",
       "        vertical-align: top;\n",
       "    }\n",
       "\n",
       "    .dataframe thead th {\n",
       "        text-align: right;\n",
       "    }\n",
       "</style>\n",
       "<table border=\"1\" class=\"dataframe\">\n",
       "  <thead>\n",
       "    <tr style=\"text-align: right;\">\n",
       "      <th></th>\n",
       "      <th>UnitPrice</th>\n",
       "    </tr>\n",
       "  </thead>\n",
       "  <tbody>\n",
       "    <tr>\n",
       "      <th>0</th>\n",
       "      <td>1.260695</td>\n",
       "    </tr>\n",
       "    <tr>\n",
       "      <th>1</th>\n",
       "      <td>1.075207</td>\n",
       "    </tr>\n",
       "    <tr>\n",
       "      <th>2</th>\n",
       "      <td>3.934656</td>\n",
       "    </tr>\n",
       "    <tr>\n",
       "      <th>3</th>\n",
       "      <td>1.364653</td>\n",
       "    </tr>\n",
       "    <tr>\n",
       "      <th>4</th>\n",
       "      <td>2.294420</td>\n",
       "    </tr>\n",
       "    <tr>\n",
       "      <th>...</th>\n",
       "      <td>...</td>\n",
       "    </tr>\n",
       "    <tr>\n",
       "      <th>122044</th>\n",
       "      <td>1.191270</td>\n",
       "    </tr>\n",
       "    <tr>\n",
       "      <th>122045</th>\n",
       "      <td>2.384482</td>\n",
       "    </tr>\n",
       "    <tr>\n",
       "      <th>122046</th>\n",
       "      <td>0.923898</td>\n",
       "    </tr>\n",
       "    <tr>\n",
       "      <th>122047</th>\n",
       "      <td>5.337344</td>\n",
       "    </tr>\n",
       "    <tr>\n",
       "      <th>122048</th>\n",
       "      <td>4.210426</td>\n",
       "    </tr>\n",
       "  </tbody>\n",
       "</table>\n",
       "<p>122049 rows × 1 columns</p>\n",
       "</div>"
      ],
      "text/plain": [
       "        UnitPrice\n",
       "0        1.260695\n",
       "1        1.075207\n",
       "2        3.934656\n",
       "3        1.364653\n",
       "4        2.294420\n",
       "...           ...\n",
       "122044   1.191270\n",
       "122045   2.384482\n",
       "122046   0.923898\n",
       "122047   5.337344\n",
       "122048   4.210426\n",
       "\n",
       "[122049 rows x 1 columns]"
      ]
     },
     "execution_count": 26,
     "metadata": {},
     "output_type": "execute_result"
    }
   ],
   "source": [
    "final = pd.DataFrame({'UnitPrice':submission})\n",
    "final"
   ]
  },
  {
   "cell_type": "code",
   "execution_count": 27,
   "metadata": {},
   "outputs": [],
   "source": [
    "#final.to_csv('C:/Users/gaurav sahani/Desktop/GIH_1498.csv',index=False)"
   ]
  },
  {
   "cell_type": "code",
   "execution_count": 28,
   "metadata": {
    "id": "D0tRRnr86oCk"
   },
   "outputs": [
    {
     "data": {
      "text/html": [
       "<div>\n",
       "<style scoped>\n",
       "    .dataframe tbody tr th:only-of-type {\n",
       "        vertical-align: middle;\n",
       "    }\n",
       "\n",
       "    .dataframe tbody tr th {\n",
       "        vertical-align: top;\n",
       "    }\n",
       "\n",
       "    .dataframe thead th {\n",
       "        text-align: right;\n",
       "    }\n",
       "</style>\n",
       "<table border=\"1\" class=\"dataframe\">\n",
       "  <thead>\n",
       "    <tr style=\"text-align: right;\">\n",
       "      <th></th>\n",
       "      <th>UnitPrice</th>\n",
       "    </tr>\n",
       "  </thead>\n",
       "  <tbody>\n",
       "    <tr>\n",
       "      <th>0</th>\n",
       "      <td>1.65</td>\n",
       "    </tr>\n",
       "    <tr>\n",
       "      <th>1</th>\n",
       "      <td>1.25</td>\n",
       "    </tr>\n",
       "    <tr>\n",
       "      <th>2</th>\n",
       "      <td>3.75</td>\n",
       "    </tr>\n",
       "    <tr>\n",
       "      <th>3</th>\n",
       "      <td>1.65</td>\n",
       "    </tr>\n",
       "    <tr>\n",
       "      <th>4</th>\n",
       "      <td>12.75</td>\n",
       "    </tr>\n",
       "    <tr>\n",
       "      <th>...</th>\n",
       "      <td>...</td>\n",
       "    </tr>\n",
       "    <tr>\n",
       "      <th>122044</th>\n",
       "      <td>0.38</td>\n",
       "    </tr>\n",
       "    <tr>\n",
       "      <th>122045</th>\n",
       "      <td>1.69</td>\n",
       "    </tr>\n",
       "    <tr>\n",
       "      <th>122046</th>\n",
       "      <td>1.25</td>\n",
       "    </tr>\n",
       "    <tr>\n",
       "      <th>122047</th>\n",
       "      <td>3.95</td>\n",
       "    </tr>\n",
       "    <tr>\n",
       "      <th>122048</th>\n",
       "      <td>4.15</td>\n",
       "    </tr>\n",
       "  </tbody>\n",
       "</table>\n",
       "<p>122049 rows × 1 columns</p>\n",
       "</div>"
      ],
      "text/plain": [
       "        UnitPrice\n",
       "0            1.65\n",
       "1            1.25\n",
       "2            3.75\n",
       "3            1.65\n",
       "4           12.75\n",
       "...           ...\n",
       "122044       0.38\n",
       "122045       1.69\n",
       "122046       1.25\n",
       "122047       3.95\n",
       "122048       4.15\n",
       "\n",
       "[122049 rows x 1 columns]"
      ]
     },
     "execution_count": 28,
     "metadata": {},
     "output_type": "execute_result"
    }
   ],
   "source": [
    "dff = pd.read_csv('test_df_label.csv')\n",
    "testing = dff[['UnitPrice']]\n",
    "testing"
   ]
  },
  {
   "cell_type": "code",
   "execution_count": 29,
   "metadata": {},
   "outputs": [
    {
     "data": {
      "text/plain": [
       "35.928298745783636"
      ]
     },
     "execution_count": 29,
     "metadata": {},
     "output_type": "execute_result"
    }
   ],
   "source": [
    "from sklearn.metrics import mean_squared_error\n",
    "rmse = np.sqrt(mean_squared_error(final, testing))\n",
    "rmse"
   ]
  },
  {
   "cell_type": "code",
   "execution_count": null,
   "metadata": {},
   "outputs": [],
   "source": []
  }
 ],
 "metadata": {
  "colab": {
   "collapsed_sections": [],
   "name": "MachineHack.ipynb",
   "provenance": []
  },
  "kernelspec": {
   "display_name": "Python 3",
   "language": "python",
   "name": "python3"
  },
  "language_info": {
   "codemirror_mode": {
    "name": "ipython",
    "version": 3
   },
   "file_extension": ".py",
   "mimetype": "text/x-python",
   "name": "python",
   "nbconvert_exporter": "python",
   "pygments_lexer": "ipython3",
   "version": "3.7.6"
  },
  "widgets": {
   "application/vnd.jupyter.widget-state+json": {
    "bdd0a9085ac6460494beef87c74863b7": {
     "model_module": "@jupyter-widgets/base",
     "model_name": "DOMWidgetModel",
     "state": {
      "_dom_classes": [],
      "_model_module": "@jupyter-widgets/base",
      "_model_module_version": "1.2.0",
      "_model_name": "DOMWidgetModel",
      "_view_count": null,
      "_view_module": "catboost_module",
      "_view_module_version": "",
      "_view_name": "CatboostIpythonWidgetView",
      "data": {
       "catboost_info": {
        "content": {
         "data": {
          "iterations": [
           {
            "iteration": 0,
            "learn": [
             78.36223865
            ],
            "passed_time": 0.2625002805,
            "remaining_time": 235.9877522
           },
           {
            "iteration": 1,
            "learn": [
             78.32246994
            ],
            "passed_time": 0.6024363089,
            "remaining_time": 270.4939027
           },
           {
            "iteration": 2,
            "learn": [
             78.28982955
            ],
            "passed_time": 0.7053318838,
            "remaining_time": 210.8942333
           },
           {
            "iteration": 3,
            "learn": [
             78.24254299
            ],
            "passed_time": 0.8295759761,
            "remaining_time": 185.8250186
           },
           {
            "iteration": 4,
            "learn": [
             78.09149919
            ],
            "passed_time": 1.026492036,
            "remaining_time": 183.7420745
           },
           {
            "iteration": 5,
            "learn": [
             78.04136801
            ],
            "passed_time": 1.19922287,
            "remaining_time": 178.6842077
           },
           {
            "iteration": 6,
            "learn": [
             77.86898566
            ],
            "passed_time": 1.348131111,
            "remaining_time": 171.9830118
           },
           {
            "iteration": 7,
            "learn": [
             77.77186777
            ],
            "passed_time": 1.558117239,
            "remaining_time": 173.7300721
           },
           {
            "iteration": 8,
            "learn": [
             77.72571964
            ],
            "passed_time": 1.702793964,
            "remaining_time": 168.5766024
           },
           {
            "iteration": 9,
            "learn": [
             77.65008837
            ],
            "passed_time": 2.020688082,
            "remaining_time": 179.8412393
           },
           {
            "iteration": 10,
            "learn": [
             77.61357904
            ],
            "passed_time": 2.193719498,
            "remaining_time": 177.2924212
           },
           {
            "iteration": 11,
            "learn": [
             77.53023045
            ],
            "passed_time": 2.371630213,
            "remaining_time": 175.5006358
           },
           {
            "iteration": 12,
            "learn": [
             77.4879468
            ],
            "passed_time": 2.541980341,
            "remaining_time": 173.4412741
           },
           {
            "iteration": 13,
            "learn": [
             77.36747404
            ],
            "passed_time": 2.660754543,
            "remaining_time": 168.3877518
           },
           {
            "iteration": 14,
            "learn": [
             77.35557137
            ],
            "passed_time": 3.051330045,
            "remaining_time": 180.0284727
           },
           {
            "iteration": 15,
            "learn": [
             77.22905498
            ],
            "passed_time": 3.326668831,
            "remaining_time": 183.7984529
           },
           {
            "iteration": 16,
            "learn": [
             77.15225026
            ],
            "passed_time": 3.493653745,
            "remaining_time": 181.4644857
           },
           {
            "iteration": 17,
            "learn": [
             77.06662208
            ],
            "passed_time": 3.67223292,
            "remaining_time": 179.9394131
           },
           {
            "iteration": 18,
            "learn": [
             77.04998619
            ],
            "passed_time": 4.020410709,
            "remaining_time": 186.4200965
           },
           {
            "iteration": 19,
            "learn": [
             77.02362749
            ],
            "passed_time": 4.139948516,
            "remaining_time": 182.1577347
           },
           {
            "iteration": 20,
            "learn": [
             77.00491248
            ],
            "passed_time": 4.267703182,
            "remaining_time": 178.6338618
           },
           {
            "iteration": 21,
            "learn": [
             76.90883858
            ],
            "passed_time": 4.507101349,
            "remaining_time": 179.8743175
           },
           {
            "iteration": 22,
            "learn": [
             76.69947954
            ],
            "passed_time": 4.70277188,
            "remaining_time": 179.3187365
           },
           {
            "iteration": 23,
            "learn": [
             76.6573302
            ],
            "passed_time": 4.946617155,
            "remaining_time": 180.5515261
           },
           {
            "iteration": 24,
            "learn": [
             76.59943678
            ],
            "passed_time": 5.177918981,
            "remaining_time": 181.2271643
           },
           {
            "iteration": 25,
            "learn": [
             76.28802331
            ],
            "passed_time": 5.288836087,
            "remaining_time": 177.7862592
           },
           {
            "iteration": 26,
            "learn": [
             76.28062529
            ],
            "passed_time": 5.447705208,
            "remaining_time": 176.1424684
           },
           {
            "iteration": 27,
            "learn": [
             75.99103752
            ],
            "passed_time": 5.601874361,
            "remaining_time": 174.458373
           },
           {
            "iteration": 28,
            "learn": [
             75.9105836
            ],
            "passed_time": 5.723271862,
            "remaining_time": 171.8955101
           },
           {
            "iteration": 29,
            "learn": [
             75.90087283
            ],
            "passed_time": 5.85796487,
            "remaining_time": 169.8809812
           },
           {
            "iteration": 30,
            "learn": [
             75.65611863
            ],
            "passed_time": 6.003020396,
            "remaining_time": 168.2782169
           },
           {
            "iteration": 31,
            "learn": [
             75.6500395
            ],
            "passed_time": 6.137611582,
            "remaining_time": 166.4827142
           },
           {
            "iteration": 32,
            "learn": [
             75.50844887
            ],
            "passed_time": 6.349012951,
            "remaining_time": 166.8058857
           },
           {
            "iteration": 33,
            "learn": [
             75.48434805
            ],
            "passed_time": 6.563954413,
            "remaining_time": 167.18778
           },
           {
            "iteration": 34,
            "learn": [
             75.4673259
            ],
            "passed_time": 6.75586217,
            "remaining_time": 166.9663079
           },
           {
            "iteration": 35,
            "learn": [
             75.45283223
            ],
            "passed_time": 6.908691384,
            "remaining_time": 165.8085932
           },
           {
            "iteration": 36,
            "learn": [
             75.38598773
            ],
            "passed_time": 7.03497526,
            "remaining_time": 164.0860446
           },
           {
            "iteration": 37,
            "learn": [
             75.3713027
            ],
            "passed_time": 7.15184543,
            "remaining_time": 162.2339674
           },
           {
            "iteration": 38,
            "learn": [
             75.3684616
            ],
            "passed_time": 7.2726949,
            "remaining_time": 160.5587259
           },
           {
            "iteration": 39,
            "learn": [
             75.35939984
            ],
            "passed_time": 7.555398005,
            "remaining_time": 162.4410571
           },
           {
            "iteration": 40,
            "learn": [
             75.22462295
            ],
            "passed_time": 7.753541486,
            "remaining_time": 162.4461497
           },
           {
            "iteration": 41,
            "learn": [
             75.21514203
            ],
            "passed_time": 7.870410865,
            "remaining_time": 160.7812505
           },
           {
            "iteration": 42,
            "learn": [
             75.17108301
            ],
            "passed_time": 8.119622649,
            "remaining_time": 161.8259677
           },
           {
            "iteration": 43,
            "learn": [
             75.16473168
            ],
            "passed_time": 8.332188399,
            "remaining_time": 162.0989379
           },
           {
            "iteration": 44,
            "learn": [
             75.15879986
            ],
            "passed_time": 8.500177436,
            "remaining_time": 161.5033713
           },
           {
            "iteration": 45,
            "learn": [
             75.15189934
            ],
            "passed_time": 8.63401899,
            "remaining_time": 160.2924395
           },
           {
            "iteration": 46,
            "learn": [
             75.10562045
            ],
            "passed_time": 8.783146125,
            "remaining_time": 159.4047584
           },
           {
            "iteration": 47,
            "learn": [
             75.05822784
            ],
            "passed_time": 8.921825585,
            "remaining_time": 158.3624041
           },
           {
            "iteration": 48,
            "learn": [
             75.04710975
            ],
            "passed_time": 9.105724965,
            "remaining_time": 158.1422846
           },
           {
            "iteration": 49,
            "learn": [
             75.00958551
            ],
            "passed_time": 9.267247547,
            "remaining_time": 157.5432083
           },
           {
            "iteration": 50,
            "learn": [
             75.00653807
            ],
            "passed_time": 9.497549418,
            "remaining_time": 158.1062638
           },
           {
            "iteration": 51,
            "learn": [
             74.99198249
            ],
            "passed_time": 9.677169413,
            "remaining_time": 157.8123012
           },
           {
            "iteration": 52,
            "learn": [
             74.99136657
            ],
            "passed_time": 9.902305767,
            "remaining_time": 158.2500563
           },
           {
            "iteration": 53,
            "learn": [
             74.9743485
            ],
            "passed_time": 10.01670794,
            "remaining_time": 156.9284243
           },
           {
            "iteration": 54,
            "learn": [
             74.96111805
            ],
            "passed_time": 10.20009999,
            "remaining_time": 156.7106271
           },
           {
            "iteration": 55,
            "learn": [
             74.94028772
            ],
            "passed_time": 10.32186322,
            "remaining_time": 155.5652242
           },
           {
            "iteration": 56,
            "learn": [
             74.92652483
            ],
            "passed_time": 10.42494641,
            "remaining_time": 154.1794705
           },
           {
            "iteration": 57,
            "learn": [
             74.92130375
            ],
            "passed_time": 10.61186582,
            "remaining_time": 154.0550176
           },
           {
            "iteration": 58,
            "learn": [
             74.90164943
            ],
            "passed_time": 10.75659494,
            "remaining_time": 153.3270567
           },
           {
            "iteration": 59,
            "learn": [
             74.89952491
            ],
            "passed_time": 10.85911603,
            "remaining_time": 152.0276244
           },
           {
            "iteration": 60,
            "learn": [
             74.89785771
            ],
            "passed_time": 10.97802283,
            "remaining_time": 150.9928059
           },
           {
            "iteration": 61,
            "learn": [
             74.88408247
            ],
            "passed_time": 11.14498589,
            "remaining_time": 150.6370673
           },
           {
            "iteration": 62,
            "learn": [
             74.86874516
            ],
            "passed_time": 11.29483103,
            "remaining_time": 150.059898
           },
           {
            "iteration": 63,
            "learn": [
             74.86201476
            ],
            "passed_time": 11.40908622,
            "remaining_time": 149.0311887
           },
           {
            "iteration": 64,
            "learn": [
             74.84597242
            ],
            "passed_time": 11.6044104,
            "remaining_time": 149.0720413
           },
           {
            "iteration": 65,
            "learn": [
             74.84234848
            ],
            "passed_time": 11.7115904,
            "remaining_time": 147.9919151
           },
           {
            "iteration": 66,
            "learn": [
             74.81893817
            ],
            "passed_time": 11.84299232,
            "remaining_time": 147.2419792
           },
           {
            "iteration": 67,
            "learn": [
             74.81035864
            ],
            "passed_time": 11.98675545,
            "remaining_time": 146.6614784
           },
           {
            "iteration": 68,
            "learn": [
             74.80121012
            ],
            "passed_time": 12.11043777,
            "remaining_time": 145.851794
           },
           {
            "iteration": 69,
            "learn": [
             74.7846216
            ],
            "passed_time": 12.30204507,
            "remaining_time": 145.8671058
           },
           {
            "iteration": 70,
            "learn": [
             74.78390345
            ],
            "passed_time": 12.41408636,
            "remaining_time": 144.9475718
           },
           {
            "iteration": 71,
            "learn": [
             74.77701653
            ],
            "passed_time": 12.66104935,
            "remaining_time": 145.6020675
           },
           {
            "iteration": 72,
            "learn": [
             74.76243067
            ],
            "passed_time": 12.78108321,
            "remaining_time": 144.7939152
           },
           {
            "iteration": 73,
            "learn": [
             74.75543944
            ],
            "passed_time": 13.11824654,
            "remaining_time": 146.4279952
           },
           {
            "iteration": 74,
            "learn": [
             74.75507569
            ],
            "passed_time": 13.28021552,
            "remaining_time": 146.0823707
           },
           {
            "iteration": 75,
            "learn": [
             74.74642731
            ],
            "passed_time": 13.42712293,
            "remaining_time": 145.5782801
           },
           {
            "iteration": 76,
            "learn": [
             74.7374281
            ],
            "passed_time": 13.56174398,
            "remaining_time": 144.9521467
           },
           {
            "iteration": 77,
            "learn": [
             74.72696581
            ],
            "passed_time": 13.77215254,
            "remaining_time": 145.1372999
           },
           {
            "iteration": 78,
            "learn": [
             74.72358292
            ],
            "passed_time": 13.90127031,
            "remaining_time": 144.467632
           },
           {
            "iteration": 79,
            "learn": [
             74.71812855
            ],
            "passed_time": 14.10420835,
            "remaining_time": 144.5681356
           },
           {
            "iteration": 80,
            "learn": [
             74.7179748
            ],
            "passed_time": 14.20969029,
            "remaining_time": 143.6757574
           },
           {
            "iteration": 81,
            "learn": [
             74.71618439
            ],
            "passed_time": 14.32845513,
            "remaining_time": 142.9350768
           },
           {
            "iteration": 82,
            "learn": [
             74.70337848
            ],
            "passed_time": 14.44240821,
            "remaining_time": 142.1620182
           },
           {
            "iteration": 83,
            "learn": [
             74.66578487
            ],
            "passed_time": 14.64009102,
            "remaining_time": 142.2180271
           },
           {
            "iteration": 84,
            "learn": [
             74.65260633
            ],
            "passed_time": 14.82489872,
            "remaining_time": 142.1446171
           },
           {
            "iteration": 85,
            "learn": [
             74.63591124
            ],
            "passed_time": 15.00935327,
            "remaining_time": 142.0652739
           },
           {
            "iteration": 86,
            "learn": [
             74.63586187
            ],
            "passed_time": 15.0613457,
            "remaining_time": 140.7456787
           },
           {
            "iteration": 87,
            "learn": [
             74.63561143
            ],
            "passed_time": 15.22953066,
            "remaining_time": 140.5270329
           },
           {
            "iteration": 88,
            "learn": [
             74.63468993
            ],
            "passed_time": 15.41151796,
            "remaining_time": 140.4352929
           },
           {
            "iteration": 89,
            "learn": [
             74.63154676
            ],
            "passed_time": 15.58986376,
            "remaining_time": 140.3087738
           },
           {
            "iteration": 90,
            "learn": [
             74.62265656
            ],
            "passed_time": 15.79886297,
            "remaining_time": 140.4536279
           },
           {
            "iteration": 91,
            "learn": [
             74.5386245
            ],
            "passed_time": 15.98555034,
            "remaining_time": 140.3948334
           },
           {
            "iteration": 92,
            "learn": [
             74.53695151
            ],
            "passed_time": 16.29858501,
            "remaining_time": 141.429657
           },
           {
            "iteration": 93,
            "learn": [
             74.53623814
            ],
            "passed_time": 16.3951902,
            "remaining_time": 140.5800351
           },
           {
            "iteration": 94,
            "learn": [
             74.52812635
            ],
            "passed_time": 16.52249865,
            "remaining_time": 140.0064359
           },
           {
            "iteration": 95,
            "learn": [
             74.52754928
            ],
            "passed_time": 16.665603,
            "remaining_time": 139.5744251
           },
           {
            "iteration": 96,
            "learn": [
             74.52087906
            ],
            "passed_time": 16.97886685,
            "remaining_time": 140.5570111
           },
           {
            "iteration": 97,
            "learn": [
             74.51784935
            ],
            "passed_time": 17.13153588,
            "remaining_time": 140.1988957
           },
           {
            "iteration": 98,
            "learn": [
             74.51633582
            ],
            "passed_time": 17.37130139,
            "remaining_time": 140.5496203
           },
           {
            "iteration": 99,
            "learn": [
             74.50809852
            ],
            "passed_time": 17.49315778,
            "remaining_time": 139.9452622
           },
           {
            "iteration": 100,
            "learn": [
             74.50720231
            ],
            "passed_time": 17.61092296,
            "remaining_time": 139.3180935
           },
           {
            "iteration": 101,
            "learn": [
             74.49719663
            ],
            "passed_time": 17.74029969,
            "remaining_time": 138.7917564
           },
           {
            "iteration": 102,
            "learn": [
             74.49134942
            ],
            "passed_time": 17.85703072,
            "remaining_time": 138.1752766
           },
           {
            "iteration": 103,
            "learn": [
             74.48383136
            ],
            "passed_time": 18.09046342,
            "remaining_time": 138.4616239
           },
           {
            "iteration": 104,
            "learn": [
             74.48087711
            ],
            "passed_time": 18.35952609,
            "remaining_time": 139.0078404
           },
           {
            "iteration": 105,
            "learn": [
             74.46339911
            ],
            "passed_time": 18.48236437,
            "remaining_time": 138.4433708
           },
           {
            "iteration": 106,
            "learn": [
             74.24064189
            ],
            "passed_time": 18.70980148,
            "remaining_time": 138.6623605
           },
           {
            "iteration": 107,
            "learn": [
             74.23532211
            ],
            "passed_time": 18.82283117,
            "remaining_time": 138.0340953
           },
           {
            "iteration": 108,
            "learn": [
             74.23467253
            ],
            "passed_time": 19.01828354,
            "remaining_time": 138.0134154
           },
           {
            "iteration": 109,
            "learn": [
             74.23261433
            ],
            "passed_time": 19.21872759,
            "remaining_time": 138.0254072
           },
           {
            "iteration": 110,
            "learn": [
             74.22552489
            ],
            "passed_time": 19.34023032,
            "remaining_time": 137.4724479
           },
           {
            "iteration": 111,
            "learn": [
             74.22384389
            ],
            "passed_time": 19.4504857,
            "remaining_time": 136.8480601
           },
           {
            "iteration": 112,
            "learn": [
             74.22380427
            ],
            "passed_time": 19.51744137,
            "remaining_time": 135.9312067
           },
           {
            "iteration": 113,
            "learn": [
             74.10435498
            ],
            "passed_time": 19.73027213,
            "remaining_time": 136.0350342
           },
           {
            "iteration": 114,
            "learn": [
             74.10425721
            ],
            "passed_time": 19.83340342,
            "remaining_time": 135.3845364
           },
           {
            "iteration": 115,
            "learn": [
             74.1001153
            ],
            "passed_time": 19.95181706,
            "remaining_time": 134.8467636
           },
           {
            "iteration": 116,
            "learn": [
             74.09536201
            ],
            "passed_time": 20.08561147,
            "remaining_time": 134.4190921
           },
           {
            "iteration": 117,
            "learn": [
             74.09519488
            ],
            "passed_time": 20.19828518,
            "remaining_time": 133.8564323
           },
           {
            "iteration": 118,
            "learn": [
             74.08776571
            ],
            "passed_time": 20.30659866,
            "remaining_time": 133.272719
           },
           {
            "iteration": 119,
            "learn": [
             74.0800307
            ],
            "passed_time": 20.42809847,
            "remaining_time": 132.7826401
           },
           {
            "iteration": 120,
            "learn": [
             74.07802112
            ],
            "passed_time": 20.54144443,
            "remaining_time": 132.2461588
           },
           {
            "iteration": 121,
            "learn": [
             74.06155575
            ],
            "passed_time": 20.71810737,
            "remaining_time": 132.1203896
           },
           {
            "iteration": 122,
            "learn": [
             74.05397545
            ],
            "passed_time": 20.99268776,
            "remaining_time": 132.6123446
           },
           {
            "iteration": 123,
            "learn": [
             74.02536849
            ],
            "passed_time": 21.24599779,
            "remaining_time": 132.9588249
           },
           {
            "iteration": 124,
            "learn": [
             74.02449163
            ],
            "passed_time": 21.48244592,
            "remaining_time": 133.1911647
           },
           {
            "iteration": 125,
            "learn": [
             74.02350981
            ],
            "passed_time": 21.69770998,
            "remaining_time": 133.2859327
           },
           {
            "iteration": 126,
            "learn": [
             74.0234744
            ],
            "passed_time": 21.92535652,
            "remaining_time": 133.4511858
           },
           {
            "iteration": 127,
            "learn": [
             74.02014095
            ],
            "passed_time": 22.05814275,
            "remaining_time": 133.0381735
           },
           {
            "iteration": 128,
            "learn": [
             74.01890605
            ],
            "passed_time": 22.24389977,
            "remaining_time": 132.9460986
           },
           {
            "iteration": 129,
            "learn": [
             74.01787405
            ],
            "passed_time": 22.41346774,
            "remaining_time": 132.7566936
           },
           {
            "iteration": 130,
            "learn": [
             74.01616918
            ],
            "passed_time": 22.57199291,
            "remaining_time": 132.5027675
           },
           {
            "iteration": 131,
            "learn": [
             74.01551128
            ],
            "passed_time": 22.8030992,
            "remaining_time": 132.6725771
           },
           {
            "iteration": 132,
            "learn": [
             74.01529672
            ],
            "passed_time": 22.90750875,
            "remaining_time": 132.1057083
           },
           {
            "iteration": 133,
            "learn": [
             73.8069661
            ],
            "passed_time": 23.12516174,
            "remaining_time": 132.1930887
           },
           {
            "iteration": 134,
            "learn": [
             73.80508323
            ],
            "passed_time": 23.23505711,
            "remaining_time": 131.6653236
           },
           {
            "iteration": 135,
            "learn": [
             73.80034783
            ],
            "passed_time": 23.35209437,
            "remaining_time": 131.1838243
           },
           {
            "iteration": 136,
            "learn": [
             73.80026892
            ],
            "passed_time": 23.45830138,
            "remaining_time": 130.6473281
           },
           {
            "iteration": 137,
            "learn": [
             73.79752782
            ],
            "passed_time": 23.72598613,
            "remaining_time": 131.008706
           },
           {
            "iteration": 138,
            "learn": [
             73.79749356
            ],
            "passed_time": 23.91958686,
            "remaining_time": 130.955436
           },
           {
            "iteration": 139,
            "learn": [
             73.78187885
            ],
            "passed_time": 24.17098092,
            "remaining_time": 131.2138964
           },
           {
            "iteration": 140,
            "learn": [
             73.77933343
            ],
            "passed_time": 24.27999128,
            "remaining_time": 130.6986765
           },
           {
            "iteration": 141,
            "learn": [
             73.77398176
            ],
            "passed_time": 24.40182179,
            "remaining_time": 130.2576121
           },
           {
            "iteration": 142,
            "learn": [
             73.77391465
            ],
            "passed_time": 24.58705535,
            "remaining_time": 130.1566496
           },
           {
            "iteration": 143,
            "learn": [
             73.76555496
            ],
            "passed_time": 24.75663894,
            "remaining_time": 129.9723544
           },
           {
            "iteration": 144,
            "learn": [
             73.76413289
            ],
            "passed_time": 24.90343292,
            "remaining_time": 129.669599
           },
           {
            "iteration": 145,
            "learn": [
             73.76348039
            ],
            "passed_time": 25.02498348,
            "remaining_time": 129.2386133
           },
           {
            "iteration": 146,
            "learn": [
             73.76343831
            ],
            "passed_time": 25.29569702,
            "remaining_time": 129.5759174
           },
           {
            "iteration": 147,
            "learn": [
             73.75315476
            ],
            "passed_time": 25.52138101,
            "remaining_time": 129.6762062
           },
           {
            "iteration": 148,
            "learn": [
             73.7505876
            ],
            "passed_time": 25.69824756,
            "remaining_time": 129.5260665
           },
           {
            "iteration": 149,
            "learn": [
             73.73345784
            ],
            "passed_time": 25.87961845,
            "remaining_time": 129.3980922
           },
           {
            "iteration": 150,
            "learn": [
             73.73336934
            ],
            "passed_time": 25.98604561,
            "remaining_time": 128.8976699
           },
           {
            "iteration": 151,
            "learn": [
             73.72994992
            ],
            "passed_time": 26.12826941,
            "remaining_time": 128.578589
           },
           {
            "iteration": 152,
            "learn": [
             73.7235081
            ],
            "passed_time": 26.35822056,
            "remaining_time": 128.6901357
           },
           {
            "iteration": 153,
            "learn": [
             73.72340718
            ],
            "passed_time": 26.4622112,
            "remaining_time": 128.187075
           },
           {
            "iteration": 154,
            "learn": [
             73.71163686
            ],
            "passed_time": 26.67022849,
            "remaining_time": 128.1891627
           },
           {
            "iteration": 155,
            "learn": [
             73.71160524
            ],
            "passed_time": 26.83358672,
            "remaining_time": 127.9755674
           },
           {
            "iteration": 156,
            "learn": [
             73.71153673
            ],
            "passed_time": 27.10959864,
            "remaining_time": 128.2957439
           },
           {
            "iteration": 157,
            "learn": [
             73.58453548
            ],
            "passed_time": 27.32292748,
            "remaining_time": 128.3140012
           },
           {
            "iteration": 158,
            "learn": [
             73.58333423
            ],
            "passed_time": 27.44508069,
            "remaining_time": 127.9044326
           },
           {
            "iteration": 159,
            "learn": [
             73.58224005
            ],
            "passed_time": 27.5913183,
            "remaining_time": 127.6098472
           },
           {
            "iteration": 160,
            "learn": [
             73.52049371
            ],
            "passed_time": 27.83396332,
            "remaining_time": 127.7596205
           },
           {
            "iteration": 161,
            "learn": [
             73.51824268
            ],
            "passed_time": 28.02565548,
            "remaining_time": 127.6724305
           },
           {
            "iteration": 162,
            "learn": [
             73.51822093
            ],
            "passed_time": 28.14418603,
            "remaining_time": 127.2531601
           },
           {
            "iteration": 163,
            "learn": [
             73.51817811
            ],
            "passed_time": 28.33798774,
            "remaining_time": 127.1753596
           },
           {
            "iteration": 164,
            "learn": [
             73.51778467
            ],
            "passed_time": 28.62977707,
            "remaining_time": 127.5326433
           },
           {
            "iteration": 165,
            "learn": [
             73.51773796
            ],
            "passed_time": 28.74302057,
            "remaining_time": 127.0926331
           },
           {
            "iteration": 166,
            "learn": [
             73.51662966
            ],
            "passed_time": 28.87666361,
            "remaining_time": 126.7460744
           },
           {
            "iteration": 167,
            "learn": [
             73.51557242
            ],
            "passed_time": 28.99509329,
            "remaining_time": 126.3357636
           },
           {
            "iteration": 168,
            "learn": [
             73.12853643
            ],
            "passed_time": 29.18561244,
            "remaining_time": 126.240726
           },
           {
            "iteration": 169,
            "learn": [
             73.12847485
            ],
            "passed_time": 29.32365793,
            "remaining_time": 125.919237
           },
           {
            "iteration": 170,
            "learn": [
             73.11284418
            ],
            "passed_time": 29.51376767,
            "remaining_time": 125.8218516
           },
           {
            "iteration": 171,
            "learn": [
             73.11224537
            ],
            "passed_time": 29.73976319,
            "remaining_time": 125.8752768
           },
           {
            "iteration": 172,
            "learn": [
             73.11217925
            ],
            "passed_time": 29.9679982,
            "remaining_time": 125.9348826
           },
           {
            "iteration": 173,
            "learn": [
             73.10775252
            ],
            "passed_time": 30.11473361,
            "remaining_time": 125.6511299
           },
           {
            "iteration": 174,
            "learn": [
             73.10714678
            ],
            "passed_time": 30.23228046,
            "remaining_time": 125.2480191
           },
           {
            "iteration": 175,
            "learn": [
             73.10712706
            ],
            "passed_time": 30.33872357,
            "remaining_time": 124.8024765
           },
           {
            "iteration": 176,
            "learn": [
             73.10705326
            ],
            "passed_time": 30.52082002,
            "remaining_time": 124.6697902
           },
           {
            "iteration": 177,
            "learn": [
             73.10683009
            ],
            "passed_time": 30.6179615,
            "remaining_time": 124.1919562
           },
           {
            "iteration": 178,
            "learn": [
             73.09657165
            ],
            "passed_time": 30.73281394,
            "remaining_time": 123.7897142
           },
           {
            "iteration": 179,
            "learn": [
             73.09653696
            ],
            "passed_time": 30.86615327,
            "remaining_time": 123.4646131
           },
           {
            "iteration": 180,
            "learn": [
             73.09216509
            ],
            "passed_time": 30.99417463,
            "remaining_time": 123.1205059
           },
           {
            "iteration": 181,
            "learn": [
             73.09004543
            ],
            "passed_time": 31.09687443,
            "remaining_time": 122.6788783
           },
           {
            "iteration": 182,
            "learn": [
             73.08462475
            ],
            "passed_time": 31.28103992,
            "remaining_time": 122.56014
           },
           {
            "iteration": 183,
            "learn": [
             73.08321764
            ],
            "passed_time": 31.47595996,
            "remaining_time": 122.4825398
           },
           {
            "iteration": 184,
            "learn": [
             73.07692247
            ],
            "passed_time": 31.6001813,
            "remaining_time": 122.1304304
           },
           {
            "iteration": 185,
            "learn": [
             73.07313113
            ],
            "passed_time": 31.74305383,
            "remaining_time": 121.8523679
           },
           {
            "iteration": 186,
            "learn": [
             73.07297529
            ],
            "passed_time": 31.87475405,
            "remaining_time": 121.5331531
           },
           {
            "iteration": 187,
            "learn": [
             73.0728632
            ],
            "passed_time": 32.00408858,
            "remaining_time": 121.2069738
           },
           {
            "iteration": 188,
            "learn": [
             73.05843141
            ],
            "passed_time": 32.27315388,
            "remaining_time": 121.4085313
           },
           {
            "iteration": 189,
            "learn": [
             73.05795432
            ],
            "passed_time": 32.38958933,
            "remaining_time": 121.0347812
           },
           {
            "iteration": 190,
            "learn": [
             73.05792417
            ],
            "passed_time": 32.50971738,
            "remaining_time": 120.6774326
           },
           {
            "iteration": 191,
            "learn": [
             73.05447144
            ],
            "passed_time": 32.64457157,
            "remaining_time": 120.3768577
           },
           {
            "iteration": 192,
            "learn": [
             73.05442377
            ],
            "passed_time": 32.83377505,
            "remaining_time": 120.277093
           },
           {
            "iteration": 193,
            "learn": [
             73.04475106
            ],
            "passed_time": 33.07305589,
            "remaining_time": 120.3586467
           },
           {
            "iteration": 194,
            "learn": [
             73.04306325
            ],
            "passed_time": 33.33591916,
            "remaining_time": 120.5221693
           },
           {
            "iteration": 195,
            "learn": [
             73.04207885
            ],
            "passed_time": 33.5466845,
            "remaining_time": 120.4942137
           },
           {
            "iteration": 196,
            "learn": [
             73.0397403
            ],
            "passed_time": 33.67783019,
            "remaining_time": 120.1802773
           },
           {
            "iteration": 197,
            "learn": [
             73.00333716
            ],
            "passed_time": 33.85452842,
            "remaining_time": 120.0296917
           },
           {
            "iteration": 198,
            "learn": [
             73.00080693
            ],
            "passed_time": 33.97498863,
            "remaining_time": 119.6807388
           },
           {
            "iteration": 199,
            "learn": [
             72.99982201
            ],
            "passed_time": 34.09417785,
            "remaining_time": 119.3296225
           },
           {
            "iteration": 200,
            "learn": [
             72.99980414
            ],
            "passed_time": 34.22292708,
            "remaining_time": 119.0140598
           },
           {
            "iteration": 201,
            "learn": [
             72.99973676
            ],
            "passed_time": 34.33872454,
            "remaining_time": 118.6555927
           },
           {
            "iteration": 202,
            "learn": [
             72.99690127
            ],
            "passed_time": 34.46228377,
            "remaining_time": 118.3261664
           },
           {
            "iteration": 203,
            "learn": [
             72.99117914
            ],
            "passed_time": 34.59104022,
            "remaining_time": 118.0164902
           },
           {
            "iteration": 204,
            "learn": [
             72.99111897
            ],
            "passed_time": 34.69835353,
            "remaining_time": 117.6358815
           },
           {
            "iteration": 205,
            "learn": [
             72.99109074
            ],
            "passed_time": 34.80710214,
            "remaining_time": 117.2627616
           },
           {
            "iteration": 206,
            "learn": [
             72.99102882
            ],
            "passed_time": 34.94121987,
            "remaining_time": 116.9771274
           },
           {
            "iteration": 207,
            "learn": [
             72.99071733
            ],
            "passed_time": 35.05523871,
            "remaining_time": 116.6260826
           },
           {
            "iteration": 208,
            "learn": [
             72.99068403
            ],
            "passed_time": 35.1977903,
            "remaining_time": 116.3716416
           },
           {
            "iteration": 209,
            "learn": [
             72.98936479
            ],
            "passed_time": 35.43306977,
            "remaining_time": 116.4229435
           },
           {
            "iteration": 210,
            "learn": [
             72.98932263
            ],
            "passed_time": 35.62218166,
            "remaining_time": 116.3207733
           },
           {
            "iteration": 211,
            "learn": [
             72.98398412
            ],
            "passed_time": 35.90071591,
            "remaining_time": 116.5079837
           },
           {
            "iteration": 212,
            "learn": [
             72.98370458
            ],
            "passed_time": 36.08402656,
            "remaining_time": 116.3836913
           },
           {
            "iteration": 213,
            "learn": [
             72.98365766
            ],
            "passed_time": 36.20467978,
            "remaining_time": 116.0579922
           },
           {
            "iteration": 214,
            "learn": [
             72.98136447
            ],
            "passed_time": 36.42036866,
            "remaining_time": 116.0369885
           },
           {
            "iteration": 215,
            "learn": [
             72.981343
            ],
            "passed_time": 36.56292113,
            "remaining_time": 115.7825836
           },
           {
            "iteration": 216,
            "learn": [
             72.95853054
            ],
            "passed_time": 36.73262126,
            "remaining_time": 115.6146558
           },
           {
            "iteration": 217,
            "learn": [
             72.95625141
            ],
            "passed_time": 36.83901072,
            "remaining_time": 115.2486482
           },
           {
            "iteration": 218,
            "learn": [
             72.95582139
            ],
            "passed_time": 37.12781228,
            "remaining_time": 115.4522382
           },
           {
            "iteration": 219,
            "learn": [
             72.95485888
            ],
            "passed_time": 37.24407073,
            "remaining_time": 115.1180368
           },
           {
            "iteration": 220,
            "learn": [
             72.95361573
            ],
            "passed_time": 37.39662136,
            "remaining_time": 114.8973118
           },
           {
            "iteration": 221,
            "learn": [
             72.95333895
            ],
            "passed_time": 37.539976,
            "remaining_time": 114.6491159
           },
           {
            "iteration": 222,
            "learn": [
             72.9513875
            ],
            "passed_time": 37.69711167,
            "remaining_time": 114.4436978
           },
           {
            "iteration": 223,
            "learn": [
             72.94538513
            ],
            "passed_time": 37.81673448,
            "remaining_time": 114.1255023
           },
           {
            "iteration": 224,
            "learn": [
             72.94416299
            ],
            "passed_time": 37.96027902,
            "remaining_time": 113.8808371
           },
           {
            "iteration": 225,
            "learn": [
             72.94393319
            ],
            "passed_time": 38.10068741,
            "remaining_time": 113.6277138
           },
           {
            "iteration": 226,
            "learn": [
             72.92950416
            ],
            "passed_time": 38.21404578,
            "remaining_time": 113.2953868
           },
           {
            "iteration": 227,
            "learn": [
             72.92836557
            ],
            "passed_time": 38.47064801,
            "remaining_time": 113.3871731
           },
           {
            "iteration": 228,
            "learn": [
             72.92759764
            ],
            "passed_time": 38.63990996,
            "remaining_time": 113.2199982
           },
           {
            "iteration": 229,
            "learn": [
             72.92757146
            ],
            "passed_time": 38.74696152,
            "remaining_time": 112.8715836
           },
           {
            "iteration": 230,
            "learn": [
             72.9261715
            ],
            "passed_time": 38.91921912,
            "remaining_time": 112.7141021
           },
           {
            "iteration": 231,
            "learn": [
             72.92064487
            ],
            "passed_time": 39.03345127,
            "remaining_time": 112.38942
           },
           {
            "iteration": 232,
            "learn": [
             72.86494979
            ],
            "passed_time": 39.25866275,
            "remaining_time": 112.3842406
           },
           {
            "iteration": 233,
            "learn": [
             72.86352088
            ],
            "passed_time": 39.38076137,
            "remaining_time": 112.0837054
           },
           {
            "iteration": 234,
            "learn": [
             72.86183866
            ],
            "passed_time": 39.52613692,
            "remaining_time": 111.8505577
           },
           {
            "iteration": 235,
            "learn": [
             72.86065095
            ],
            "passed_time": 39.64193783,
            "remaining_time": 111.5349437
           },
           {
            "iteration": 236,
            "learn": [
             72.85911984
            ],
            "passed_time": 39.77516215,
            "remaining_time": 111.2697574
           },
           {
            "iteration": 237,
            "learn": [
             72.85569428
            ],
            "passed_time": 39.89418727,
            "remaining_time": 110.9661848
           },
           {
            "iteration": 238,
            "learn": [
             72.85473449
            ],
            "passed_time": 40.01935431,
            "remaining_time": 110.6811431
           },
           {
            "iteration": 239,
            "learn": [
             72.8547326
            ],
            "passed_time": 40.11964906,
            "remaining_time": 110.3290349
           },
           {
            "iteration": 240,
            "learn": [
             72.85233859
            ],
            "passed_time": 40.24414377,
            "remaining_time": 110.0451898
           },
           {
            "iteration": 241,
            "learn": [
             72.85118551
            ],
            "passed_time": 40.36749295,
            "remaining_time": 109.7595469
           },
           {
            "iteration": 242,
            "learn": [
             72.81206439
            ],
            "passed_time": 40.48643374,
            "remaining_time": 109.4633208
           },
           {
            "iteration": 243,
            "learn": [
             72.80810752
            ],
            "passed_time": 40.64004178,
            "remaining_time": 109.2617517
           },
           {
            "iteration": 244,
            "learn": [
             72.8080961
            ],
            "passed_time": 40.75345736,
            "remaining_time": 108.9531207
           },
           {
            "iteration": 245,
            "learn": [
             72.80522435
            ],
            "passed_time": 40.87152322,
            "remaining_time": 108.6584398
           },
           {
            "iteration": 246,
            "learn": [
             72.80030171
            ],
            "passed_time": 41.00350132,
            "remaining_time": 108.4019691
           },
           {
            "iteration": 247,
            "learn": [
             72.79946931
            ],
            "passed_time": 41.09500106,
            "remaining_time": 108.0400834
           },
           {
            "iteration": 248,
            "learn": [
             72.79822546
            ],
            "passed_time": 41.23862274,
            "remaining_time": 107.8166402
           },
           {
            "iteration": 249,
            "learn": [
             72.79808628
            ],
            "passed_time": 41.36863201,
            "remaining_time": 107.5584432
           },
           {
            "iteration": 250,
            "learn": [
             72.79807275
            ],
            "passed_time": 41.49424176,
            "remaining_time": 107.289892
           },
           {
            "iteration": 251,
            "learn": [
             72.79805792
            ],
            "passed_time": 41.58210342,
            "remaining_time": 106.9254088
           },
           {
            "iteration": 252,
            "learn": [
             72.79683886
            ],
            "passed_time": 41.71558884,
            "remaining_time": 106.6797865
           },
           {
            "iteration": 253,
            "learn": [
             72.79393321
            ],
            "passed_time": 41.82925642,
            "remaining_time": 106.3846443
           },
           {
            "iteration": 254,
            "learn": [
             72.79250991
            ],
            "passed_time": 41.94311776,
            "remaining_time": 106.0914155
           },
           {
            "iteration": 255,
            "learn": [
             72.78742319
            ],
            "passed_time": 42.12399732,
            "remaining_time": 105.9681808
           },
           {
            "iteration": 256,
            "learn": [
             72.78728943
            ],
            "passed_time": 42.2847083,
            "remaining_time": 105.7940367
           },
           {
            "iteration": 257,
            "learn": [
             72.78626704
            ],
            "passed_time": 42.43053627,
            "remaining_time": 105.5829623
           },
           {
            "iteration": 258,
            "learn": [
             72.78626039
            ],
            "passed_time": 42.67596649,
            "remaining_time": 105.6188978
           },
           {
            "iteration": 259,
            "learn": [
             72.78625356
            ],
            "passed_time": 42.75925616,
            "remaining_time": 105.2535536
           },
           {
            "iteration": 260,
            "learn": [
             72.78372854
            ],
            "passed_time": 42.94671169,
            "remaining_time": 105.1453976
           },
           {
            "iteration": 261,
            "learn": [
             72.78203132
            ],
            "passed_time": 43.15709753,
            "remaining_time": 105.0924741
           },
           {
            "iteration": 262,
            "learn": [
             72.77786581
            ],
            "passed_time": 43.44914595,
            "remaining_time": 105.2361444
           },
           {
            "iteration": 263,
            "learn": [
             72.77764948
            ],
            "passed_time": 43.66504604,
            "remaining_time": 105.1930655
           },
           {
            "iteration": 264,
            "learn": [
             72.77379462
            ],
            "passed_time": 43.80417465,
            "remaining_time": 104.9647204
           },
           {
            "iteration": 265,
            "learn": [
             72.77254772
            ],
            "passed_time": 43.92490807,
            "remaining_time": 104.6932019
           },
           {
            "iteration": 266,
            "learn": [
             72.77234457
            ],
            "passed_time": 44.04322365,
            "remaining_time": 104.4170808
           },
           {
            "iteration": 267,
            "learn": [
             72.77119379
            ],
            "passed_time": 44.19880166,
            "remaining_time": 104.2300099
           },
           {
            "iteration": 268,
            "learn": [
             72.77000991
            ],
            "passed_time": 44.33735938,
            "remaining_time": 104.0032482
           },
           {
            "iteration": 269,
            "learn": [
             72.76686449
            ],
            "passed_time": 44.47096516,
            "remaining_time": 103.7655854
           },
           {
            "iteration": 270,
            "learn": [
             72.76681536
            ],
            "passed_time": 44.57669656,
            "remaining_time": 103.4639931
           },
           {
            "iteration": 271,
            "learn": [
             72.7656876
            ],
            "passed_time": 44.69665988,
            "remaining_time": 103.1967
           },
           {
            "iteration": 272,
            "learn": [
             72.76568525
            ],
            "passed_time": 44.7811765,
            "remaining_time": 102.8490757
           },
           {
            "iteration": 273,
            "learn": [
             72.76567352
            ],
            "passed_time": 44.91173265,
            "remaining_time": 102.6085571
           },
           {
            "iteration": 274,
            "learn": [
             72.76565874
            ],
            "passed_time": 45.03063248,
            "remaining_time": 102.3423465
           },
           {
            "iteration": 275,
            "learn": [
             72.76458338
            ],
            "passed_time": 45.15118935,
            "remaining_time": 102.0809498
           },
           {
            "iteration": 276,
            "learn": [
             72.76445168
            ],
            "passed_time": 45.29243481,
            "remaining_time": 101.8671007
           },
           {
            "iteration": 277,
            "learn": [
             72.74914122
            ],
            "passed_time": 45.57494729,
            "remaining_time": 101.9698461
           },
           {
            "iteration": 278,
            "learn": [
             72.74839273
            ],
            "passed_time": 45.69924521,
            "remaining_time": 101.7176748
           },
           {
            "iteration": 279,
            "learn": [
             72.74747917
            ],
            "passed_time": 45.83114687,
            "remaining_time": 101.4832538
           },
           {
            "iteration": 280,
            "learn": [
             72.74746969
            ],
            "passed_time": 45.93906178,
            "remaining_time": 101.1967233
           },
           {
            "iteration": 281,
            "learn": [
             72.7465726
            ],
            "passed_time": 46.06301252,
            "remaining_time": 100.9466019
           },
           {
            "iteration": 282,
            "learn": [
             72.74626094
            ],
            "passed_time": 46.29594714,
            "remaining_time": 100.9349802
           },
           {
            "iteration": 283,
            "learn": [
             72.74625147
            ],
            "passed_time": 46.40879885,
            "remaining_time": 100.6613384
           },
           {
            "iteration": 284,
            "learn": [
             72.74553154
            ],
            "passed_time": 46.53480183,
            "remaining_time": 100.4172039
           },
           {
            "iteration": 285,
            "learn": [
             72.74521868
            ],
            "passed_time": 46.70697168,
            "remaining_time": 100.2730091
           },
           {
            "iteration": 286,
            "learn": [
             72.74518025
            ],
            "passed_time": 46.82124032,
            "remaining_time": 100.0049488
           },
           {
            "iteration": 287,
            "learn": [
             72.74497605
            ],
            "passed_time": 46.9451489,
            "remaining_time": 99.75844142
           },
           {
            "iteration": 288,
            "learn": [
             72.74428831
            ],
            "passed_time": 47.07060056,
            "remaining_time": 99.51604477
           },
           {
            "iteration": 289,
            "learn": [
             72.74296126
            ],
            "passed_time": 47.30730007,
            "remaining_time": 99.50845876
           },
           {
            "iteration": 290,
            "learn": [
             72.74292393
            ],
            "passed_time": 47.44437227,
            "remaining_time": 99.2907997
           },
           {
            "iteration": 291,
            "learn": [
             72.74289275
            ],
            "passed_time": 47.5760779,
            "remaining_time": 99.06251837
           },
           {
            "iteration": 292,
            "learn": [
             72.74064761
            ],
            "passed_time": 47.9017392,
            "remaining_time": 99.23670885
           },
           {
            "iteration": 293,
            "learn": [
             72.73695367
            ],
            "passed_time": 48.1807185,
            "remaining_time": 99.31127692
           },
           {
            "iteration": 294,
            "learn": [
             72.73175906
            ],
            "passed_time": 48.31249199,
            "remaining_time": 99.08155137
           },
           {
            "iteration": 295,
            "learn": [
             72.73175216
            ],
            "passed_time": 48.43651174,
            "remaining_time": 98.83666586
           },
           {
            "iteration": 296,
            "learn": [
             72.73142497
            ],
            "passed_time": 48.60596524,
            "remaining_time": 98.68483852
           },
           {
            "iteration": 297,
            "learn": [
             72.73139548
            ],
            "passed_time": 48.71969238,
            "remaining_time": 98.42031816
           },
           {
            "iteration": 298,
            "learn": [
             72.72838983
            ],
            "passed_time": 48.88967732,
            "remaining_time": 98.26988652
           },
           {
            "iteration": 299,
            "learn": [
             72.72748467
            ],
            "passed_time": 49.01805711,
            "remaining_time": 98.03611423
           },
           {
            "iteration": 300,
            "learn": [
             72.72712056
            ],
            "passed_time": 49.21441101,
            "remaining_time": 97.93831294
           },
           {
            "iteration": 301,
            "learn": [
             72.72693649
            ],
            "passed_time": 49.40416572,
            "remaining_time": 97.82679173
           },
           {
            "iteration": 302,
            "learn": [
             72.72631361
            ],
            "passed_time": 49.53560114,
            "remaining_time": 97.59984779
           },
           {
            "iteration": 303,
            "learn": [
             72.72629336
            ],
            "passed_time": 49.62923542,
            "remaining_time": 97.29942206
           },
           {
            "iteration": 304,
            "learn": [
             72.72595917
            ],
            "passed_time": 49.89817811,
            "remaining_time": 97.34234746
           },
           {
            "iteration": 305,
            "learn": [
             72.72593999
            ],
            "passed_time": 49.99955809,
            "remaining_time": 97.0579657
           },
           {
            "iteration": 306,
            "learn": [
             72.72242471
            ],
            "passed_time": 50.1229358,
            "remaining_time": 96.81726687
           },
           {
            "iteration": 307,
            "learn": [
             72.72241521
            ],
            "passed_time": 50.22769373,
            "remaining_time": 96.5415412
           },
           {
            "iteration": 308,
            "learn": [
             72.71914204
            ],
            "passed_time": 50.36300996,
            "remaining_time": 96.32536856
           },
           {
            "iteration": 309,
            "learn": [
             72.71898946
            ],
            "passed_time": 50.50094609,
            "remaining_time": 96.11470385
           },
           {
            "iteration": 310,
            "learn": [
             72.71486533
            ],
            "passed_time": 50.68236551,
            "remaining_time": 95.98685943
           },
           {
            "iteration": 311,
            "learn": [
             72.71193526
            ],
            "passed_time": 50.80973673,
            "remaining_time": 95.75681152
           },
           {
            "iteration": 312,
            "learn": [
             72.71180707
            ],
            "passed_time": 50.98146376,
            "remaining_time": 95.61060456
           },
           {
            "iteration": 313,
            "learn": [
             72.71170691
            ],
            "passed_time": 51.11397321,
            "remaining_time": 95.39104554
           },
           {
            "iteration": 314,
            "learn": [
             72.71153408
            ],
            "passed_time": 51.25310413,
            "remaining_time": 95.18433624
           },
           {
            "iteration": 315,
            "learn": [
             72.71068738
            ],
            "passed_time": 51.424258,
            "remaining_time": 95.03723631
           },
           {
            "iteration": 316,
            "learn": [
             72.71042142
            ],
            "passed_time": 51.61874149,
            "remaining_time": 94.9328905
           },
           {
            "iteration": 317,
            "learn": [
             72.71023859
            ],
            "passed_time": 51.84204617,
            "remaining_time": 94.88072601
           },
           {
            "iteration": 318,
            "learn": [
             72.71001054
            ],
            "passed_time": 52.09839792,
            "remaining_time": 94.88767771
           },
           {
            "iteration": 319,
            "learn": [
             72.70940702
            ],
            "passed_time": 52.24431474,
            "remaining_time": 94.69282047
           },
           {
            "iteration": 320,
            "learn": [
             72.70918508
            ],
            "passed_time": 52.3680018,
            "remaining_time": 94.45817147
           },
           {
            "iteration": 321,
            "learn": [
             72.70911172
            ],
            "passed_time": 52.55488827,
            "remaining_time": 94.33765658
           },
           {
            "iteration": 322,
            "learn": [
             72.70778344
            ],
            "passed_time": 52.76568584,
            "remaining_time": 94.25944498
           },
           {
            "iteration": 323,
            "learn": [
             72.70732446
            ],
            "passed_time": 52.89105609,
            "remaining_time": 94.02854416
           },
           {
            "iteration": 324,
            "learn": [
             72.70708104
            ],
            "passed_time": 53.02240785,
            "remaining_time": 93.80887542
           },
           {
            "iteration": 325,
            "learn": [
             72.70222859
            ],
            "passed_time": 53.1785831,
            "remaining_time": 93.63345614
           },
           {
            "iteration": 326,
            "learn": [
             72.69806127
            ],
            "passed_time": 53.38183244,
            "remaining_time": 93.54064217
           },
           {
            "iteration": 327,
            "learn": [
             72.69800382
            ],
            "passed_time": 53.53063397,
            "remaining_time": 93.35220315
           },
           {
            "iteration": 328,
            "learn": [
             72.69718254
            ],
            "passed_time": 53.65639469,
            "remaining_time": 93.12401631
           },
           {
            "iteration": 329,
            "learn": [
             72.69631371
            ],
            "passed_time": 53.80018313,
            "remaining_time": 92.92758904
           },
           {
            "iteration": 330,
            "learn": [
             72.33117511
            ],
            "passed_time": 53.97468742,
            "remaining_time": 92.7842814
           },
           {
            "iteration": 331,
            "learn": [
             72.33098731
            ],
            "passed_time": 54.09575829,
            "remaining_time": 92.54936961
           },
           {
            "iteration": 332,
            "learn": [
             72.32819952
            ],
            "passed_time": 54.21883141,
            "remaining_time": 92.31855078
           },
           {
            "iteration": 333,
            "learn": [
             72.32819094
            ],
            "passed_time": 54.31799753,
            "remaining_time": 92.04786408
           },
           {
            "iteration": 334,
            "learn": [
             72.32736135
            ],
            "passed_time": 54.45558473,
            "remaining_time": 91.84300111
           },
           {
            "iteration": 335,
            "learn": [
             72.32606737
            ],
            "passed_time": 54.62586571,
            "remaining_time": 91.69341744
           },
           {
            "iteration": 336,
            "learn": [
             72.32602918
            ],
            "passed_time": 54.74842509,
            "remaining_time": 91.46398613
           },
           {
            "iteration": 337,
            "learn": [
             72.32601164
            ],
            "passed_time": 54.88702779,
            "remaining_time": 91.26186277
           },
           {
            "iteration": 338,
            "learn": [
             72.32520477
            ],
            "passed_time": 55.01095598,
            "remaining_time": 91.03582981
           },
           {
            "iteration": 339,
            "learn": [
             72.32488728
            ],
            "passed_time": 55.23679449,
            "remaining_time": 90.97824976
           },
           {
            "iteration": 340,
            "learn": [
             72.3243773
            ],
            "passed_time": 55.35702683,
            "remaining_time": 90.74656304
           },
           {
            "iteration": 341,
            "learn": [
             72.31997244
            ],
            "passed_time": 55.49421728,
            "remaining_time": 90.54319661
           },
           {
            "iteration": 342,
            "learn": [
             72.31945508
            ],
            "passed_time": 55.62031917,
            "remaining_time": 90.32220927
           },
           {
            "iteration": 343,
            "learn": [
             72.31873411
            ],
            "passed_time": 55.74512506,
            "remaining_time": 90.09967887
           },
           {
            "iteration": 344,
            "learn": [
             72.31827266
            ],
            "passed_time": 55.86876707,
            "remaining_time": 89.87584267
           },
           {
            "iteration": 345,
            "learn": [
             72.31826555
            ],
            "passed_time": 55.97512612,
            "remaining_time": 89.62491292
           },
           {
            "iteration": 346,
            "learn": [
             72.31810151
            ],
            "passed_time": 56.09801003,
            "remaining_time": 89.40115143
           },
           {
            "iteration": 347,
            "learn": [
             72.31733803
            ],
            "passed_time": 56.21962566,
            "remaining_time": 89.17595795
           },
           {
            "iteration": 348,
            "learn": [
             72.31661455
            ],
            "passed_time": 56.34078199,
            "remaining_time": 88.95063288
           },
           {
            "iteration": 349,
            "learn": [
             72.31619689
            ],
            "passed_time": 56.46639981,
            "remaining_time": 88.73291399
           },
           {
            "iteration": 350,
            "learn": [
             72.3161433
            ],
            "passed_time": 56.61330916,
            "remaining_time": 88.54902202
           },
           {
            "iteration": 351,
            "learn": [
             72.31574235
            ],
            "passed_time": 56.73719124,
            "remaining_time": 88.3294909
           },
           {
            "iteration": 352,
            "learn": [
             72.30829592
            ],
            "passed_time": 57.04372988,
            "remaining_time": 88.39354178
           },
           {
            "iteration": 353,
            "learn": [
             72.30828935
            ],
            "passed_time": 57.2798498,
            "remaining_time": 88.34688699
           },
           {
            "iteration": 354,
            "learn": [
             72.30828215
            ],
            "passed_time": 57.41083247,
            "remaining_time": 88.13775689
           },
           {
            "iteration": 355,
            "learn": [
             72.30762776
            ],
            "passed_time": 57.57415903,
            "remaining_time": 87.97849021
           },
           {
            "iteration": 356,
            "learn": [
             72.30759473
            ],
            "passed_time": 57.72051257,
            "remaining_time": 87.79338467
           },
           {
            "iteration": 357,
            "learn": [
             72.30721906
            ],
            "passed_time": 57.8442219,
            "remaining_time": 87.57421305
           },
           {
            "iteration": 358,
            "learn": [
             72.30716787
            ],
            "passed_time": 57.95655915,
            "remaining_time": 87.33843593
           },
           {
            "iteration": 359,
            "learn": [
             72.30652553
            ],
            "passed_time": 58.08208124,
            "remaining_time": 87.12312186
           },
           {
            "iteration": 360,
            "learn": [
             72.3040021
            ],
            "passed_time": 58.2912882,
            "remaining_time": 87.03325301
           },
           {
            "iteration": 361,
            "learn": [
             72.30365143
            ],
            "passed_time": 58.61409874,
            "remaining_time": 87.11156112
           },
           {
            "iteration": 362,
            "learn": [
             72.30331477
            ],
            "passed_time": 58.77334016,
            "remaining_time": 86.94568502
           },
           {
            "iteration": 363,
            "learn": [
             72.30295144
            ],
            "passed_time": 58.94745967,
            "remaining_time": 86.8017538
           },
           {
            "iteration": 364,
            "learn": [
             72.30197993
            ],
            "passed_time": 59.08323042,
            "remaining_time": 86.60144733
           },
           {
            "iteration": 365,
            "learn": [
             72.29797184
            ],
            "passed_time": 59.20716462,
            "remaining_time": 86.38422378
           },
           {
            "iteration": 366,
            "learn": [
             72.29120048
            ],
            "passed_time": 59.45521544,
            "remaining_time": 86.3477652
           },
           {
            "iteration": 367,
            "learn": [
             72.22863512
            ],
            "passed_time": 59.58209031,
            "remaining_time": 86.13497839
           },
           {
            "iteration": 368,
            "learn": [
             72.22832616
            ],
            "passed_time": 59.73013657,
            "remaining_time": 85.95312335
           },
           {
            "iteration": 369,
            "learn": [
             72.22773962
            ],
            "passed_time": 59.85382774,
            "remaining_time": 85.73656406
           },
           {
            "iteration": 370,
            "learn": [
             72.22762576
            ],
            "passed_time": 59.99196481,
            "remaining_time": 85.54110346
           },
           {
            "iteration": 371,
            "learn": [
             72.22749061
            ],
            "passed_time": 60.16304817,
            "remaining_time": 85.39271353
           },
           {
            "iteration": 372,
            "learn": [
             72.22747516
            ],
            "passed_time": 60.27364246,
            "remaining_time": 85.15873881
           },
           {
            "iteration": 373,
            "learn": [
             72.22719124
            ],
            "passed_time": 60.39216584,
            "remaining_time": 84.93657549
           },
           {
            "iteration": 374,
            "learn": [
             72.22663485
            ],
            "passed_time": 60.51910346,
            "remaining_time": 84.72674485
           },
           {
            "iteration": 375,
            "learn": [
             72.2263361
            ],
            "passed_time": 60.79646104,
            "remaining_time": 84.72698294
           },
           {
            "iteration": 376,
            "learn": [
             72.22632895
            ],
            "passed_time": 60.95484947,
            "remaining_time": 84.56070629
           },
           {
            "iteration": 377,
            "learn": [
             72.22546738
            ],
            "passed_time": 61.07920192,
            "remaining_time": 84.34746932
           },
           {
            "iteration": 378,
            "learn": [
             72.2254315
            ],
            "passed_time": 61.18961851,
            "remaining_time": 84.11554418
           },
           {
            "iteration": 379,
            "learn": [
             72.22490987
            ],
            "passed_time": 61.31103134,
            "remaining_time": 83.89930604
           },
           {
            "iteration": 380,
            "learn": [
             72.22487228
            ],
            "passed_time": 61.42809654,
            "remaining_time": 83.67764332
           },
           {
            "iteration": 381,
            "learn": [
             72.22370668
            ],
            "passed_time": 61.55556926,
            "remaining_time": 83.47064104
           },
           {
            "iteration": 382,
            "learn": [
             72.22288752
            ],
            "passed_time": 61.68328403,
            "remaining_time": 83.26438079
           },
           {
            "iteration": 383,
            "learn": [
             72.22262695
            ],
            "passed_time": 61.83625565,
            "remaining_time": 83.09246853
           },
           {
            "iteration": 384,
            "learn": [
             72.22213842
            ],
            "passed_time": 61.95716299,
            "remaining_time": 82.87776347
           },
           {
            "iteration": 385,
            "learn": [
             72.22164218
            ],
            "passed_time": 62.08564374,
            "remaining_time": 82.67362923
           },
           {
            "iteration": 386,
            "learn": [
             72.22161234
            ],
            "passed_time": 62.20129172,
            "remaining_time": 82.45287507
           },
           {
            "iteration": 387,
            "learn": [
             72.22160876
            ],
            "passed_time": 62.30159876,
            "remaining_time": 82.21241898
           },
           {
            "iteration": 388,
            "learn": [
             72.2215812
            ],
            "passed_time": 62.41940631,
            "remaining_time": 81.99567255
           },
           {
            "iteration": 389,
            "learn": [
             72.22155572
            ],
            "passed_time": 62.53753584,
            "remaining_time": 81.77985455
           },
           {
            "iteration": 390,
            "learn": [
             72.22154171
            ],
            "passed_time": 62.65440999,
            "remaining_time": 81.562902
           },
           {
            "iteration": 391,
            "learn": [
             72.22151434
            ],
            "passed_time": 62.76636282,
            "remaining_time": 81.34008243
           },
           {
            "iteration": 392,
            "learn": [
             72.21931913
            ],
            "passed_time": 62.96373736,
            "remaining_time": 81.22802759
           },
           {
            "iteration": 393,
            "learn": [
             72.21885491
            ],
            "passed_time": 63.08823751,
            "remaining_time": 81.02194969
           },
           {
            "iteration": 394,
            "learn": [
             72.21811462
            ],
            "passed_time": 63.20641331,
            "remaining_time": 80.8081993
           },
           {
            "iteration": 395,
            "learn": [
             72.21416624
            ],
            "passed_time": 63.3316783,
            "remaining_time": 80.6039542
           },
           {
            "iteration": 396,
            "learn": [
             72.21414148
            ],
            "passed_time": 63.44666616,
            "remaining_time": 80.38708584
           },
           {
            "iteration": 397,
            "learn": [
             72.21380484
            ],
            "passed_time": 63.6866535,
            "remaining_time": 80.32839211
           },
           {
            "iteration": 398,
            "learn": [
             72.21033084
            ],
            "passed_time": 63.97154509,
            "remaining_time": 80.32517315
           },
           {
            "iteration": 399,
            "learn": [
             72.21022398
            ],
            "passed_time": 64.10704349,
            "remaining_time": 80.13380436
           },
           {
            "iteration": 400,
            "learn": [
             72.09174926
            ],
            "passed_time": 64.27231767,
            "remaining_time": 79.97976688
           },
           {
            "iteration": 401,
            "learn": [
             72.09174582
            ],
            "passed_time": 64.37154994,
            "remaining_time": 79.74386037
           },
           {
            "iteration": 402,
            "learn": [
             72.09157401
            ],
            "passed_time": 64.49991411,
            "remaining_time": 79.54455908
           },
           {
            "iteration": 403,
            "learn": [
             72.09157085
            ],
            "passed_time": 64.59799173,
            "remaining_time": 79.30842549
           },
           {
            "iteration": 404,
            "learn": [
             72.09156803
            ],
            "passed_time": 64.71472455,
            "remaining_time": 79.09577445
           },
           {
            "iteration": 405,
            "learn": [
             72.09155232
            ],
            "passed_time": 64.95682509,
            "remaining_time": 79.03613694
           },
           {
            "iteration": 406,
            "learn": [
             72.09144887
            ],
            "passed_time": 65.07079977,
            "remaining_time": 78.82040365
           },
           {
            "iteration": 407,
            "learn": [
             72.09116412
            ],
            "passed_time": 65.30320065,
            "remaining_time": 78.74797726
           },
           {
            "iteration": 408,
            "learn": [
             72.08755079
            ],
            "passed_time": 65.43480038,
            "remaining_time": 78.55375791
           },
           {
            "iteration": 409,
            "learn": [
             72.0874587
            ],
            "passed_time": 65.58053379,
            "remaining_time": 78.3767355
           },
           {
            "iteration": 410,
            "learn": [
             72.08115371
            ],
            "passed_time": 65.85467971,
            "remaining_time": 78.35264812
           },
           {
            "iteration": 411,
            "learn": [
             72.08114929
            ],
            "passed_time": 66.13217303,
            "remaining_time": 78.33131174
           },
           {
            "iteration": 412,
            "learn": [
             72.0811453
            ],
            "passed_time": 66.25972418,
            "remaining_time": 78.13192658
           },
           {
            "iteration": 413,
            "learn": [
             72.08021416
            ],
            "passed_time": 66.39735277,
            "remaining_time": 77.94471847
           },
           {
            "iteration": 414,
            "learn": [
             72.07977563
            ],
            "passed_time": 66.58484271,
            "remaining_time": 77.816021
           },
           {
            "iteration": 415,
            "learn": [
             72.07975501
            ],
            "passed_time": 66.70782703,
            "remaining_time": 77.61199107
           },
           {
            "iteration": 416,
            "learn": [
             72.07973862
            ],
            "passed_time": 66.82463896,
            "remaining_time": 77.40120052
           },
           {
            "iteration": 417,
            "learn": [
             72.07972452
            ],
            "passed_time": 66.93732561,
            "remaining_time": 77.18610273
           },
           {
            "iteration": 418,
            "learn": [
             72.07972087
            ],
            "passed_time": 67.10299687,
            "remaining_time": 77.0323186
           },
           {
            "iteration": 419,
            "learn": [
             72.07762503
            ],
            "passed_time": 67.28008857,
            "remaining_time": 76.8915298
           },
           {
            "iteration": 420,
            "learn": [
             72.0738987
            ],
            "passed_time": 67.41731735,
            "remaining_time": 76.7052138
           },
           {
            "iteration": 421,
            "learn": [
             72.07388102
            ],
            "passed_time": 67.53590609,
            "remaining_time": 76.49801685
           },
           {
            "iteration": 422,
            "learn": [
             72.01669422
            ],
            "passed_time": 67.65390606,
            "remaining_time": 76.29057492
           },
           {
            "iteration": 423,
            "learn": [
             72.0166829
            ],
            "passed_time": 67.7650394,
            "remaining_time": 76.07584612
           },
           {
            "iteration": 424,
            "learn": [
             72.01651394
            ],
            "passed_time": 67.8861928,
            "remaining_time": 75.87280372
           },
           {
            "iteration": 425,
            "learn": [
             72.00884776
            ],
            "passed_time": 68.03376908,
            "remaining_time": 75.69954587
           },
           {
            "iteration": 426,
            "learn": [
             71.89985616
            ],
            "passed_time": 68.18277502,
            "remaining_time": 75.527992
           },
           {
            "iteration": 427,
            "learn": [
             71.89985259
            ],
            "passed_time": 68.2915482,
            "remaining_time": 75.31217465
           },
           {
            "iteration": 428,
            "learn": [
             71.89049588
            ],
            "passed_time": 68.40569593,
            "remaining_time": 75.10275707
           },
           {
            "iteration": 429,
            "learn": [
             71.89049269
            ],
            "passed_time": 68.51787464,
            "remaining_time": 74.89163042
           },
           {
            "iteration": 430,
            "learn": [
             71.89048018
            ],
            "passed_time": 68.62722858,
            "remaining_time": 74.67788911
           },
           {
            "iteration": 431,
            "learn": [
             71.89047536
            ],
            "passed_time": 68.74530811,
            "remaining_time": 74.47408379
           },
           {
            "iteration": 432,
            "learn": [
             71.89045769
            ],
            "passed_time": 68.87784028,
            "remaining_time": 74.28626192
           },
           {
            "iteration": 433,
            "learn": [
             71.8879476
            ],
            "passed_time": 69.00376271,
            "remaining_time": 74.09159775
           },
           {
            "iteration": 434,
            "learn": [
             71.87923946
            ],
            "passed_time": 69.16032284,
            "remaining_time": 73.93000027
           },
           {
            "iteration": 435,
            "learn": [
             71.87113133
            ],
            "passed_time": 69.28025456,
            "remaining_time": 73.72944522
           },
           {
            "iteration": 436,
            "learn": [
             71.87112719
            ],
            "passed_time": 69.38532526,
            "remaining_time": 73.51351394
           },
           {
            "iteration": 437,
            "learn": [
             71.87072971
            ],
            "passed_time": 69.51242079,
            "remaining_time": 73.32132056
           },
           {
            "iteration": 438,
            "learn": [
             71.87071881
            ],
            "passed_time": 69.61794315,
            "remaining_time": 73.10676946
           },
           {
            "iteration": 439,
            "learn": [
             71.87071825
            ],
            "passed_time": 69.82822116,
            "remaining_time": 73.00223121
           },
           {
            "iteration": 440,
            "learn": [
             71.87069195
            ],
            "passed_time": 69.9540081,
            "remaining_time": 72.80927373
           },
           {
            "iteration": 441,
            "learn": [
             71.86313308
            ],
            "passed_time": 70.15620855,
            "remaining_time": 72.69579981
           },
           {
            "iteration": 442,
            "learn": [
             71.86303606
            ],
            "passed_time": 70.30880217,
            "remaining_time": 72.53075077
           },
           {
            "iteration": 443,
            "learn": [
             71.85867845
            ],
            "passed_time": 70.54186199,
            "remaining_time": 72.4483988
           },
           {
            "iteration": 444,
            "learn": [
             71.85858639
            ],
            "passed_time": 70.66659048,
            "remaining_time": 72.25460375
           },
           {
            "iteration": 445,
            "learn": [
             71.85858265
            ],
            "passed_time": 70.78250765,
            "remaining_time": 72.05214904
           },
           {
            "iteration": 446,
            "learn": [
             71.85697128
            ],
            "passed_time": 70.94257217,
            "remaining_time": 71.89482146
           },
           {
            "iteration": 447,
            "learn": [
             71.85688674
            ],
            "passed_time": 71.07226968,
            "remaining_time": 71.70684352
           },
           {
            "iteration": 448,
            "learn": [
             71.85688335
            ],
            "passed_time": 71.20345355,
            "remaining_time": 71.52061815
           },
           {
            "iteration": 449,
            "learn": [
             71.85687389
            ],
            "passed_time": 71.36535637,
            "remaining_time": 71.36535637
           },
           {
            "iteration": 450,
            "learn": [
             71.8567264
            ],
            "passed_time": 71.6009091,
            "remaining_time": 71.28338843
           },
           {
            "iteration": 451,
            "learn": [
             71.85628565
            ],
            "passed_time": 71.7306247,
            "remaining_time": 71.09584041
           },
           {
            "iteration": 452,
            "learn": [
             71.84784609
            ],
            "passed_time": 71.90715017,
            "remaining_time": 70.95473758
           },
           {
            "iteration": 453,
            "learn": [
             71.84769518
            ],
            "passed_time": 72.03286635,
            "remaining_time": 70.76356474
           },
           {
            "iteration": 454,
            "learn": [
             71.84761551
            ],
            "passed_time": 72.22001422,
            "remaining_time": 70.63276116
           },
           {
            "iteration": 455,
            "learn": [
             71.84754989
            ],
            "passed_time": 72.34664736,
            "remaining_time": 70.44278821
           },
           {
            "iteration": 456,
            "learn": [
             71.84717467
            ],
            "passed_time": 72.47082074,
            "remaining_time": 70.25070807
           },
           {
            "iteration": 457,
            "learn": [
             71.83975194
            ],
            "passed_time": 72.82526586,
            "remaining_time": 70.28115177
           },
           {
            "iteration": 458,
            "learn": [
             71.83974426
            ],
            "passed_time": 72.97259699,
            "remaining_time": 70.11092652
           },
           {
            "iteration": 459,
            "learn": [
             71.83564104
            ],
            "passed_time": 73.23628544,
            "remaining_time": 70.05209912
           },
           {
            "iteration": 460,
            "learn": [
             71.83551019
            ],
            "passed_time": 73.36052648,
            "remaining_time": 69.85959029
           },
           {
            "iteration": 461,
            "learn": [
             71.83323037
            ],
            "passed_time": 73.56187562,
            "remaining_time": 69.74047948
           },
           {
            "iteration": 462,
            "learn": [
             71.83276589
            ],
            "passed_time": 73.74110347,
            "remaining_time": 69.60013438
           },
           {
            "iteration": 463,
            "learn": [
             71.83221178
            ],
            "passed_time": 73.91241956,
            "remaining_time": 69.45218734
           },
           {
            "iteration": 464,
            "learn": [
             71.83095533
            ],
            "passed_time": 74.0390784,
            "remaining_time": 69.26236367
           },
           {
            "iteration": 465,
            "learn": [
             71.83078704
            ],
            "passed_time": 74.1685471,
            "remaining_time": 69.07542799
           },
           {
            "iteration": 466,
            "learn": [
             71.83075934
            ],
            "passed_time": 74.30968128,
            "remaining_time": 68.89955459
           },
           {
            "iteration": 467,
            "learn": [
             71.83073297
            ],
            "passed_time": 74.43726711,
            "remaining_time": 68.71132348
           },
           {
            "iteration": 468,
            "learn": [
             71.83024334
            ],
            "passed_time": 74.60709787,
            "remaining_time": 68.56217309
           },
           {
            "iteration": 469,
            "learn": [
             71.82991535
            ],
            "passed_time": 74.71987926,
            "remaining_time": 68.3607406
           },
           {
            "iteration": 470,
            "learn": [
             71.82953476
            ],
            "passed_time": 74.848212,
            "remaining_time": 68.17384914
           },
           {
            "iteration": 471,
            "learn": [
             71.82917387
            ],
            "passed_time": 74.971363,
            "remaining_time": 67.98250713
           },
           {
            "iteration": 472,
            "learn": [
             71.82914856
            ],
            "passed_time": 75.08868228,
            "remaining_time": 67.78618887
           },
           {
            "iteration": 473,
            "learn": [
             71.82873208
            ],
            "passed_time": 75.19577619,
            "remaining_time": 67.58101405
           },
           {
            "iteration": 474,
            "learn": [
             71.82734313
            ],
            "passed_time": 75.34687629,
            "remaining_time": 67.41562615
           },
           {
            "iteration": 475,
            "learn": [
             71.82728387
            ],
            "passed_time": 75.49069832,
            "remaining_time": 67.24381531
           },
           {
            "iteration": 476,
            "learn": [
             71.82376692
            ],
            "passed_time": 75.61145984,
            "remaining_time": 67.05167193
           },
           {
            "iteration": 477,
            "learn": [
             71.82227394
            ],
            "passed_time": 75.73283826,
            "remaining_time": 66.86037186
           },
           {
            "iteration": 478,
            "learn": [
             71.82219336
            ],
            "passed_time": 75.8981924,
            "remaining_time": 66.70801462
           },
           {
            "iteration": 479,
            "learn": [
             71.81668192
            ],
            "passed_time": 76.02314557,
            "remaining_time": 66.52025237
           },
           {
            "iteration": 480,
            "learn": [
             71.81580772
            ],
            "passed_time": 76.14222753,
            "remaining_time": 66.32763687
           },
           {
            "iteration": 481,
            "learn": [
             71.81571855
            ],
            "passed_time": 76.25362188,
            "remaining_time": 66.12865963
           },
           {
            "iteration": 482,
            "learn": [
             71.81524891
            ],
            "passed_time": 76.38987136,
            "remaining_time": 65.95150384
           },
           {
            "iteration": 483,
            "learn": [
             71.80236638
            ],
            "passed_time": 76.51168253,
            "remaining_time": 65.7621073
           },
           {
            "iteration": 484,
            "learn": [
             71.79574588
            ],
            "passed_time": 76.75481595,
            "remaining_time": 65.67680128
           },
           {
            "iteration": 485,
            "learn": [
             71.79463928
            ],
            "passed_time": 76.88465408,
            "remaining_time": 65.49433496
           },
           {
            "iteration": 486,
            "learn": [
             71.78249367
            ],
            "passed_time": 77.00396153,
            "remaining_time": 65.30315424
           },
           {
            "iteration": 487,
            "learn": [
             71.78243999
            ],
            "passed_time": 77.12553431,
            "remaining_time": 65.11418061
           },
           {
            "iteration": 488,
            "learn": [
             71.77099156
            ],
            "passed_time": 77.24782946,
            "remaining_time": 64.92608979
           },
           {
            "iteration": 489,
            "learn": [
             71.77089882
            ],
            "passed_time": 77.38179973,
            "remaining_time": 64.74803651
           },
           {
            "iteration": 490,
            "learn": [
             71.71892751
            ],
            "passed_time": 77.49964125,
            "remaining_time": 64.55672764
           },
           {
            "iteration": 491,
            "learn": [
             71.71843781
            ],
            "passed_time": 77.60952986,
            "remaining_time": 64.35912232
           },
           {
            "iteration": 492,
            "learn": [
             71.71689794
            ],
            "passed_time": 77.74596053,
            "remaining_time": 64.18378486
           },
           {
            "iteration": 493,
            "learn": [
             71.71689437
            ],
            "passed_time": 77.86283378,
            "remaining_time": 63.9925314
           },
           {
            "iteration": 494,
            "learn": [
             71.70609288
            ],
            "passed_time": 77.98116917,
            "remaining_time": 63.80277477
           },
           {
            "iteration": 495,
            "learn": [
             71.70602942
            ],
            "passed_time": 78.13354857,
            "remaining_time": 63.64103553
           },
           {
            "iteration": 496,
            "learn": [
             71.68393815
            ],
            "passed_time": 78.43498997,
            "remaining_time": 63.60020313
           },
           {
            "iteration": 497,
            "learn": [
             71.68388027
            ],
            "passed_time": 78.62572921,
            "remaining_time": 63.46896213
           },
           {
            "iteration": 498,
            "learn": [
             71.68384176
            ],
            "passed_time": 78.7782922,
            "remaining_time": 63.30680395
           },
           {
            "iteration": 499,
            "learn": [
             71.68033076
            ],
            "passed_time": 78.99880159,
            "remaining_time": 63.19904127
           },
           {
            "iteration": 500,
            "learn": [
             71.68031371
            ],
            "passed_time": 79.10863074,
            "remaining_time": 63.00268197
           },
           {
            "iteration": 501,
            "learn": [
             71.68027163
            ],
            "passed_time": 79.23334129,
            "remaining_time": 62.8184658
           },
           {
            "iteration": 502,
            "learn": [
             71.67923684
            ],
            "passed_time": 79.45013256,
            "remaining_time": 62.70716228
           },
           {
            "iteration": 503,
            "learn": [
             71.67919868
            ],
            "passed_time": 79.57845893,
            "remaining_time": 62.52593202
           },
           {
            "iteration": 504,
            "learn": [
             71.67879078
            ],
            "passed_time": 79.76233457,
            "remaining_time": 62.3883607
           },
           {
            "iteration": 505,
            "learn": [
             71.67875597
            ],
            "passed_time": 79.89711466,
            "remaining_time": 62.21237782
           },
           {
            "iteration": 506,
            "learn": [
             71.67872421
            ],
            "passed_time": 80.02199899,
            "remaining_time": 62.02888679
           },
           {
            "iteration": 507,
            "learn": [
             71.67721609
            ],
            "passed_time": 80.17727894,
            "remaining_time": 61.86908139
           },
           {
            "iteration": 508,
            "learn": [
             71.67709171
            ],
            "passed_time": 80.30108658,
            "remaining_time": 61.68511759
           },
           {
            "iteration": 509,
            "learn": [
             71.67693929
            ],
            "passed_time": 80.4214112,
            "remaining_time": 61.49872621
           },
           {
            "iteration": 510,
            "learn": [
             71.67097623
            ],
            "passed_time": 80.68496375,
            "remaining_time": 61.42162603
           },
           {
            "iteration": 511,
            "learn": [
             71.66979178
            ],
            "passed_time": 80.90980827,
            "remaining_time": 61.31446408
           },
           {
            "iteration": 512,
            "learn": [
             71.66947482
            ],
            "passed_time": 81.03641622,
            "remaining_time": 61.13273504
           },
           {
            "iteration": 513,
            "learn": [
             71.66899717
            ],
            "passed_time": 81.16036574,
            "remaining_time": 60.94922407
           },
           {
            "iteration": 514,
            "learn": [
             71.66844606
            ],
            "passed_time": 81.35515139,
            "remaining_time": 60.81889958
           },
           {
            "iteration": 515,
            "learn": [
             71.66837127
            ],
            "passed_time": 81.56405425,
            "remaining_time": 60.69883107
           },
           {
            "iteration": 516,
            "learn": [
             71.66804408
            ],
            "passed_time": 81.68407963,
            "remaining_time": 60.51257736
           },
           {
            "iteration": 517,
            "learn": [
             71.66761275
            ],
            "passed_time": 81.81824955,
            "remaining_time": 60.33701029
           },
           {
            "iteration": 518,
            "learn": [
             71.66749175
            ],
            "passed_time": 81.940383,
            "remaining_time": 60.15276671
           },
           {
            "iteration": 519,
            "learn": [
             71.66748967
            ],
            "passed_time": 82.0535675,
            "remaining_time": 59.9622224
           },
           {
            "iteration": 520,
            "learn": [
             71.66657784
            ],
            "passed_time": 82.16841748,
            "remaining_time": 59.77318661
           },
           {
            "iteration": 521,
            "learn": [
             71.66657611
            ],
            "passed_time": 82.29617715,
            "remaining_time": 59.59378346
           },
           {
            "iteration": 522,
            "learn": [
             71.66096673
            ],
            "passed_time": 82.4146889,
            "remaining_time": 59.4079115
           },
           {
            "iteration": 523,
            "learn": [
             71.66091939
            ],
            "passed_time": 82.56266592,
            "remaining_time": 59.24343967
           },
           {
            "iteration": 524,
            "learn": [
             71.66079558
            ],
            "passed_time": 82.67856838,
            "remaining_time": 59.05612027
           },
           {
            "iteration": 525,
            "learn": [
             71.660514
            ],
            "passed_time": 82.80399639,
            "remaining_time": 58.87584534
           },
           {
            "iteration": 526,
            "learn": [
             71.65763811
            ],
            "passed_time": 82.94233434,
            "remaining_time": 58.70491596
           },
           {
            "iteration": 527,
            "learn": [
             71.65741525
            ],
            "passed_time": 83.11542589,
            "remaining_time": 58.55859551
           },
           {
            "iteration": 528,
            "learn": [
             71.65732062
            ],
            "passed_time": 83.37685702,
            "remaining_time": 58.47412846
           },
           {
            "iteration": 529,
            "learn": [
             71.65675327
            ],
            "passed_time": 83.60408929,
            "remaining_time": 58.36511894
           },
           {
            "iteration": 530,
            "learn": [
             71.65587747
            ],
            "passed_time": 83.74309779,
            "remaining_time": 58.19435609
           },
           {
            "iteration": 531,
            "learn": [
             71.65325647
            ],
            "passed_time": 83.86193839,
            "remaining_time": 58.00976189
           },
           {
            "iteration": 532,
            "learn": [
             71.65325255
            ],
            "passed_time": 84.02202285,
            "remaining_time": 57.85381311
           },
           {
            "iteration": 533,
            "learn": [
             71.65227887
            ],
            "passed_time": 84.14850935,
            "remaining_time": 57.67482102
           },
           {
            "iteration": 534,
            "learn": [
             71.63276912
            ],
            "passed_time": 84.28974063,
            "remaining_time": 57.50608473
           },
           {
            "iteration": 535,
            "learn": [
             71.63258555
            ],
            "passed_time": 84.45008793,
            "remaining_time": 57.35043285
           },
           {
            "iteration": 536,
            "learn": [
             71.63028053
            ],
            "passed_time": 84.66504159,
            "remaining_time": 57.23167616
           },
           {
            "iteration": 537,
            "learn": [
             71.6294848
            ],
            "passed_time": 84.78694137,
            "remaining_time": 57.0499494
           },
           {
            "iteration": 538,
            "learn": [
             71.62859439
            ],
            "passed_time": 84.97037141,
            "remaining_time": 56.90965506
           },
           {
            "iteration": 539,
            "learn": [
             71.62842334
            ],
            "passed_time": 85.09114302,
            "remaining_time": 56.72742868
           },
           {
            "iteration": 540,
            "learn": [
             71.62790639
            ],
            "passed_time": 85.35257636,
            "remaining_time": 56.63877063
           },
           {
            "iteration": 541,
            "learn": [
             71.62741461
            ],
            "passed_time": 85.49778419,
            "remaining_time": 56.47270617
           },
           {
            "iteration": 542,
            "learn": [
             71.62725358
            ],
            "passed_time": 85.61863288,
            "remaining_time": 56.29070338
           },
           {
            "iteration": 543,
            "learn": [
             71.62714576
            ],
            "passed_time": 85.88710432,
            "remaining_time": 56.20553151
           },
           {
            "iteration": 544,
            "learn": [
             71.62714411
            ],
            "passed_time": 86.1128104,
            "remaining_time": 56.09183063
           },
           {
            "iteration": 545,
            "learn": [
             71.62642584
            ],
            "passed_time": 86.34323541,
            "remaining_time": 55.98077901
           },
           {
            "iteration": 546,
            "learn": [
             71.62291796
            ],
            "passed_time": 86.52325463,
            "remaining_time": 55.83676213
           },
           {
            "iteration": 547,
            "learn": [
             71.62244983
            ],
            "passed_time": 86.63135344,
            "remaining_time": 55.64641681
           },
           {
            "iteration": 548,
            "learn": [
             71.6219955
            ],
            "passed_time": 86.77779611,
            "remaining_time": 55.48088603
           },
           {
            "iteration": 549,
            "learn": [
             71.62174217
            ],
            "passed_time": 86.90528437,
            "remaining_time": 55.30336278
           },
           {
            "iteration": 550,
            "learn": [
             71.62107768
            ],
            "passed_time": 87.03841192,
            "remaining_time": 55.12959303
           },
           {
            "iteration": 551,
            "learn": [
             71.61880745
            ],
            "passed_time": 87.17804116,
            "remaining_time": 54.96006943
           },
           {
            "iteration": 552,
            "learn": [
             71.61880578
            ],
            "passed_time": 87.29026522,
            "remaining_time": 54.77345756
           },
           {
            "iteration": 553,
            "learn": [
             71.61875545
            ],
            "passed_time": 87.42177184,
            "remaining_time": 54.59915714
           },
           {
            "iteration": 554,
            "learn": [
             71.61565548
            ],
            "passed_time": 87.53872986,
            "remaining_time": 54.41596721
           },
           {
            "iteration": 555,
            "learn": [
             71.61504168
            ],
            "passed_time": 87.67076217,
            "remaining_time": 54.24234206
           },
           {
            "iteration": 556,
            "learn": [
             71.61504034
            ],
            "passed_time": 87.89043419,
            "remaining_time": 54.1228347
           },
           {
            "iteration": 557,
            "learn": [
             71.61463722
            ],
            "passed_time": 88.01759661,
            "remaining_time": 53.94626889
           },
           {
            "iteration": 558,
            "learn": [
             71.61332875
            ],
            "passed_time": 88.19144838,
            "remaining_time": 53.79836118
           },
           {
            "iteration": 559,
            "learn": [
             71.61221089
            ],
            "passed_time": 88.3206813,
            "remaining_time": 53.62327079
           },
           {
            "iteration": 560,
            "learn": [
             71.61081066
            ],
            "passed_time": 88.4366887,
            "remaining_time": 53.440352
           },
           {
            "iteration": 561,
            "learn": [
             71.60858249
            ],
            "passed_time": 88.58828212,
            "remaining_time": 53.27907359
           },
           {
            "iteration": 562,
            "learn": [
             71.608446
            ],
            "passed_time": 88.70636199,
            "remaining_time": 53.09776907
           },
           {
            "iteration": 563,
            "learn": [
             71.60844283
            ],
            "passed_time": 88.84533847,
            "remaining_time": 52.92913781
           },
           {
            "iteration": 564,
            "learn": [
             71.60822385
            ],
            "passed_time": 88.97420103,
            "remaining_time": 52.75461477
           },
           {
            "iteration": 565,
            "learn": [
             71.60809801
            ],
            "passed_time": 89.09399557,
            "remaining_time": 52.57490198
           },
           {
            "iteration": 566,
            "learn": [
             71.60690278
            ],
            "passed_time": 89.20260245,
            "remaining_time": 52.38883001
           },
           {
            "iteration": 567,
            "learn": [
             71.60515664
            ],
            "passed_time": 89.31184048,
            "remaining_time": 52.20339971
           },
           {
            "iteration": 568,
            "learn": [
             71.60203741
            ],
            "passed_time": 89.43131737,
            "remaining_time": 52.02419341
           },
           {
            "iteration": 569,
            "learn": [
             71.60193676
            ],
            "passed_time": 89.54501625,
            "remaining_time": 51.84185152
           },
           {
            "iteration": 570,
            "learn": [
             71.60115855
            ],
            "passed_time": 89.72069852,
            "remaining_time": 51.69546377
           },
           {
            "iteration": 571,
            "learn": [
             71.60059698
            ],
            "passed_time": 89.88338286,
            "remaining_time": 51.54152024
           },
           {
            "iteration": 572,
            "learn": [
             71.59783671
            ],
            "passed_time": 89.99961736,
            "remaining_time": 51.36103818
           },
           {
            "iteration": 573,
            "learn": [
             71.5970503
            ],
            "passed_time": 90.18857005,
            "remaining_time": 51.22207985
           },
           {
            "iteration": 574,
            "learn": [
             71.59566872
            ],
            "passed_time": 90.34942138,
            "remaining_time": 51.06706426
           },
           {
            "iteration": 575,
            "learn": [
             71.59513762
            ],
            "passed_time": 90.48292842,
            "remaining_time": 50.89664723
           },
           {
            "iteration": 576,
            "learn": [
             71.5950416
            ],
            "passed_time": 90.59973685,
            "remaining_time": 50.7170104
           },
           {
            "iteration": 577,
            "learn": [
             71.5949504
            ],
            "passed_time": 90.71418324,
            "remaining_time": 50.53627509
           },
           {
            "iteration": 578,
            "learn": [
             71.59488432
            ],
            "passed_time": 90.88850258,
            "remaining_time": 50.38896257
           },
           {
            "iteration": 579,
            "learn": [
             71.59482241
            ],
            "passed_time": 91.02490255,
            "remaining_time": 50.22063589
           },
           {
            "iteration": 580,
            "learn": [
             71.5947237
            ],
            "passed_time": 91.16253664,
            "remaining_time": 50.05309671
           },
           {
            "iteration": 581,
            "learn": [
             71.59290073
            ],
            "passed_time": 91.28209272,
            "remaining_time": 49.87578262
           },
           {
            "iteration": 582,
            "learn": [
             71.59265671
            ],
            "passed_time": 91.41349344,
            "remaining_time": 49.70510707
           },
           {
            "iteration": 583,
            "learn": [
             71.59260097
            ],
            "passed_time": 91.54321544,
            "remaining_time": 49.53365767
           },
           {
            "iteration": 584,
            "learn": [
             71.59251326
            ],
            "passed_time": 91.68367887,
            "remaining_time": 49.36813477
           },
           {
            "iteration": 585,
            "learn": [
             71.59242429
            ],
            "passed_time": 91.81011003,
            "remaining_time": 49.19517841
           },
           {
            "iteration": 586,
            "learn": [
             71.58672125
            ],
            "passed_time": 91.96503424,
            "remaining_time": 49.03757362
           },
           {
            "iteration": 587,
            "learn": [
             71.58641738
            ],
            "passed_time": 92.08788421,
            "remaining_time": 48.86295897
           },
           {
            "iteration": 588,
            "learn": [
             71.58633556
            ],
            "passed_time": 92.20960499,
            "remaining_time": 48.68792386
           },
           {
            "iteration": 589,
            "learn": [
             71.58628398
            ],
            "passed_time": 92.33526783,
            "remaining_time": 48.51514072
           },
           {
            "iteration": 590,
            "learn": [
             71.5850031
            ],
            "passed_time": 92.46211295,
            "remaining_time": 48.3431352
           },
           {
            "iteration": 591,
            "learn": [
             71.58492544
            ],
            "passed_time": 92.57928823,
            "remaining_time": 48.16625131
           },
           {
            "iteration": 592,
            "learn": [
             71.58420659
            ],
            "passed_time": 92.71051546,
            "remaining_time": 47.99684358
           },
           {
            "iteration": 593,
            "learn": [
             71.58415641
            ],
            "passed_time": 92.83915157,
            "remaining_time": 47.8262296
           },
           {
            "iteration": 594,
            "learn": [
             71.58408987
            ],
            "passed_time": 93.01298605,
            "remaining_time": 47.67892562
           },
           {
            "iteration": 595,
            "learn": [
             71.58131009
            ],
            "passed_time": 93.13794856,
            "remaining_time": 47.50660464
           },
           {
            "iteration": 596,
            "learn": [
             71.58111388
            ],
            "passed_time": 93.26297821,
            "remaining_time": 47.33447638
           },
           {
            "iteration": 597,
            "learn": [
             71.58103231
            ],
            "passed_time": 93.38662608,
            "remaining_time": 47.16180782
           },
           {
            "iteration": 598,
            "learn": [
             71.57571962
            ],
            "passed_time": 93.50973253,
            "remaining_time": 46.98903087
           },
           {
            "iteration": 599,
            "learn": [
             71.57505252
            ],
            "passed_time": 93.61359133,
            "remaining_time": 46.80679566
           },
           {
            "iteration": 600,
            "learn": [
             71.57384259
            ],
            "passed_time": 93.7338937,
            "remaining_time": 46.63300202
           },
           {
            "iteration": 601,
            "learn": [
             71.5738315
            ],
            "passed_time": 93.84724665,
            "remaining_time": 46.45594601
           },
           {
            "iteration": 602,
            "learn": [
             71.57382092
            ],
            "passed_time": 94.00805039,
            "remaining_time": 46.30247258
           },
           {
            "iteration": 603,
            "learn": [
             71.57268004
            ],
            "passed_time": 94.12452912,
            "remaining_time": 46.12725268
           },
           {
            "iteration": 604,
            "learn": [
             71.57260891
            ],
            "passed_time": 94.24291549,
            "remaining_time": 45.95315714
           },
           {
            "iteration": 605,
            "learn": [
             71.57253076
            ],
            "passed_time": 94.38345001,
            "remaining_time": 45.7899906
           },
           {
            "iteration": 606,
            "learn": [
             71.57246317
            ],
            "passed_time": 94.49888726,
            "remaining_time": 45.61478413
           },
           {
            "iteration": 607,
            "learn": [
             71.57014789
            ],
            "passed_time": 94.6178079,
            "remaining_time": 45.44144722
           },
           {
            "iteration": 608,
            "learn": [
             71.56981018
            ],
            "passed_time": 94.72599278,
            "remaining_time": 45.26315911
           },
           {
            "iteration": 609,
            "learn": [
             71.55131194
            ],
            "passed_time": 94.90103,
            "remaining_time": 45.11688311
           },
           {
            "iteration": 610,
            "learn": [
             71.55088371
            ],
            "passed_time": 95.03978995,
            "remaining_time": 44.953354
           },
           {
            "iteration": 611,
            "learn": [
             71.55009554
            ],
            "passed_time": 95.18387105,
            "remaining_time": 44.79240991
           },
           {
            "iteration": 612,
            "learn": [
             71.54762982
            ],
            "passed_time": 95.30374721,
            "remaining_time": 44.62018833
           },
           {
            "iteration": 613,
            "learn": [
             71.54600254
            ],
            "passed_time": 95.46112326,
            "remaining_time": 44.46560465
           },
           {
            "iteration": 614,
            "learn": [
             71.54568602
            ],
            "passed_time": 95.6762017,
            "remaining_time": 44.33775201
           },
           {
            "iteration": 615,
            "learn": [
             71.5456753
            ],
            "passed_time": 95.78988434,
            "remaining_time": 44.16286875
           },
           {
            "iteration": 616,
            "learn": [
             71.5453321
            ],
            "passed_time": 96.09367566,
            "remaining_time": 44.07538122
           },
           {
            "iteration": 617,
            "learn": [
             71.54517237
            ],
            "passed_time": 96.30564137,
            "remaining_time": 43.94529266
           },
           {
            "iteration": 618,
            "learn": [
             71.54512955
            ],
            "passed_time": 96.41171482,
            "remaining_time": 43.76686892
           },
           {
            "iteration": 619,
            "learn": [
             71.54511989
            ],
            "passed_time": 96.53446707,
            "remaining_time": 43.59621094
           },
           {
            "iteration": 620,
            "learn": [
             71.5430059
            ],
            "passed_time": 96.65419379,
            "remaining_time": 43.42434794
           },
           {
            "iteration": 621,
            "learn": [
             71.54197678
            ],
            "passed_time": 96.82290474,
            "remaining_time": 43.27454585
           },
           {
            "iteration": 622,
            "learn": [
             71.54196694
            ],
            "passed_time": 96.93522818,
            "remaining_time": 43.09961189
           },
           {
            "iteration": 623,
            "learn": [
             71.54190496
            ],
            "passed_time": 97.05365376,
            "remaining_time": 42.92757763
           },
           {
            "iteration": 624,
            "learn": [
             71.54190397
            ],
            "passed_time": 97.3203431,
            "remaining_time": 42.82095097
           },
           {
            "iteration": 625,
            "learn": [
             71.54090191
            ],
            "passed_time": 97.44050205,
            "remaining_time": 42.64967662
           },
           {
            "iteration": 626,
            "learn": [
             71.540901
            ],
            "passed_time": 97.55806159,
            "remaining_time": 42.47743351
           },
           {
            "iteration": 627,
            "learn": [
             71.53985744
            ],
            "passed_time": 97.68880026,
            "remaining_time": 42.31107273
           },
           {
            "iteration": 628,
            "learn": [
             71.53899473
            ],
            "passed_time": 97.80623308,
            "remaining_time": 42.13909247
           },
           {
            "iteration": 629,
            "learn": [
             71.53898532
            ],
            "passed_time": 97.92236225,
            "remaining_time": 41.96672668
           },
           {
            "iteration": 630,
            "learn": [
             71.53870079
            ],
            "passed_time": 98.08564529,
            "remaining_time": 41.81464118
           },
           {
            "iteration": 631,
            "learn": [
             71.53843648
            ],
            "passed_time": 98.24683024,
            "remaining_time": 41.66163054
           },
           {
            "iteration": 632,
            "learn": [
             71.53735758
            ],
            "passed_time": 98.35692646,
            "remaining_time": 41.48704481
           },
           {
            "iteration": 633,
            "learn": [
             71.53734913
            ],
            "passed_time": 98.47289267,
            "remaining_time": 41.31512532
           },
           {
            "iteration": 634,
            "learn": [
             71.53733239
            ],
            "passed_time": 98.62560397,
            "remaining_time": 41.15871662
           },
           {
            "iteration": 635,
            "learn": [
             71.53708683
            ],
            "passed_time": 98.79486578,
            "remaining_time": 41.00918957
           },
           {
            "iteration": 636,
            "learn": [
             71.53708613
            ],
            "passed_time": 99.0493282,
            "remaining_time": 40.89477758
           },
           {
            "iteration": 637,
            "learn": [
             71.5368195
            ],
            "passed_time": 99.15942392,
            "remaining_time": 40.72064117
           },
           {
            "iteration": 638,
            "learn": [
             71.53594261
            ],
            "passed_time": 99.42715018,
            "remaining_time": 40.61108951
           },
           {
            "iteration": 639,
            "learn": [
             71.53588256
            ],
            "passed_time": 99.55861,
            "remaining_time": 40.44568531
           },
           {
            "iteration": 640,
            "learn": [
             71.53587445
            ],
            "passed_time": 99.67202116,
            "remaining_time": 40.27309435
           },
           {
            "iteration": 641,
            "learn": [
             71.5358667
            ],
            "passed_time": 99.78539062,
            "remaining_time": 40.100671
           },
           {
            "iteration": 642,
            "learn": [
             71.53107102
            ],
            "passed_time": 99.91810453,
            "remaining_time": 39.93616309
           },
           {
            "iteration": 643,
            "learn": [
             71.53103424
            ],
            "passed_time": 100.0653329,
            "remaining_time": 39.77752362
           },
           {
            "iteration": 644,
            "learn": [
             71.53102684
            ],
            "passed_time": 100.1951238,
            "remaining_time": 39.61202569
           },
           {
            "iteration": 645,
            "learn": [
             71.33817171
            ],
            "passed_time": 100.4037172,
            "remaining_time": 39.47762256
           },
           {
            "iteration": 646,
            "learn": [
             71.33664521
            ],
            "passed_time": 100.5201157,
            "remaining_time": 39.3069386
           },
           {
            "iteration": 647,
            "learn": [
             71.33472461
            ],
            "passed_time": 100.6498602,
            "remaining_time": 39.14161232
           },
           {
            "iteration": 648,
            "learn": [
             71.3346714
            ],
            "passed_time": 100.7634663,
            "remaining_time": 38.97015417
           },
           {
            "iteration": 649,
            "learn": [
             71.3343294
            ],
            "passed_time": 100.9264691,
            "remaining_time": 38.81787272
           },
           {
            "iteration": 650,
            "learn": [
             71.33422195
            ],
            "passed_time": 101.0424866,
            "remaining_time": 38.64758704
           },
           {
            "iteration": 651,
            "learn": [
             71.33389702
            ],
            "passed_time": 101.1755415,
            "remaining_time": 38.4839483
           },
           {
            "iteration": 652,
            "learn": [
             71.33384661
            ],
            "passed_time": 101.2884383,
            "remaining_time": 38.31277834
           },
           {
            "iteration": 653,
            "learn": [
             71.33384361
            ],
            "passed_time": 101.442851,
            "remaining_time": 38.15740265
           },
           {
            "iteration": 654,
            "learn": [
             71.33353331
            ],
            "passed_time": 101.5669729,
            "remaining_time": 37.99069978
           },
           {
            "iteration": 655,
            "learn": [
             71.32909992
            ],
            "passed_time": 101.6890926,
            "remaining_time": 37.823382
           },
           {
            "iteration": 656,
            "learn": [
             71.32708766
            ],
            "passed_time": 101.8090741,
            "remaining_time": 37.65541097
           },
           {
            "iteration": 657,
            "learn": [
             71.32643542
            ],
            "passed_time": 101.9373774,
            "remaining_time": 37.4906464
           },
           {
            "iteration": 658,
            "learn": [
             71.32643219
            ],
            "passed_time": 102.0509057,
            "remaining_time": 37.3205892
           },
           {
            "iteration": 659,
            "learn": [
             71.32403204
            ],
            "passed_time": 102.1859623,
            "remaining_time": 37.15853174
           },
           {
            "iteration": 660,
            "learn": [
             71.32372455
            ],
            "passed_time": 102.2902668,
            "remaining_time": 36.98543687
           },
           {
            "iteration": 661,
            "learn": [
             71.32372173
            ],
            "passed_time": 102.4447553,
            "remaining_time": 36.83059179
           },
           {
            "iteration": 662,
            "learn": [
             71.32215023
            ],
            "passed_time": 102.5793656,
            "remaining_time": 36.66864199
           },
           {
            "iteration": 663,
            "learn": [
             71.32122685
            ],
            "passed_time": 102.7106293,
            "remaining_time": 36.50558511
           },
           {
            "iteration": 664,
            "learn": [
             71.32122376
            ],
            "passed_time": 102.8285618,
            "remaining_time": 36.33791283
           },
           {
            "iteration": 665,
            "learn": [
             71.32122078
            ],
            "passed_time": 102.947112,
            "remaining_time": 36.17060691
           },
           {
            "iteration": 666,
            "learn": [
             71.32092494
            ],
            "passed_time": 103.0692246,
            "remaining_time": 36.00469164
           },
           {
            "iteration": 667,
            "learn": [
             71.31931461
            ],
            "passed_time": 103.301517,
            "remaining_time": 35.87717356
           },
           {
            "iteration": 668,
            "learn": [
             71.31710274
            ],
            "passed_time": 103.4332907,
            "remaining_time": 35.71463402
           },
           {
            "iteration": 669,
            "learn": [
             71.31681983
            ],
            "passed_time": 103.5897511,
            "remaining_time": 35.56066082
           },
           {
            "iteration": 670,
            "learn": [
             71.29932754
            ],
            "passed_time": 103.7139155,
            "remaining_time": 35.39565819
           },
           {
            "iteration": 671,
            "learn": [
             71.29932494
            ],
            "passed_time": 103.8328034,
            "remaining_time": 35.22898686
           },
           {
            "iteration": 672,
            "learn": [
             71.29756139
            ],
            "passed_time": 103.9516269,
            "remaining_time": 35.06243583
           },
           {
            "iteration": 673,
            "learn": [
             71.29729021
            ],
            "passed_time": 104.0762486,
            "remaining_time": 34.8979706
           },
           {
            "iteration": 674,
            "learn": [
             71.29728734
            ],
            "passed_time": 104.1833023,
            "remaining_time": 34.72776743
           },
           {
            "iteration": 675,
            "learn": [
             71.29702624
            ],
            "passed_time": 104.292125,
            "remaining_time": 34.55833727
           },
           {
            "iteration": 676,
            "learn": [
             71.2970237
            ],
            "passed_time": 104.4087278,
            "remaining_time": 34.39164889
           },
           {
            "iteration": 677,
            "learn": [
             71.29702248
            ],
            "passed_time": 104.5785662,
            "remaining_time": 34.24253937
           },
           {
            "iteration": 678,
            "learn": [
             71.29624082
            ],
            "passed_time": 104.7142155,
            "remaining_time": 34.08224098
           },
           {
            "iteration": 679,
            "learn": [
             71.29623799
            ],
            "passed_time": 104.8676013,
            "remaining_time": 33.92775335
           },
           {
            "iteration": 680,
            "learn": [
             71.29623691
            ],
            "passed_time": 104.9909819,
            "remaining_time": 33.76361972
           },
           {
            "iteration": 681,
            "learn": [
             71.2951073
            ],
            "passed_time": 105.1355629,
            "remaining_time": 33.60638227
           },
           {
            "iteration": 682,
            "learn": [
             71.29510457
            ],
            "passed_time": 105.2633266,
            "remaining_time": 33.44383877
           },
           {
            "iteration": 683,
            "learn": [
             71.27859319
            ],
            "passed_time": 105.4016591,
            "remaining_time": 33.28473445
           },
           {
            "iteration": 684,
            "learn": [
             71.24892622
            ],
            "passed_time": 105.5526145,
            "remaining_time": 33.12965274
           },
           {
            "iteration": 685,
            "learn": [
             71.24867187
            ],
            "passed_time": 105.69864,
            "remaining_time": 32.97304513
           },
           {
            "iteration": 686,
            "learn": [
             71.24836855
            ],
            "passed_time": 105.8190132,
            "remaining_time": 32.80851502
           },
           {
            "iteration": 687,
            "learn": [
             71.24713726
            ],
            "passed_time": 105.9445543,
            "remaining_time": 32.64570569
           },
           {
            "iteration": 688,
            "learn": [
             71.24706086
            ],
            "passed_time": 106.0581844,
            "remaining_time": 32.47935689
           },
           {
            "iteration": 689,
            "learn": [
             71.24705852
            ],
            "passed_time": 106.1747678,
            "remaining_time": 32.31405976
           },
           {
            "iteration": 690,
            "learn": [
             71.2470433
            ],
            "passed_time": 106.3246537,
            "remaining_time": 32.1589763
           },
           {
            "iteration": 691,
            "learn": [
             71.24702952
            ],
            "passed_time": 106.5204155,
            "remaining_time": 32.01769716
           },
           {
            "iteration": 692,
            "learn": [
             71.2453738
            ],
            "passed_time": 106.7093385,
            "remaining_time": 31.87421798
           },
           {
            "iteration": 693,
            "learn": [
             71.24520773
            ],
            "passed_time": 106.9027369,
            "remaining_time": 31.73193632
           },
           {
            "iteration": 694,
            "learn": [
             71.24520546
            ],
            "passed_time": 107.0149377,
            "remaining_time": 31.56555715
           },
           {
            "iteration": 695,
            "learn": [
             71.24419492
            ],
            "passed_time": 107.1957953,
            "remaining_time": 31.41945724
           },
           {
            "iteration": 696,
            "learn": [
             71.24419371
            ],
            "passed_time": 107.4072149,
            "remaining_time": 31.28215873
           },
           {
            "iteration": 697,
            "learn": [
             71.24317952
            ],
            "passed_time": 107.5207773,
            "remaining_time": 31.11632809
           },
           {
            "iteration": 698,
            "learn": [
             71.2431773
            ],
            "passed_time": 107.6732509,
            "remaining_time": 30.96183608
           },
           {
            "iteration": 699,
            "learn": [
             71.24316479
            ],
            "passed_time": 107.7969618,
            "remaining_time": 30.79913193
           },
           {
            "iteration": 700,
            "learn": [
             71.24316363
            ],
            "passed_time": 107.9144815,
            "remaining_time": 30.63478149
           },
           {
            "iteration": 701,
            "learn": [
             71.24304198
            ],
            "passed_time": 108.0355529,
            "remaining_time": 30.47156619
           },
           {
            "iteration": 702,
            "learn": [
             71.24180046
            ],
            "passed_time": 108.2013347,
            "remaining_time": 30.3209999
           },
           {
            "iteration": 703,
            "learn": [
             71.23784517
            ],
            "passed_time": 108.3280295,
            "remaining_time": 30.15950821
           },
           {
            "iteration": 704,
            "learn": [
             71.23777483
            ],
            "passed_time": 108.4452272,
            "remaining_time": 29.99548837
           },
           {
            "iteration": 705,
            "learn": [
             71.23647816
            ],
            "passed_time": 108.5545056,
            "remaining_time": 29.82942506
           },
           {
            "iteration": 706,
            "learn": [
             71.23646711
            ],
            "passed_time": 108.6956063,
            "remaining_time": 29.67220936
           },
           {
            "iteration": 707,
            "learn": [
             71.23640541
            ],
            "passed_time": 108.8284484,
            "remaining_time": 29.51279955
           },
           {
            "iteration": 708,
            "learn": [
             71.23409102
            ],
            "passed_time": 108.9462984,
            "remaining_time": 29.34942595
           },
           {
            "iteration": 709,
            "learn": [
             71.23408885
            ],
            "passed_time": 109.0618847,
            "remaining_time": 29.18557479
           },
           {
            "iteration": 710,
            "learn": [
             71.2339303
            ],
            "passed_time": 109.195352,
            "remaining_time": 29.02661256
           },
           {
            "iteration": 711,
            "learn": [
             71.23205691
            ],
            "passed_time": 109.3210565,
            "remaining_time": 28.86567223
           },
           {
            "iteration": 712,
            "learn": [
             71.23205519
            ],
            "passed_time": 109.4658342,
            "remaining_time": 28.70983309
           },
           {
            "iteration": 713,
            "learn": [
             71.22988395
            ],
            "passed_time": 109.5904726,
            "remaining_time": 28.54877857
           },
           {
            "iteration": 714,
            "learn": [
             71.22860047
            ],
            "passed_time": 109.7359026,
            "remaining_time": 28.39320557
           },
           {
            "iteration": 715,
            "learn": [
             71.22859198
            ],
            "passed_time": 109.8583507,
            "remaining_time": 28.23175493
           },
           {
            "iteration": 716,
            "learn": [
             71.22840066
            ],
            "passed_time": 109.9846814,
            "remaining_time": 28.07140404
           },
           {
            "iteration": 717,
            "learn": [
             71.22836708
            ],
            "passed_time": 110.1614785,
            "remaining_time": 27.92394022
           },
           {
            "iteration": 718,
            "learn": [
             71.22819315
            ],
            "passed_time": 110.2912381,
            "remaining_time": 27.76455368
           },
           {
            "iteration": 719,
            "learn": [
             71.22670742
            ],
            "passed_time": 110.4117674,
            "remaining_time": 27.60294185
           },
           {
            "iteration": 720,
            "learn": [
             71.22661786
            ],
            "passed_time": 110.5418028,
            "remaining_time": 27.44380401
           },
           {
            "iteration": 721,
            "learn": [
             71.22661015
            ],
            "passed_time": 110.6420508,
            "remaining_time": 27.2774031
           },
           {
            "iteration": 722,
            "learn": [
             71.22660044
            ],
            "passed_time": 110.7893279,
            "remaining_time": 27.12269853
           },
           {
            "iteration": 723,
            "learn": [
             71.21100805
            ],
            "passed_time": 110.9277422,
            "remaining_time": 26.96585997
           },
           {
            "iteration": 724,
            "learn": [
             71.20705839
            ],
            "passed_time": 111.2785381,
            "remaining_time": 26.86033678
           },
           {
            "iteration": 725,
            "learn": [
             71.20690205
            ],
            "passed_time": 111.5298261,
            "remaining_time": 26.7302889
           },
           {
            "iteration": 726,
            "learn": [
             71.20666127
            ],
            "passed_time": 111.723208,
            "remaining_time": 26.58612791
           },
           {
            "iteration": 727,
            "learn": [
             71.20505999
            ],
            "passed_time": 111.9247883,
            "remaining_time": 26.44376867
           },
           {
            "iteration": 728,
            "learn": [
             71.20339281
            ],
            "passed_time": 112.0882485,
            "remaining_time": 26.29230521
           },
           {
            "iteration": 729,
            "learn": [
             71.20330862
            ],
            "passed_time": 112.3721942,
            "remaining_time": 26.16886715
           },
           {
            "iteration": 730,
            "learn": [
             71.20316941
            ],
            "passed_time": 112.4936654,
            "remaining_time": 26.00742744
           },
           {
            "iteration": 731,
            "learn": [
             71.18848889
            ],
            "passed_time": 112.6822968,
            "remaining_time": 25.86151074
           },
           {
            "iteration": 732,
            "learn": [
             71.1882028
            ],
            "passed_time": 112.8390327,
            "remaining_time": 25.70821073
           },
           {
            "iteration": 733,
            "learn": [
             71.1869738
            ],
            "passed_time": 113.0052288,
            "remaining_time": 25.55704084
           },
           {
            "iteration": 734,
            "learn": [
             71.18682032
            ],
            "passed_time": 113.1277138,
            "remaining_time": 25.39601737
           },
           {
            "iteration": 735,
            "learn": [
             71.18681727
            ],
            "passed_time": 113.3382685,
            "remaining_time": 25.25472288
           },
           {
            "iteration": 736,
            "learn": [
             71.18607628
            ],
            "passed_time": 113.5500065,
            "remaining_time": 25.11350211
           },
           {
            "iteration": 737,
            "learn": [
             71.18606896
            ],
            "passed_time": 113.6803665,
            "remaining_time": 24.9542268
           },
           {
            "iteration": 738,
            "learn": [
             71.18430299
            ],
            "passed_time": 113.8645946,
            "remaining_time": 24.80676554
           },
           {
            "iteration": 739,
            "learn": [
             71.18429849
            ],
            "passed_time": 114.0080043,
            "remaining_time": 24.65037931
           },
           {
            "iteration": 740,
            "learn": [
             71.18428402
            ],
            "passed_time": 114.2522404,
            "remaining_time": 24.51566292
           },
           {
            "iteration": 741,
            "learn": [
             71.18405876
            ],
            "passed_time": 114.366618,
            "remaining_time": 24.35299953
           },
           {
            "iteration": 742,
            "learn": [
             71.18405207
            ],
            "passed_time": 114.4988552,
            "remaining_time": 24.19423993
           },
           {
            "iteration": 743,
            "learn": [
             71.18404575
            ],
            "passed_time": 114.6129432,
            "remaining_time": 24.03174615
           },
           {
            "iteration": 744,
            "learn": [
             71.18403988
            ],
            "passed_time": 114.7345441,
            "remaining_time": 23.87094542
           },
           {
            "iteration": 745,
            "learn": [
             71.18403385
            ],
            "passed_time": 114.8352633,
            "remaining_time": 23.70593906
           },
           {
            "iteration": 746,
            "learn": [
             71.18239318
            ],
            "passed_time": 114.9825691,
            "remaining_time": 23.55064667
           },
           {
            "iteration": 747,
            "learn": [
             71.18238777
            ],
            "passed_time": 115.1575017,
            "remaining_time": 23.40098965
           },
           {
            "iteration": 748,
            "learn": [
             71.18238274
            ],
            "passed_time": 115.2803677,
            "remaining_time": 23.24076838
           },
           {
            "iteration": 749,
            "learn": [
             71.18237804
            ],
            "passed_time": 115.4011538,
            "remaining_time": 23.08023077
           },
           {
            "iteration": 750,
            "learn": [
             71.18237259
            ],
            "passed_time": 115.5057998,
            "remaining_time": 22.91659676
           },
           {
            "iteration": 751,
            "learn": [
             71.18235742
            ],
            "passed_time": 115.6073784,
            "remaining_time": 22.75251596
           },
           {
            "iteration": 752,
            "learn": [
             71.18232797
            ],
            "passed_time": 115.7931632,
            "remaining_time": 22.60503983
           },
           {
            "iteration": 753,
            "learn": [
             71.18232224
            ],
            "passed_time": 116.0465192,
            "remaining_time": 22.47054615
           },
           {
            "iteration": 754,
            "learn": [
             71.18227506
            ],
            "passed_time": 116.1826663,
            "remaining_time": 22.31322729
           },
           {
            "iteration": 755,
            "learn": [
             71.18201472
            ],
            "passed_time": 116.3116848,
            "remaining_time": 22.15460663
           },
           {
            "iteration": 756,
            "learn": [
             71.18127705
            ],
            "passed_time": 116.540492,
            "remaining_time": 22.0149146
           },
           {
            "iteration": 757,
            "learn": [
             71.18091259
            ],
            "passed_time": 116.6700641,
            "remaining_time": 21.85639724
           },
           {
            "iteration": 758,
            "learn": [
             71.18067512
            ],
            "passed_time": 116.7840375,
            "remaining_time": 21.69505835
           },
           {
            "iteration": 759,
            "learn": [
             71.18067116
            ],
            "passed_time": 116.9454237,
            "remaining_time": 21.54257806
           },
           {
            "iteration": 760,
            "learn": [
             71.18063103
            ],
            "passed_time": 117.2386196,
            "remaining_time": 21.41414997
           },
           {
            "iteration": 761,
            "learn": [
             71.18061681
            ],
            "passed_time": 117.3423731,
            "remaining_time": 21.25098095
           },
           {
            "iteration": 762,
            "learn": [
             71.17898505
            ],
            "passed_time": 117.4744698,
            "remaining_time": 21.09305682
           },
           {
            "iteration": 763,
            "learn": [
             71.17897687
            ],
            "passed_time": 117.6160203,
            "remaining_time": 20.93688319
           },
           {
            "iteration": 764,
            "learn": [
             71.17893872
            ],
            "passed_time": 117.7316273,
            "remaining_time": 20.77616952
           },
           {
            "iteration": 765,
            "learn": [
             71.17872142
            ],
            "passed_time": 117.8415798,
            "remaining_time": 20.61458446
           },
           {
            "iteration": 766,
            "learn": [
             70.99726158
            ],
            "passed_time": 118.0273833,
            "remaining_time": 20.46628681
           },
           {
            "iteration": 767,
            "learn": [
             70.89135414
            ],
            "passed_time": 118.3857545,
            "remaining_time": 20.34755156
           },
           {
            "iteration": 768,
            "learn": [
             70.89135213
            ],
            "passed_time": 118.5016792,
            "remaining_time": 20.18689204
           },
           {
            "iteration": 769,
            "learn": [
             70.89134841
            ],
            "passed_time": 118.624034,
            "remaining_time": 20.02743431
           },
           {
            "iteration": 770,
            "learn": [
             70.89129671
            ],
            "passed_time": 118.7746284,
            "remaining_time": 19.87279775
           },
           {
            "iteration": 771,
            "learn": [
             70.89093412
            ],
            "passed_time": 118.9553659,
            "remaining_time": 19.72316947
           },
           {
            "iteration": 772,
            "learn": [
             70.89040363
            ],
            "passed_time": 119.2633963,
            "remaining_time": 19.5943743
           },
           {
            "iteration": 773,
            "learn": [
             70.88734968
            ],
            "passed_time": 119.5396081,
            "remaining_time": 19.45993621
           },
           {
            "iteration": 774,
            "learn": [
             70.88734496
            ],
            "passed_time": 119.7398325,
            "remaining_time": 19.31287622
           },
           {
            "iteration": 775,
            "learn": [
             70.88444746
            ],
            "passed_time": 119.8860776,
            "remaining_time": 19.15705363
           },
           {
            "iteration": 776,
            "learn": [
             70.88422306
            ],
            "passed_time": 120.0552033,
            "remaining_time": 19.00487774
           },
           {
            "iteration": 777,
            "learn": [
             70.78629855
            ],
            "passed_time": 120.3927773,
            "remaining_time": 18.87907305
           },
           {
            "iteration": 778,
            "learn": [
             70.78309555
            ],
            "passed_time": 120.5257495,
            "remaining_time": 18.72094439
           },
           {
            "iteration": 779,
            "learn": [
             70.78009356
            ],
            "passed_time": 120.6553411,
            "remaining_time": 18.56236017
           },
           {
            "iteration": 780,
            "learn": [
             70.78008917
            ],
            "passed_time": 120.8446205,
            "remaining_time": 18.41294473
           },
           {
            "iteration": 781,
            "learn": [
             70.7800863
            ],
            "passed_time": 121.1459074,
            "remaining_time": 18.28032873
           },
           {
            "iteration": 782,
            "learn": [
             70.77830872
            ],
            "passed_time": 121.3640974,
            "remaining_time": 18.13486513
           },
           {
            "iteration": 783,
            "learn": [
             70.77770237
            ],
            "passed_time": 121.5436222,
            "remaining_time": 17.98349512
           },
           {
            "iteration": 784,
            "learn": [
             70.77769916
            ],
            "passed_time": 121.6976892,
            "remaining_time": 17.82832389
           },
           {
            "iteration": 785,
            "learn": [
             70.77524031
            ],
            "passed_time": 121.8251383,
            "remaining_time": 17.66929487
           },
           {
            "iteration": 786,
            "learn": [
             70.77523724
            ],
            "passed_time": 121.9459015,
            "remaining_time": 17.50938612
           },
           {
            "iteration": 787,
            "learn": [
             70.77269214
            ],
            "passed_time": 122.0716083,
            "remaining_time": 17.35027935
           },
           {
            "iteration": 788,
            "learn": [
             70.77268941
            ],
            "passed_time": 122.2229385,
            "remaining_time": 17.19486208
           },
           {
            "iteration": 789,
            "learn": [
             70.77123569
            ],
            "passed_time": 122.4515563,
            "remaining_time": 17.0502167
           },
           {
            "iteration": 790,
            "learn": [
             70.76898256
            ],
            "passed_time": 122.5823181,
            "remaining_time": 16.89187444
           },
           {
            "iteration": 791,
            "learn": [
             70.76897983
            ],
            "passed_time": 122.7033377,
            "remaining_time": 16.73227332
           },
           {
            "iteration": 792,
            "learn": [
             70.76649185
            ],
            "passed_time": 122.8343968,
            "remaining_time": 16.57412416
           },
           {
            "iteration": 793,
            "learn": [
             70.76648805
            ],
            "passed_time": 122.9406014,
            "remaining_time": 16.41272512
           },
           {
            "iteration": 794,
            "learn": [
             70.76648531
            ],
            "passed_time": 123.0534042,
            "remaining_time": 16.25233641
           },
           {
            "iteration": 795,
            "learn": [
             70.76421685
            ],
            "passed_time": 123.1826949,
            "remaining_time": 16.09422144
           },
           {
            "iteration": 796,
            "learn": [
             70.76263055
            ],
            "passed_time": 123.2919923,
            "remaining_time": 15.93359498
           },
           {
            "iteration": 797,
            "learn": [
             70.44303348
            ],
            "passed_time": 123.5263943,
            "remaining_time": 15.789088
           },
           {
            "iteration": 798,
            "learn": [
             70.44301104
            ],
            "passed_time": 123.7000595,
            "remaining_time": 15.63667836
           },
           {
            "iteration": 799,
            "learn": [
             70.3412159
            ],
            "passed_time": 123.8159376,
            "remaining_time": 15.4769922
           },
           {
            "iteration": 800,
            "learn": [
             70.03948737
            ],
            "passed_time": 123.9402411,
            "remaining_time": 15.31845677
           },
           {
            "iteration": 801,
            "learn": [
             69.85984905
            ],
            "passed_time": 124.0928269,
            "remaining_time": 15.16346264
           },
           {
            "iteration": 802,
            "learn": [
             69.64113976
            ],
            "passed_time": 124.2125747,
            "remaining_time": 15.00450778
           },
           {
            "iteration": 803,
            "learn": [
             69.64113711
            ],
            "passed_time": 124.3298766,
            "remaining_time": 14.8453584
           },
           {
            "iteration": 804,
            "learn": [
             69.64109949
            ],
            "passed_time": 124.5299119,
            "remaining_time": 14.69607656
           },
           {
            "iteration": 805,
            "learn": [
             69.64092763
            ],
            "passed_time": 124.6865299,
            "remaining_time": 14.54160522
           },
           {
            "iteration": 806,
            "learn": [
             69.35449035
            ],
            "passed_time": 124.8168018,
            "remaining_time": 14.3840924
           },
           {
            "iteration": 807,
            "learn": [
             69.35443317
            ],
            "passed_time": 124.9253723,
            "remaining_time": 14.22417605
           },
           {
            "iteration": 808,
            "learn": [
             69.3544069
            ],
            "passed_time": 125.049855,
            "remaining_time": 14.06617652
           },
           {
            "iteration": 809,
            "learn": [
             69.14866403
            ],
            "passed_time": 125.1683885,
            "remaining_time": 13.90759872
           },
           {
            "iteration": 810,
            "learn": [
             69.14862863
            ],
            "passed_time": 125.2836662,
            "remaining_time": 13.74876239
           },
           {
            "iteration": 811,
            "learn": [
             69.14835281
            ],
            "passed_time": 125.437814,
            "remaining_time": 13.59424586
           },
           {
            "iteration": 812,
            "learn": [
             69.14827522
            ],
            "passed_time": 125.6202903,
            "remaining_time": 13.44276169
           },
           {
            "iteration": 813,
            "learn": [
             69.14801001
            ],
            "passed_time": 125.7452891,
            "remaining_time": 13.28512882
           },
           {
            "iteration": 814,
            "learn": [
             68.95498452
            ],
            "passed_time": 125.8732637,
            "remaining_time": 13.1278864
           },
           {
            "iteration": 815,
            "learn": [
             68.95473127
            ],
            "passed_time": 125.9929214,
            "remaining_time": 12.96985955
           },
           {
            "iteration": 816,
            "learn": [
             68.77517571
            ],
            "passed_time": 126.1151065,
            "remaining_time": 12.81218341
           },
           {
            "iteration": 817,
            "learn": [
             68.77493346
            ],
            "passed_time": 126.2331447,
            "remaining_time": 12.65417832
           },
           {
            "iteration": 818,
            "learn": [
             68.60496071
            ],
            "passed_time": 126.3496753,
            "remaining_time": 12.49612173
           },
           {
            "iteration": 819,
            "learn": [
             68.60472852
            ],
            "passed_time": 126.467949,
            "remaining_time": 12.33833649
           },
           {
            "iteration": 820,
            "learn": [
             68.60472595
            ],
            "passed_time": 126.6220893,
            "remaining_time": 12.18409873
           },
           {
            "iteration": 821,
            "learn": [
             68.44562854
            ],
            "passed_time": 126.7593396,
            "remaining_time": 12.0282585
           },
           {
            "iteration": 822,
            "learn": [
             68.44540561
            ],
            "passed_time": 126.8861126,
            "remaining_time": 11.87148319
           },
           {
            "iteration": 823,
            "learn": [
             68.17048427
            ],
            "passed_time": 127.0133388,
            "remaining_time": 11.71482251
           },
           {
            "iteration": 824,
            "learn": [
             68.17024661
            ],
            "passed_time": 127.1357935,
            "remaining_time": 11.55779941
           },
           {
            "iteration": 825,
            "learn": [
             68.17001681
            ],
            "passed_time": 127.2576785,
            "remaining_time": 11.40080897
           },
           {
            "iteration": 826,
            "learn": [
             68.02085402
            ],
            "passed_time": 127.3794638,
            "remaining_time": 11.24389463
           },
           {
            "iteration": 827,
            "learn": [
             68.02077409
            ],
            "passed_time": 127.5127766,
            "remaining_time": 11.08806753
           },
           {
            "iteration": 828,
            "learn": [
             68.02055311
            ],
            "passed_time": 127.6735391,
            "remaining_time": 10.93464569
           },
           {
            "iteration": 829,
            "learn": [
             68.02033926
            ],
            "passed_time": 127.8219985,
            "remaining_time": 10.78016855
           },
           {
            "iteration": 830,
            "learn": [
             67.87808473
            ],
            "passed_time": 127.9437263,
            "remaining_time": 10.6234863
           },
           {
            "iteration": 831,
            "learn": [
             67.87808145
            ],
            "passed_time": 128.0463257,
            "remaining_time": 10.46532469
           },
           {
            "iteration": 832,
            "learn": [
             67.87787515
            ],
            "passed_time": 128.1715114,
            "remaining_time": 10.30911316
           },
           {
            "iteration": 833,
            "learn": [
             67.87767537
            ],
            "passed_time": 128.2944877,
            "remaining_time": 10.15280119
           },
           {
            "iteration": 834,
            "learn": [
             67.87742144
            ],
            "passed_time": 128.4547599,
            "remaining_time": 9.999472327
           },
           {
            "iteration": 835,
            "learn": [
             67.87733288
            ],
            "passed_time": 128.7413425,
            "remaining_time": 9.855796552
           },
           {
            "iteration": 836,
            "learn": [
             67.87722144
            ],
            "passed_time": 128.8932905,
            "remaining_time": 9.701645522
           },
           {
            "iteration": 837,
            "learn": [
             67.87702791
            ],
            "passed_time": 129.0243653,
            "remaining_time": 9.545955425
           },
           {
            "iteration": 838,
            "learn": [
             67.87702477
            ],
            "passed_time": 129.2099197,
            "remaining_time": 9.394284982
           },
           {
            "iteration": 839,
            "learn": [
             67.87683728
            ],
            "passed_time": 129.3360815,
            "remaining_time": 9.238291535
           },
           {
            "iteration": 840,
            "learn": [
             67.87311011
            ],
            "passed_time": 129.4694028,
            "remaining_time": 9.082871303
           },
           {
            "iteration": 841,
            "learn": [
             67.8729286
            ],
            "passed_time": 129.6077377,
            "remaining_time": 8.927848912
           },
           {
            "iteration": 842,
            "learn": [
             67.87284645
            ],
            "passed_time": 129.7432898,
            "remaining_time": 8.77267796
           },
           {
            "iteration": 843,
            "learn": [
             67.73938611
            ],
            "passed_time": 129.9039312,
            "remaining_time": 8.619218184
           },
           {
            "iteration": 844,
            "learn": [
             67.61621444
            ],
            "passed_time": 130.0216419,
            "remaining_time": 8.462947106
           },
           {
            "iteration": 845,
            "learn": [
             67.61621277
            ],
            "passed_time": 130.1994927,
            "remaining_time": 8.310605915
           },
           {
            "iteration": 846,
            "learn": [
             67.61621121
            ],
            "passed_time": 130.3844164,
            "remaining_time": 8.158647071
           },
           {
            "iteration": 847,
            "learn": [
             67.49861203
            ],
            "passed_time": 130.5991627,
            "remaining_time": 8.008439225
           },
           {
            "iteration": 848,
            "learn": [
             67.49860684
            ],
            "passed_time": 130.8446794,
            "remaining_time": 7.859927735
           },
           {
            "iteration": 849,
            "learn": [
             67.49853266
            ],
            "passed_time": 130.9767045,
            "remaining_time": 7.704512029
           },
           {
            "iteration": 850,
            "learn": [
             67.49848986
            ],
            "passed_time": 131.1375128,
            "remaining_time": 7.55080861
           },
           {
            "iteration": 851,
            "learn": [
             67.49848724
            ],
            "passed_time": 131.2832567,
            "remaining_time": 7.396239812
           },
           {
            "iteration": 852,
            "learn": [
             67.49831239
            ],
            "passed_time": 131.4129719,
            "remaining_time": 7.240808536
           },
           {
            "iteration": 853,
            "learn": [
             67.49830992
            ],
            "passed_time": 131.5313988,
            "remaining_time": 7.084829443
           },
           {
            "iteration": 854,
            "learn": [
             67.49830758
            ],
            "passed_time": 131.6578113,
            "remaining_time": 6.929358489
           },
           {
            "iteration": 855,
            "learn": [
             67.49823867
            ],
            "passed_time": 131.7849221,
            "remaining_time": 6.773991321
           },
           {
            "iteration": 856,
            "learn": [
             67.4978375
            ],
            "passed_time": 131.9957621,
            "remaining_time": 6.622891215
           },
           {
            "iteration": 857,
            "learn": [
             67.49780695
            ],
            "passed_time": 132.178663,
            "remaining_time": 6.470284201
           },
           {
            "iteration": 858,
            "learn": [
             67.49780481
            ],
            "passed_time": 132.3945228,
            "remaining_time": 6.319179786
           },
           {
            "iteration": 859,
            "learn": [
             67.49775443
            ],
            "passed_time": 132.5316529,
            "remaining_time": 6.164262925
           },
           {
            "iteration": 860,
            "learn": [
             67.49770102
            ],
            "passed_time": 132.6697507,
            "remaining_time": 6.009431215
           },
           {
            "iteration": 861,
            "learn": [
             67.49764124
            ],
            "passed_time": 132.7940939,
            "remaining_time": 5.85403198
           },
           {
            "iteration": 862,
            "learn": [
             67.49404861
            ],
            "passed_time": 132.9844394,
            "remaining_time": 5.701534481
           },
           {
            "iteration": 863,
            "learn": [
             67.49404612
            ],
            "passed_time": 133.1193737,
            "remaining_time": 5.546640572
           },
           {
            "iteration": 864,
            "learn": [
             67.4940196
            ],
            "passed_time": 133.2576161,
            "remaining_time": 5.391926662
           },
           {
            "iteration": 865,
            "learn": [
             67.38477728
            ],
            "passed_time": 133.3938225,
            "remaining_time": 5.23717086
           },
           {
            "iteration": 866,
            "learn": [
             67.3847536
            ],
            "passed_time": 133.5085992,
            "remaining_time": 5.081642183
           },
           {
            "iteration": 867,
            "learn": [
             67.38475199
            ],
            "passed_time": 133.8308499,
            "remaining_time": 4.933856217
           },
           {
            "iteration": 868,
            "learn": [
             67.38472115
            ],
            "passed_time": 134.0651986,
            "remaining_time": 4.782532975
           },
           {
            "iteration": 869,
            "learn": [
             67.28172004
            ],
            "passed_time": 134.1865483,
            "remaining_time": 4.627122354
           },
           {
            "iteration": 870,
            "learn": [
             67.28167638
            ],
            "passed_time": 134.3606558,
            "remaining_time": 4.47354652
           },
           {
            "iteration": 871,
            "learn": [
             67.28165512
            ],
            "passed_time": 134.483536,
            "remaining_time": 4.31827868
           },
           {
            "iteration": 872,
            "learn": [
             67.28162682
            ],
            "passed_time": 134.6164302,
            "remaining_time": 4.163394747
           },
           {
            "iteration": 873,
            "learn": [
             67.28157676
            ],
            "passed_time": 134.7769819,
            "remaining_time": 4.0093839
           },
           {
            "iteration": 874,
            "learn": [
             67.28157485
            ],
            "passed_time": 134.9046636,
            "remaining_time": 3.85441896
           },
           {
            "iteration": 875,
            "learn": [
             67.28152107
            ],
            "passed_time": 135.0801347,
            "remaining_time": 3.700825609
           },
           {
            "iteration": 876,
            "learn": [
             67.2814954
            ],
            "passed_time": 135.201643,
            "remaining_time": 3.545767149
           },
           {
            "iteration": 877,
            "learn": [
             67.2814767
            ],
            "passed_time": 135.304916,
            "remaining_time": 3.390328191
           },
           {
            "iteration": 878,
            "learn": [
             67.28145982
            ],
            "passed_time": 135.4166149,
            "remaining_time": 3.23520923
           },
           {
            "iteration": 879,
            "learn": [
             67.01246584
            ],
            "passed_time": 135.6323053,
            "remaining_time": 3.082552393
           },
           {
            "iteration": 880,
            "learn": [
             67.01244203
            ],
            "passed_time": 135.7489518,
            "remaining_time": 2.927616441
           },
           {
            "iteration": 881,
            "learn": [
             67.01242026
            ],
            "passed_time": 135.8728439,
            "remaining_time": 2.772915182
           },
           {
            "iteration": 882,
            "learn": [
             67.01241855
            ],
            "passed_time": 135.9858784,
            "remaining_time": 2.618074668
           },
           {
            "iteration": 883,
            "learn": [
             67.01238292
            ],
            "passed_time": 136.2243029,
            "remaining_time": 2.465598242
           },
           {
            "iteration": 884,
            "learn": [
             67.00842145
            ],
            "passed_time": 136.4186692,
            "remaining_time": 2.312180833
           },
           {
            "iteration": 885,
            "learn": [
             67.00834841
            ],
            "passed_time": 136.583276,
            "remaining_time": 2.15820075
           },
           {
            "iteration": 886,
            "learn": [
             67.0083331
            ],
            "passed_time": 136.6959718,
            "remaining_time": 2.00343589
           },
           {
            "iteration": 887,
            "learn": [
             67.00831924
            ],
            "passed_time": 136.8064112,
            "remaining_time": 1.848735286
           },
           {
            "iteration": 888,
            "learn": [
             67.00831706
            ],
            "passed_time": 136.9122075,
            "remaining_time": 1.694076808
           },
           {
            "iteration": 889,
            "learn": [
             67.00823171
            ],
            "passed_time": 137.0209514,
            "remaining_time": 1.539561252
           },
           {
            "iteration": 890,
            "learn": [
             67.00816562
            ],
            "passed_time": 137.1782217,
            "remaining_time": 1.385638603
           },
           {
            "iteration": 891,
            "learn": [
             67.00815424
            ],
            "passed_time": 137.2938881,
            "remaining_time": 1.231335319
           },
           {
            "iteration": 892,
            "learn": [
             67.00811358
            ],
            "passed_time": 137.4474873,
            "remaining_time": 1.077415914
           },
           {
            "iteration": 893,
            "learn": [
             67.00810323
            ],
            "passed_time": 137.5645071,
            "remaining_time": 0.9232517254
           },
           {
            "iteration": 894,
            "learn": [
             67.00807015
            ],
            "passed_time": 137.761532,
            "remaining_time": 0.7696174972
           },
           {
            "iteration": 895,
            "learn": [
             67.00795199
            ],
            "passed_time": 137.9149606,
            "remaining_time": 0.6156917884
           },
           {
            "iteration": 896,
            "learn": [
             67.00794263
            ],
            "passed_time": 138.0271,
            "remaining_time": 0.461629097
           },
           {
            "iteration": 897,
            "learn": [
             67.00793735
            ],
            "passed_time": 138.1528911,
            "remaining_time": 0.3076901807
           },
           {
            "iteration": 898,
            "learn": [
             67.00754585
            ],
            "passed_time": 138.3003997,
            "remaining_time": 0.1538380419
           },
           {
            "iteration": 899,
            "learn": [
             67.00751527
            ],
            "passed_time": 138.4222364,
            "remaining_time": 0
           }
          ],
          "meta": {
           "iteration_count": 900,
           "launch_mode": "Train",
           "learn_metrics": [
            {
             "best_value": "Min",
             "name": "RMSE"
            }
           ],
           "learn_sets": [
            "learn"
           ],
           "name": "experiment",
           "parameters": "",
           "test_metrics": [],
           "test_sets": []
          }
         },
         "passed_iterations": 899,
         "total_iterations": 900
        },
        "name": "catboost_info",
        "path": "catboost_info"
       }
      },
      "layout": "IPY_MODEL_f1f8d34e606b4065b0a2d7653eee1dcd"
     }
    },
    "f1f8d34e606b4065b0a2d7653eee1dcd": {
     "model_module": "@jupyter-widgets/base",
     "model_name": "LayoutModel",
     "state": {
      "_model_module": "@jupyter-widgets/base",
      "_model_module_version": "1.2.0",
      "_model_name": "LayoutModel",
      "_view_count": null,
      "_view_module": "@jupyter-widgets/base",
      "_view_module_version": "1.2.0",
      "_view_name": "LayoutView",
      "align_content": null,
      "align_items": null,
      "align_self": "stretch",
      "border": null,
      "bottom": null,
      "display": null,
      "flex": null,
      "flex_flow": null,
      "grid_area": null,
      "grid_auto_columns": null,
      "grid_auto_flow": null,
      "grid_auto_rows": null,
      "grid_column": null,
      "grid_gap": null,
      "grid_row": null,
      "grid_template_areas": null,
      "grid_template_columns": null,
      "grid_template_rows": null,
      "height": "500px",
      "justify_content": null,
      "justify_items": null,
      "left": null,
      "margin": null,
      "max_height": null,
      "max_width": null,
      "min_height": null,
      "min_width": null,
      "object_fit": null,
      "object_position": null,
      "order": null,
      "overflow": null,
      "overflow_x": null,
      "overflow_y": null,
      "padding": null,
      "right": null,
      "top": null,
      "visibility": null,
      "width": null
     }
    }
   }
  }
 },
 "nbformat": 4,
 "nbformat_minor": 1
}
